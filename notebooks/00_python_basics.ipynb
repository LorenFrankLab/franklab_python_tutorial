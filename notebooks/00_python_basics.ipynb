{
 "cells": [
  {
   "cell_type": "markdown",
   "id": "f6c968cb-ba67-4e11-9fef-066b229fb03e",
   "metadata": {},
   "source": [
    "## Preliminaries\n",
    "\n",
    "If you want to follow along (and you should), please do the following in the command line:\n",
    "\n",
    "1. Download the repository:\n",
    "   ```git clone https://github.com/LorenFrankLab/franklab_python_tutorial.git```\n",
    "2. Change into `franklab_python_tutorial` folder:\n",
    "```cd franklab_python_tutorial```\n",
    "3. Create conda environment (installs packages into environment):\n",
    "```conda env create -f environment.yml```\n",
    "4. Activate the conda environment:\n",
    "```conda activate franklab_python_tutorial```\n",
    "5. Make it so you can change code in the repository folder and use it (**WARNING: note the period**):\n",
    "```pip install --editable .```\n",
    "6. Run jupyter lab:\n",
    "```jupyter lab```\n",
    "\n",
    "### What did we just do?\n",
    "\n",
    "1. We used `git` to download a folder (repository) full of the files we want from Github.\n",
    "    + Github is a service that allows you to store these folders \"in the cloud\" (aka on some other computer).\n",
    "    + `git` itself is a way to keep track of the changes in a repository folder and synchronize those changes made on other computers.\n",
    "2. We went into the `franklab_python_tutorial` folder.\n",
    "3. We used `conda` to create an environment from the `environment.yml` file located in the `franklab_python_tutorial` folder.\n",
    "    + An environment is an isolated container that you install software packages into.\n",
    "    + Python has many useful software packages made by other people that you want to use.\n",
    "    + The reason you use a container to hold these is that these software packages often rely on other software packages. Making sure these software packages play together well is a hard problem.\n",
    "    + I make an environment for each project I'm working on so that the software packages from one project don't interfere with the software packages from another project.\n",
    "    + `conda` is a software program that helps you manage these dependencies as well as environments. `pip` is another tool for installing software packages but it doesn't have environments. You can use pip to install software packages into conda environments.\n",
    "    + The `environment.yml` file is a convenient way of installing software packages we want to use like `python`, `numpy`, `scipy`. These packages don't have to be python based. The reason you would use an `environment.yml` instead of installing each package independently is that this allows `conda` to figure out all the dependencies together. If you did this serially (installing one after another), then `conda` has to figure out the dependencies based on what's previously installed each time and this can lead to a suboptimal configuration of packages.\n",
    "    + That being said, when working on a project you will inevitably have to install other packages you did not think of. You can do this by typing `conda install <package>` in the command line. You have to make sure this is in the activated environment (see below).\n",
    " 4. We activate the conda environment to tell the computer which environment we are using. By default there is the `base` environment which has one set of packages installed. To switch the environment we just created we run `conda activate franklab_python_tutorial`. We can switch back to the base environment by running `conda activate base`. If we want to look at which packages are in the environment, we can run `conda list` to see.\n",
    " 5. We want to be able to run and change code we put in the `franklab_python_tutorial` folder. Using `pip install .` alone installs `franklab_python_tutorial` and allows us to import and run the existing code. But if we want be able to change that code and see the updates without repeatedly running `pip install .` we use the `--editable` flag to say we want to be able to change the code. I have found very few cases where we don't want to be able to do this.\n",
    " 6. We started Jupyter Lab. Jupyter Lab is a way to write code that also has text and images. This code can be Julia, Python or R (Ju, Pyt, R).\n",
    "    + Importantly, **this is not the only way to write code for python and execute it** and should not be the only way you write code for python. It is convenient because it is interactive and allows you to prototype and explain things, but it can lead to bad code. More on this later.\n",
    "    + You can write text in Jupyter Lab by using the markdown syntax.\n",
    " \n",
    "## Python basics\n",
    "\n",
    "You can execute python code in Jupyter Lab by using SHIFT + ENTER. Or by selecting the cell and hitting the play button in the toolbar above.\n",
    "\n",
    "### Numbers\n",
    "\n",
    "In python you can assign variables with an equal sign. This is how you assign an **integer** (..., -2, -1, 0, 1, 2, ...) to a variable."
   ]
  },
  {
   "cell_type": "code",
   "execution_count": 13,
   "id": "6b94ce19-ffe4-4daa-b1d3-a5bf1c0933f8",
   "metadata": {},
   "outputs": [
    {
     "data": {
      "text/plain": [
       "1"
      ]
     },
     "execution_count": 13,
     "metadata": {},
     "output_type": "execute_result"
    }
   ],
   "source": [
    "x = 1\n",
    "x"
   ]
  },
  {
   "cell_type": "code",
   "execution_count": 17,
   "id": "04f7cad0-1463-4f21-9e5d-39ace3b2f5a9",
   "metadata": {},
   "outputs": [
    {
     "data": {
      "text/plain": [
       "int"
      ]
     },
     "execution_count": 17,
     "metadata": {},
     "output_type": "execute_result"
    }
   ],
   "source": [
    "type(x)"
   ]
  },
  {
   "cell_type": "markdown",
   "id": "a7bff7af-ff9e-4fee-b296-04d84cc8cfbd",
   "metadata": {},
   "source": [
    "You can even assign multiple variables in a single line"
   ]
  },
  {
   "cell_type": "code",
   "execution_count": 21,
   "id": "a7af58d8-4a65-46dd-bcae-ec5ebaacbbe7",
   "metadata": {},
   "outputs": [
    {
     "data": {
      "text/plain": [
       "1"
      ]
     },
     "execution_count": 21,
     "metadata": {},
     "output_type": "execute_result"
    }
   ],
   "source": [
    "x = y = 1\n",
    "\n",
    "y"
   ]
  },
  {
   "cell_type": "markdown",
   "id": "7a6866f1-3ab3-471a-aa5b-c66bb3734d72",
   "metadata": {},
   "source": [
    "We can do multiplication with this variable."
   ]
  },
  {
   "cell_type": "code",
   "execution_count": 14,
   "id": "c094d6d1-6d93-439d-951d-a177b85762df",
   "metadata": {},
   "outputs": [
    {
     "data": {
      "text/plain": [
       "3"
      ]
     },
     "execution_count": 14,
     "metadata": {},
     "output_type": "execute_result"
    }
   ],
   "source": [
    "x * 3"
   ]
  },
  {
   "cell_type": "code",
   "execution_count": 18,
   "id": "f0d1e160-2407-4455-81bf-0d6c2f502868",
   "metadata": {},
   "outputs": [
    {
     "data": {
      "text/plain": [
       "int"
      ]
     },
     "execution_count": 18,
     "metadata": {},
     "output_type": "execute_result"
    }
   ],
   "source": [
    "type(x * 3)"
   ]
  },
  {
   "cell_type": "markdown",
   "id": "ced7f244-c85b-49bd-91ef-46b24204776a",
   "metadata": {},
   "source": [
    "It is important to know whether you are working with floating point numbers or integers because sometimes operations can be different on them. A floating point number is a any number that is not an integer. They will be denoted by decimal points. These are special because a computer is digitial and cannot store these with infinite precision. For example, division always returns a float:"
   ]
  },
  {
   "cell_type": "code",
   "execution_count": 19,
   "id": "aeb83168-e7f5-49b7-a32d-d8b039195dad",
   "metadata": {},
   "outputs": [
    {
     "data": {
      "text/plain": [
       "0.3333333333333333"
      ]
     },
     "execution_count": 19,
     "metadata": {},
     "output_type": "execute_result"
    }
   ],
   "source": [
    "x / 3"
   ]
  },
  {
   "cell_type": "code",
   "execution_count": 20,
   "id": "429ed2e3-e10b-4c22-8ce6-25f32a7fcf09",
   "metadata": {},
   "outputs": [
    {
     "data": {
      "text/plain": [
       "float"
      ]
     },
     "execution_count": 20,
     "metadata": {},
     "output_type": "execute_result"
    }
   ],
   "source": [
    "type(x / 3)"
   ]
  },
  {
   "cell_type": "markdown",
   "id": "5f4f0005-4e77-46c0-97b7-06299f2d80b8",
   "metadata": {},
   "source": [
    "If you intend your number to be a float and it can be misconstrued as an integer, it is good practice to put the decimal point there"
   ]
  },
  {
   "cell_type": "code",
   "execution_count": 43,
   "id": "86d33ce6-215f-4089-adff-a119b264073f",
   "metadata": {},
   "outputs": [],
   "source": [
    "x = 3.0 # instead of x = 3"
   ]
  },
  {
   "cell_type": "code",
   "execution_count": 42,
   "id": "2b62790e-c9d3-4e60-a047-858f7e90244f",
   "metadata": {},
   "outputs": [
    {
     "data": {
      "text/plain": [
       "float"
      ]
     },
     "execution_count": 42,
     "metadata": {},
     "output_type": "execute_result"
    }
   ],
   "source": [
    "type(x)"
   ]
  },
  {
   "cell_type": "markdown",
   "id": "89ceb44e-6d9c-4713-835d-9fef5a532ab4",
   "metadata": {},
   "source": [
    "You can also do integer division with two forward slashes:"
   ]
  },
  {
   "cell_type": "code",
   "execution_count": 23,
   "id": "065da359-bf6b-4ea5-8fff-375a034bd147",
   "metadata": {},
   "outputs": [
    {
     "data": {
      "text/plain": [
       "0"
      ]
     },
     "execution_count": 23,
     "metadata": {},
     "output_type": "execute_result"
    }
   ],
   "source": [
    "x // 3"
   ]
  },
  {
   "cell_type": "code",
   "execution_count": 24,
   "id": "bfea2c4c-3512-49a5-a875-a51de57ad152",
   "metadata": {},
   "outputs": [
    {
     "data": {
      "text/plain": [
       "int"
      ]
     },
     "execution_count": 24,
     "metadata": {},
     "output_type": "execute_result"
    }
   ],
   "source": [
    "type(x // 3)"
   ]
  },
  {
   "cell_type": "markdown",
   "id": "92e1c07c-9685-4785-92ac-29d4a2c897d3",
   "metadata": {},
   "source": [
    "Here are some other useful math operations. In python comments are denoted with an octothorpe (`#`). `**` means exponentiation. Parenthesis can be used to group things"
   ]
  },
  {
   "cell_type": "code",
   "execution_count": 29,
   "id": "e5eac47f-b187-4431-af10-0cc1a93131f7",
   "metadata": {},
   "outputs": [
    {
     "data": {
      "text/plain": [
       "-7"
      ]
     },
     "execution_count": 29,
     "metadata": {},
     "output_type": "execute_result"
    }
   ],
   "source": [
    "1 - (x + 1) ** 3"
   ]
  },
  {
   "cell_type": "markdown",
   "id": "5f8a868d-0af5-4e34-b3f2-30ddd0b9ee8c",
   "metadata": {},
   "source": [
    "### Strings\n",
    "\n",
    "You can assign different types of variables to the same variable without declaring it. Here we use single or double quotation marks to indicate it is a string and not a number."
   ]
  },
  {
   "cell_type": "code",
   "execution_count": 31,
   "id": "bf0a56e8-4c29-47a9-97f1-d146e8c5f387",
   "metadata": {},
   "outputs": [
    {
     "data": {
      "text/plain": [
       "'a'"
      ]
     },
     "execution_count": 31,
     "metadata": {},
     "output_type": "execute_result"
    }
   ],
   "source": [
    "x = 'a'\n",
    "\n",
    "x"
   ]
  },
  {
   "cell_type": "markdown",
   "id": "85e27409-13d3-4d84-955b-69a979dd7cd8",
   "metadata": {},
   "source": [
    "You can concatenate two string variables with a `+`"
   ]
  },
  {
   "cell_type": "code",
   "execution_count": 33,
   "id": "4232aa62-fe5b-4f78-ab4b-8145739ee648",
   "metadata": {},
   "outputs": [
    {
     "data": {
      "text/plain": [
       "'ab'"
      ]
     },
     "execution_count": 33,
     "metadata": {},
     "output_type": "execute_result"
    }
   ],
   "source": [
    "x + 'b'"
   ]
  },
  {
   "cell_type": "markdown",
   "id": "87af67de-62ca-4b16-a1ea-fbb0d38740e9",
   "metadata": {},
   "source": [
    "Strings in parenthesis without commas will also be concatenated. This is helpful when breaking up long strings."
   ]
  },
  {
   "cell_type": "code",
   "execution_count": 37,
   "id": "4ce32975-676d-4db8-9627-2ea2cf119909",
   "metadata": {},
   "outputs": [
    {
     "data": {
      "text/plain": [
       "'Neuroscience (or neurobiology) is the scientific study of the nervous system. It is a multidisciplinary science that combines physiology, anatomy, molecular biology, developmental biology,cytology, computer science and mathematical modeling to understand the fundamental and emergent properties of neurons and neural circuits.'"
      ]
     },
     "execution_count": 37,
     "metadata": {},
     "output_type": "execute_result"
    }
   ],
   "source": [
    "('Neuroscience (or neurobiology) is the scientific study of the nervous system. It is a multidisciplinary science that combines physiology, anatomy, molecular biology, developmental biology'\n",
    " ',cytology, computer science and mathematical modeling to understand the fundamental and emergent properties of neurons and neural circuits.')"
   ]
  },
  {
   "cell_type": "markdown",
   "id": "05af1a59-de00-4822-aff1-a3a6c9dfda0b",
   "metadata": {},
   "source": [
    "There are also what as known as formatted strings ('f-strings'). These allow you to easily put variables in strings and enhance readability of the code. Use them:"
   ]
  },
  {
   "cell_type": "code",
   "execution_count": 38,
   "id": "d1acc7ee-ae3f-4f06-b8a2-40539adbad6f",
   "metadata": {},
   "outputs": [
    {
     "data": {
      "text/plain": [
       "'There are 3 chickens'"
      ]
     },
     "execution_count": 38,
     "metadata": {},
     "output_type": "execute_result"
    }
   ],
   "source": [
    "n_chickens = 3\n",
    "\n",
    "f'There are {n_chickens} chickens'"
   ]
  },
  {
   "cell_type": "markdown",
   "id": "5fbf2a51-9de5-4df0-a3aa-8d89cd3b3985",
   "metadata": {},
   "source": [
    "NOTE: by convention people use snake_case in python (underscore to separate words such as `n_chickens`). This is different from Matlab which conventionally uses camelCase. There a lot of conventions in python and it generally helps your code to be more readable and consistent to use them.\n",
    "\n",
    "You can also use format strings to format the variable. For example say we want four leading zeros."
   ]
  },
  {
   "cell_type": "code",
   "execution_count": 52,
   "id": "82975bbf-5e26-4e4b-a580-90ace725977a",
   "metadata": {},
   "outputs": [
    {
     "data": {
      "text/plain": [
       "'There are 0003 chickens'"
      ]
     },
     "execution_count": 52,
     "metadata": {},
     "output_type": "execute_result"
    }
   ],
   "source": [
    "f'There are {n_chickens:04d} chickens'"
   ]
  },
  {
   "cell_type": "markdown",
   "id": "4e4783e1-f3f4-443c-ba42-2b57710d1859",
   "metadata": {},
   "source": [
    "You can learn about other ways to do string formatting here: https://pyformat.info/\n",
    "\n",
    "\n",
    "There are a lot of built in functions for strings that come with python. They are handy to learn. Learn about them here: https://docs.python.org/3/library/string.html. Here are a couple:"
   ]
  },
  {
   "cell_type": "code",
   "execution_count": 53,
   "id": "7fcac3d9-acb0-4971-9b5a-bb1239296a51",
   "metadata": {},
   "outputs": [
    {
     "data": {
      "text/plain": [
       "'BROWN BEAR'"
      ]
     },
     "execution_count": 53,
     "metadata": {},
     "output_type": "execute_result"
    }
   ],
   "source": [
    "x = 'brown bear'\n",
    "\n",
    "x.upper()"
   ]
  },
  {
   "cell_type": "code",
   "execution_count": 54,
   "id": "a2301afa-9031-45ea-917c-1811064aa05d",
   "metadata": {},
   "outputs": [
    {
     "data": {
      "text/plain": [
       "'brown bear'"
      ]
     },
     "execution_count": 54,
     "metadata": {},
     "output_type": "execute_result"
    }
   ],
   "source": [
    "x.lower()"
   ]
  },
  {
   "cell_type": "code",
   "execution_count": 55,
   "id": "3810fe82-1f44-43c7-b85b-74afa887363a",
   "metadata": {},
   "outputs": [
    {
     "data": {
      "text/plain": [
       "'Brown Bear'"
      ]
     },
     "execution_count": 55,
     "metadata": {},
     "output_type": "execute_result"
    }
   ],
   "source": [
    "x.title()"
   ]
  },
  {
   "cell_type": "code",
   "execution_count": 57,
   "id": "b0af1892-d3c7-48d4-9d89-a012054b673c",
   "metadata": {},
   "outputs": [
    {
     "data": {
      "text/plain": [
       "False"
      ]
     },
     "execution_count": 57,
     "metadata": {},
     "output_type": "execute_result"
    }
   ],
   "source": [
    "x.startswith('fox')"
   ]
  },
  {
   "cell_type": "code",
   "execution_count": 58,
   "id": "89fa4885-ee0d-4c7f-8662-a103c0090ef3",
   "metadata": {},
   "outputs": [
    {
     "data": {
      "text/plain": [
       "True"
      ]
     },
     "execution_count": 58,
     "metadata": {},
     "output_type": "execute_result"
    }
   ],
   "source": [
    "x.endswith('bear')"
   ]
  },
  {
   "cell_type": "markdown",
   "id": "187b78bc-3660-4f77-a363-c3bd0449921e",
   "metadata": {},
   "source": [
    "### Booleans and Comparisons\n",
    "\n",
    "Notice that these last two introduce another data type: Booleans. Booleans are True or False. They are always capitalized in the first letter."
   ]
  },
  {
   "cell_type": "code",
   "execution_count": 60,
   "id": "b2920f5b-faec-41ec-94e5-67aaee5ebfba",
   "metadata": {},
   "outputs": [
    {
     "data": {
      "text/plain": [
       "bool"
      ]
     },
     "execution_count": 60,
     "metadata": {},
     "output_type": "execute_result"
    }
   ],
   "source": [
    "type(x.endswith('bear'))"
   ]
  },
  {
   "cell_type": "code",
   "execution_count": 61,
   "id": "a32db5f0-2ba6-4011-bd7b-fa1e5e864fc2",
   "metadata": {},
   "outputs": [
    {
     "data": {
      "text/plain": [
       "True"
      ]
     },
     "execution_count": 61,
     "metadata": {},
     "output_type": "execute_result"
    }
   ],
   "source": [
    "True or False"
   ]
  },
  {
   "cell_type": "code",
   "execution_count": 62,
   "id": "b6112e34-b65d-4712-aac0-35d0e304cd2d",
   "metadata": {},
   "outputs": [
    {
     "data": {
      "text/plain": [
       "False"
      ]
     },
     "execution_count": 62,
     "metadata": {},
     "output_type": "execute_result"
    }
   ],
   "source": [
    "True and False"
   ]
  },
  {
   "cell_type": "code",
   "execution_count": 63,
   "id": "225a00d1-7e38-4a2b-8b23-982e00cdbe9b",
   "metadata": {},
   "outputs": [
    {
     "data": {
      "text/plain": [
       "True"
      ]
     },
     "execution_count": 63,
     "metadata": {},
     "output_type": "execute_result"
    }
   ],
   "source": [
    "False or True"
   ]
  },
  {
   "cell_type": "code",
   "execution_count": 64,
   "id": "8e12a884-62ed-4309-9606-10025fe180b0",
   "metadata": {},
   "outputs": [
    {
     "data": {
      "text/plain": [
       "False"
      ]
     },
     "execution_count": 64,
     "metadata": {},
     "output_type": "execute_result"
    }
   ],
   "source": [
    "x = True\n",
    "\n",
    "not x"
   ]
  },
  {
   "cell_type": "code",
   "execution_count": 65,
   "id": "268dc8ba-1697-48c2-956c-3cc65601a76a",
   "metadata": {},
   "outputs": [
    {
     "data": {
      "text/plain": [
       "True"
      ]
     },
     "execution_count": 65,
     "metadata": {},
     "output_type": "execute_result"
    }
   ],
   "source": [
    "not x or x"
   ]
  },
  {
   "cell_type": "code",
   "execution_count": 69,
   "id": "60b9d7f3-4baa-4486-96e4-895120ada38c",
   "metadata": {},
   "outputs": [
    {
     "data": {
      "text/plain": [
       "True"
      ]
     },
     "execution_count": 69,
     "metadata": {},
     "output_type": "execute_result"
    }
   ],
   "source": [
    "'a' in 'Bear'"
   ]
  },
  {
   "cell_type": "code",
   "execution_count": 70,
   "id": "f465e3bf-eb61-4147-a08d-dd782a7a7a35",
   "metadata": {},
   "outputs": [
    {
     "data": {
      "text/plain": [
       "False"
      ]
     },
     "execution_count": 70,
     "metadata": {},
     "output_type": "execute_result"
    }
   ],
   "source": [
    "'c' in 'Bear'"
   ]
  },
  {
   "cell_type": "code",
   "execution_count": 71,
   "id": "73ececab-0b93-4536-b7d5-5d65a84d5161",
   "metadata": {},
   "outputs": [
    {
     "data": {
      "text/plain": [
       "False"
      ]
     },
     "execution_count": 71,
     "metadata": {},
     "output_type": "execute_result"
    }
   ],
   "source": [
    "'b' in 'Bear'"
   ]
  },
  {
   "cell_type": "code",
   "execution_count": null,
   "id": "615fd958-176b-486f-b325-3aff6e02d919",
   "metadata": {},
   "outputs": [],
   "source": []
  }
 ],
 "metadata": {
  "kernelspec": {
   "display_name": "Python [conda env:franklab_python_tutorial] *",
   "language": "python",
   "name": "conda-env-franklab_python_tutorial-py"
  },
  "language_info": {
   "codemirror_mode": {
    "name": "ipython",
    "version": 3
   },
   "file_extension": ".py",
   "mimetype": "text/x-python",
   "name": "python",
   "nbconvert_exporter": "python",
   "pygments_lexer": "ipython3",
   "version": "3.8.10"
  }
 },
 "nbformat": 4,
 "nbformat_minor": 5
}
