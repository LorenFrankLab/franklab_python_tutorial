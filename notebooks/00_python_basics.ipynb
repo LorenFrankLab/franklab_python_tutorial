{
 "cells": [
  {
   "cell_type": "markdown",
   "id": "f6c968cb-ba67-4e11-9fef-066b229fb03e",
   "metadata": {},
   "source": [
    "## Preliminaries\n",
    "\n",
    "If you want to follow along (and you should), please do the following in the command line:\n",
    "\n",
    "1. Download the repository:\n",
    "   ```git clone https://github.com/LorenFrankLab/franklab_python_tutorial.git```\n",
    "2. Change into `franklab_python_tutorial` folder:\n",
    "```cd franklab_python_tutorial```\n",
    "3. Create conda environment (installs packages into environment):\n",
    "```conda env create -f environment.yml```\n",
    "4. Activate the conda environment:\n",
    "```conda activate franklab_python_tutorial```\n",
    "5. Make it so you can change code in the repository folder and use it (**WARNING: note the period**):\n",
    "```pip install --editable .```\n",
    "6. Run jupyter lab:\n",
    "```jupyter lab```\n",
    "\n",
    "### What did we just do?\n",
    "\n",
    "1. We used `git` to download a folder (repository) full of the files we want from Github.\n",
    "    + Github is a service that allows you to store these folders \"in the cloud\" (aka on some other computer).\n",
    "    + `git` itself is a way to keep track of the changes in a repository folder and synchronize those changes made on other computers.\n",
    "2. We went into the `franklab_python_tutorial` folder.\n",
    "3. We used `conda` to create an environment from the `environment.yml` file located in the `franklab_python_tutorial` folder.\n",
    "    + An environment is an isolated container that you install software packages into.\n",
    "    + Python has many useful software packages made by other people that you want to use.\n",
    "    + The reason you use a container to hold these is that these software packages often rely on other software packages. Making sure these software packages play together well is a hard problem.\n",
    "    + I make an environment for each project I'm working on so that the software packages from one project don't interfere with the software packages from another project.\n",
    "    + `conda` is a software program that helps you manage these dependencies as well as environments. `pip` is another tool for installing software packages but it doesn't have environments. You can use pip to install software packages into conda environments.\n",
    "    + The `environment.yml` file is a convenient way of installing software packages we want to use like `python`, `numpy`, `scipy`. These packages don't have to be python based. The reason you would use an `environment.yml` instead of installing each package independently is that this allows `conda` to figure out all the dependencies together. If you did this serially (installing one after another), then `conda` has to figure out the dependencies based on what's previously installed each time and this can lead to a suboptimal configuration of packages.\n",
    "    + That being said, when working on a project you will inevitably have to install other packages you did not think of. You can do this by typing `conda install <package>` in the command line. You have to make sure this is in the activated environment (see below).\n",
    " 4. We activate the conda environment to tell the computer which environment we are using. By default there is the `base` environment which has one set of packages installed. To switch the environment we just created we run `conda activate franklab_python_tutorial`. We can switch back to the base environment by running `conda activate base`. If we want to look at which packages are in the environment, we can run `conda list` to see.\n",
    " 5. We want to be able to run and change code we put in the `franklab_python_tutorial` folder. Using `pip install .` alone installs `franklab_python_tutorial` using the `setup.py` file and allows us to import and run the existing code. But if we want be able to change that code and see the updates without repeatedly running `pip install .` we use the `--editable` flag to say we want to be able to change the code. I have found very few cases where we don't want to be able to do this.\n",
    " 6. We started Jupyter Lab -- a program in your browser that allows you to make jupyter notebooks. Jupyter notebooks are an interactive way to write code that also can have text, images, and plots. It is good for explanation and prototyping code. This code can be Julia, Python or R (Ju, Pyt, R).\n",
    "    + Importantly, **this is not the only way to write code for python and execute it** and should not be the only way you write code for python. It is convenient because it is interactive and allows you to prototype and explain things, but it can lead to bad code. More on this later.\n",
    "    \n",
    "## Jupyter Notebook basics\n",
    "You can execute python code in Jupyter Lab notebooks by using SHIFT + ENTER. Or by selecting the cell and hitting the play button in the toolbar above.\n",
    "\n",
    "**Warning**: You can execute code in cells in Jupyter Lab out of order. This can lead to variables being assigned a different thing than you intended. Good practice is to periodically run your notebooks from start to finish (or better yet, don't keep all your code in notebooks).\n",
    "\n",
    "## Python basics\n",
    "\n",
    "You can find a lot of this material at: https://docs.python.org/3/tutorial/\n",
    "\n",
    "### Numbers\n",
    "\n",
    "In python you can assign variables with an equal sign. This is how you assign an **integer** (..., -2, -1, 0, 1, 2, ...) to a variable."
   ]
  },
  {
   "cell_type": "code",
   "execution_count": 1,
   "id": "6b94ce19-ffe4-4daa-b1d3-a5bf1c0933f8",
   "metadata": {},
   "outputs": [
    {
     "data": {
      "text/plain": [
       "1"
      ]
     },
     "execution_count": 1,
     "metadata": {},
     "output_type": "execute_result"
    }
   ],
   "source": [
    "x = 1\n",
    "x"
   ]
  },
  {
   "cell_type": "code",
   "execution_count": 2,
   "id": "04f7cad0-1463-4f21-9e5d-39ace3b2f5a9",
   "metadata": {},
   "outputs": [
    {
     "data": {
      "text/plain": [
       "int"
      ]
     },
     "execution_count": 2,
     "metadata": {},
     "output_type": "execute_result"
    }
   ],
   "source": [
    "type(x)"
   ]
  },
  {
   "cell_type": "markdown",
   "id": "7985cc81-8999-449d-b4f6-c74d9ca0a3fd",
   "metadata": {},
   "source": [
    "You can even assign multiple variables in a single line"
   ]
  },
  {
   "cell_type": "code",
   "execution_count": 3,
   "id": "a7af58d8-4a65-46dd-bcae-ec5ebaacbbe7",
   "metadata": {},
   "outputs": [
    {
     "data": {
      "text/plain": [
       "1"
      ]
     },
     "execution_count": 3,
     "metadata": {},
     "output_type": "execute_result"
    }
   ],
   "source": [
    "x = y = 1\n",
    "\n",
    "y"
   ]
  },
  {
   "cell_type": "markdown",
   "id": "7a6866f1-3ab3-471a-aa5b-c66bb3734d72",
   "metadata": {},
   "source": [
    "We can do multiplication with this variable."
   ]
  },
  {
   "cell_type": "code",
   "execution_count": 4,
   "id": "c094d6d1-6d93-439d-951d-a177b85762df",
   "metadata": {},
   "outputs": [
    {
     "data": {
      "text/plain": [
       "3"
      ]
     },
     "execution_count": 4,
     "metadata": {},
     "output_type": "execute_result"
    }
   ],
   "source": [
    "x * 3"
   ]
  },
  {
   "cell_type": "code",
   "execution_count": 5,
   "id": "f0d1e160-2407-4455-81bf-0d6c2f502868",
   "metadata": {},
   "outputs": [
    {
     "data": {
      "text/plain": [
       "int"
      ]
     },
     "execution_count": 5,
     "metadata": {},
     "output_type": "execute_result"
    }
   ],
   "source": [
    "type(x * 3)"
   ]
  },
  {
   "cell_type": "markdown",
   "id": "ced7f244-c85b-49bd-91ef-46b24204776a",
   "metadata": {},
   "source": [
    "It is important to know whether you are working with floating point numbers or integers because sometimes operations can be different on them. A floating point number is a any number that is not an integer. They will be denoted by decimal points. These are special because a computer is digitial and cannot store these with infinite precision. For example, division always returns a float:"
   ]
  },
  {
   "cell_type": "code",
   "execution_count": 6,
   "id": "aeb83168-e7f5-49b7-a32d-d8b039195dad",
   "metadata": {},
   "outputs": [
    {
     "data": {
      "text/plain": [
       "0.3333333333333333"
      ]
     },
     "execution_count": 6,
     "metadata": {},
     "output_type": "execute_result"
    }
   ],
   "source": [
    "x / 3"
   ]
  },
  {
   "cell_type": "code",
   "execution_count": 7,
   "id": "429ed2e3-e10b-4c22-8ce6-25f32a7fcf09",
   "metadata": {},
   "outputs": [
    {
     "data": {
      "text/plain": [
       "float"
      ]
     },
     "execution_count": 7,
     "metadata": {},
     "output_type": "execute_result"
    }
   ],
   "source": [
    "type(x / 3)"
   ]
  },
  {
   "cell_type": "markdown",
   "id": "5f4f0005-4e77-46c0-97b7-06299f2d80b8",
   "metadata": {},
   "source": [
    "If you intend your number to be a float and it can be misconstrued as an integer, it is good practice to put the decimal point there"
   ]
  },
  {
   "cell_type": "code",
   "execution_count": 8,
   "id": "86d33ce6-215f-4089-adff-a119b264073f",
   "metadata": {},
   "outputs": [],
   "source": [
    "x = 3.0 # instead of x = 3"
   ]
  },
  {
   "cell_type": "code",
   "execution_count": 9,
   "id": "2b62790e-c9d3-4e60-a047-858f7e90244f",
   "metadata": {},
   "outputs": [
    {
     "data": {
      "text/plain": [
       "float"
      ]
     },
     "execution_count": 9,
     "metadata": {},
     "output_type": "execute_result"
    }
   ],
   "source": [
    "type(x)"
   ]
  },
  {
   "cell_type": "markdown",
   "id": "89ceb44e-6d9c-4713-835d-9fef5a532ab4",
   "metadata": {},
   "source": [
    "You can also do integer division with two forward slashes:"
   ]
  },
  {
   "cell_type": "code",
   "execution_count": 10,
   "id": "065da359-bf6b-4ea5-8fff-375a034bd147",
   "metadata": {},
   "outputs": [
    {
     "data": {
      "text/plain": [
       "1.0"
      ]
     },
     "execution_count": 10,
     "metadata": {},
     "output_type": "execute_result"
    }
   ],
   "source": [
    "x // 3"
   ]
  },
  {
   "cell_type": "code",
   "execution_count": 11,
   "id": "bfea2c4c-3512-49a5-a875-a51de57ad152",
   "metadata": {},
   "outputs": [
    {
     "data": {
      "text/plain": [
       "float"
      ]
     },
     "execution_count": 11,
     "metadata": {},
     "output_type": "execute_result"
    }
   ],
   "source": [
    "type(x // 3)"
   ]
  },
  {
   "cell_type": "markdown",
   "id": "92e1c07c-9685-4785-92ac-29d4a2c897d3",
   "metadata": {},
   "source": [
    "Here are some other useful math operations. In python comments are denoted with an octothorpe (`#`). `**` means exponentiation. Parenthesis can be used to group things"
   ]
  },
  {
   "cell_type": "code",
   "execution_count": 12,
   "id": "e5eac47f-b187-4431-af10-0cc1a93131f7",
   "metadata": {},
   "outputs": [
    {
     "data": {
      "text/plain": [
       "-63.0"
      ]
     },
     "execution_count": 12,
     "metadata": {},
     "output_type": "execute_result"
    }
   ],
   "source": [
    "1 - (x + 1) ** 3"
   ]
  },
  {
   "cell_type": "markdown",
   "id": "5f8a868d-0af5-4e34-b3f2-30ddd0b9ee8c",
   "metadata": {},
   "source": [
    "### Strings\n",
    "\n",
    "You can assign different types of variables to the same variable without declaring it. Here we use single or double quotation marks to indicate it is a string and not a number."
   ]
  },
  {
   "cell_type": "code",
   "execution_count": 13,
   "id": "bf0a56e8-4c29-47a9-97f1-d146e8c5f387",
   "metadata": {},
   "outputs": [
    {
     "data": {
      "text/plain": [
       "'a'"
      ]
     },
     "execution_count": 13,
     "metadata": {},
     "output_type": "execute_result"
    }
   ],
   "source": [
    "x = 'a'\n",
    "\n",
    "x"
   ]
  },
  {
   "cell_type": "markdown",
   "id": "85e27409-13d3-4d84-955b-69a979dd7cd8",
   "metadata": {},
   "source": [
    "You can concatenate two string variables with a `+`"
   ]
  },
  {
   "cell_type": "code",
   "execution_count": 14,
   "id": "4232aa62-fe5b-4f78-ab4b-8145739ee648",
   "metadata": {},
   "outputs": [
    {
     "data": {
      "text/plain": [
       "'ab'"
      ]
     },
     "execution_count": 14,
     "metadata": {},
     "output_type": "execute_result"
    }
   ],
   "source": [
    "x + 'b'"
   ]
  },
  {
   "cell_type": "markdown",
   "id": "87af67de-62ca-4b16-a1ea-fbb0d38740e9",
   "metadata": {},
   "source": [
    "Strings in parenthesis without commas will also be concatenated. This is helpful when breaking up long strings."
   ]
  },
  {
   "cell_type": "code",
   "execution_count": 15,
   "id": "4ce32975-676d-4db8-9627-2ea2cf119909",
   "metadata": {},
   "outputs": [
    {
     "data": {
      "text/plain": [
       "'Neuroscience (or neurobiology) is the scientific study of the nervous system. It is a multidisciplinary science that combines physiology, anatomy, molecular biology, developmental biology,cytology, computer science and mathematical modeling to understand the fundamental and emergent properties of neurons and neural circuits.'"
      ]
     },
     "execution_count": 15,
     "metadata": {},
     "output_type": "execute_result"
    }
   ],
   "source": [
    "('Neuroscience (or neurobiology) is the scientific study of the nervous system. It is a multidisciplinary science that combines physiology, anatomy, molecular biology, developmental biology'\n",
    " ',cytology, computer science and mathematical modeling to understand the fundamental and emergent properties of neurons and neural circuits.')"
   ]
  },
  {
   "cell_type": "markdown",
   "id": "05af1a59-de00-4822-aff1-a3a6c9dfda0b",
   "metadata": {},
   "source": [
    "There are also what as known as formatted strings ('f-strings'). These allow you to easily put variables in strings and enhance readability of the code. Use them:"
   ]
  },
  {
   "cell_type": "code",
   "execution_count": 16,
   "id": "d1acc7ee-ae3f-4f06-b8a2-40539adbad6f",
   "metadata": {},
   "outputs": [
    {
     "data": {
      "text/plain": [
       "'There are 3 chickens'"
      ]
     },
     "execution_count": 16,
     "metadata": {},
     "output_type": "execute_result"
    }
   ],
   "source": [
    "n_chickens = 3\n",
    "\n",
    "f'There are {n_chickens} chickens'"
   ]
  },
  {
   "cell_type": "markdown",
   "id": "5fbf2a51-9de5-4df0-a3aa-8d89cd3b3985",
   "metadata": {},
   "source": [
    "NOTE: by convention people use snake_case in python (underscore to separate words such as `n_chickens`) except for classes. This is different from Matlab which conventionally uses camelCase. There a lot of conventions in python and it generally helps your code to be more readable and consistent to use them.\n",
    "\n",
    "You can also use format strings to format the variable. For example say we want four leading zeros."
   ]
  },
  {
   "cell_type": "code",
   "execution_count": 17,
   "id": "82975bbf-5e26-4e4b-a580-90ace725977a",
   "metadata": {},
   "outputs": [
    {
     "data": {
      "text/plain": [
       "'There are 0003 chickens'"
      ]
     },
     "execution_count": 17,
     "metadata": {},
     "output_type": "execute_result"
    }
   ],
   "source": [
    "f'There are {n_chickens:04d} chickens'"
   ]
  },
  {
   "cell_type": "markdown",
   "id": "4e4783e1-f3f4-443c-ba42-2b57710d1859",
   "metadata": {},
   "source": [
    "You can learn about other ways to do string formatting here: https://pyformat.info/\n",
    "\n",
    "\n",
    "There are a lot of built in functions for strings that come with python. They are handy to learn. Learn about them here: https://docs.python.org/3/library/string.html. Here are a couple:"
   ]
  },
  {
   "cell_type": "code",
   "execution_count": 18,
   "id": "7fcac3d9-acb0-4971-9b5a-bb1239296a51",
   "metadata": {},
   "outputs": [
    {
     "data": {
      "text/plain": [
       "'BROWN BEAR'"
      ]
     },
     "execution_count": 18,
     "metadata": {},
     "output_type": "execute_result"
    }
   ],
   "source": [
    "x = 'brown bear'\n",
    "\n",
    "x.upper()"
   ]
  },
  {
   "cell_type": "code",
   "execution_count": 19,
   "id": "a2301afa-9031-45ea-917c-1811064aa05d",
   "metadata": {},
   "outputs": [
    {
     "data": {
      "text/plain": [
       "'brown bear'"
      ]
     },
     "execution_count": 19,
     "metadata": {},
     "output_type": "execute_result"
    }
   ],
   "source": [
    "x.lower()"
   ]
  },
  {
   "cell_type": "code",
   "execution_count": 20,
   "id": "3810fe82-1f44-43c7-b85b-74afa887363a",
   "metadata": {},
   "outputs": [
    {
     "data": {
      "text/plain": [
       "'Brown Bear'"
      ]
     },
     "execution_count": 20,
     "metadata": {},
     "output_type": "execute_result"
    }
   ],
   "source": [
    "x.title()"
   ]
  },
  {
   "cell_type": "code",
   "execution_count": 21,
   "id": "b0af1892-d3c7-48d4-9d89-a012054b673c",
   "metadata": {},
   "outputs": [
    {
     "data": {
      "text/plain": [
       "False"
      ]
     },
     "execution_count": 21,
     "metadata": {},
     "output_type": "execute_result"
    }
   ],
   "source": [
    "x.startswith('fox')"
   ]
  },
  {
   "cell_type": "code",
   "execution_count": 22,
   "id": "89fa4885-ee0d-4c7f-8662-a103c0090ef3",
   "metadata": {},
   "outputs": [
    {
     "data": {
      "text/plain": [
       "True"
      ]
     },
     "execution_count": 22,
     "metadata": {},
     "output_type": "execute_result"
    }
   ],
   "source": [
    "x.endswith('bear')"
   ]
  },
  {
   "cell_type": "markdown",
   "id": "187b78bc-3660-4f77-a363-c3bd0449921e",
   "metadata": {},
   "source": [
    "### Booleans and Comparisons\n",
    "\n",
    "Notice that these last two introduce another data type: Booleans. Booleans are True or False. They are always capitalized in the first letter."
   ]
  },
  {
   "cell_type": "code",
   "execution_count": 23,
   "id": "b2920f5b-faec-41ec-94e5-67aaee5ebfba",
   "metadata": {},
   "outputs": [
    {
     "data": {
      "text/plain": [
       "bool"
      ]
     },
     "execution_count": 23,
     "metadata": {},
     "output_type": "execute_result"
    }
   ],
   "source": [
    "type(x.endswith('bear'))"
   ]
  },
  {
   "cell_type": "code",
   "execution_count": 24,
   "id": "a32db5f0-2ba6-4011-bd7b-fa1e5e864fc2",
   "metadata": {},
   "outputs": [
    {
     "data": {
      "text/plain": [
       "True"
      ]
     },
     "execution_count": 24,
     "metadata": {},
     "output_type": "execute_result"
    }
   ],
   "source": [
    "True or False"
   ]
  },
  {
   "cell_type": "code",
   "execution_count": 25,
   "id": "b6112e34-b65d-4712-aac0-35d0e304cd2d",
   "metadata": {},
   "outputs": [
    {
     "data": {
      "text/plain": [
       "False"
      ]
     },
     "execution_count": 25,
     "metadata": {},
     "output_type": "execute_result"
    }
   ],
   "source": [
    "True and False"
   ]
  },
  {
   "cell_type": "code",
   "execution_count": 26,
   "id": "225a00d1-7e38-4a2b-8b23-982e00cdbe9b",
   "metadata": {},
   "outputs": [
    {
     "data": {
      "text/plain": [
       "True"
      ]
     },
     "execution_count": 26,
     "metadata": {},
     "output_type": "execute_result"
    }
   ],
   "source": [
    "False or True"
   ]
  },
  {
   "cell_type": "code",
   "execution_count": 27,
   "id": "8e12a884-62ed-4309-9606-10025fe180b0",
   "metadata": {},
   "outputs": [
    {
     "data": {
      "text/plain": [
       "False"
      ]
     },
     "execution_count": 27,
     "metadata": {},
     "output_type": "execute_result"
    }
   ],
   "source": [
    "x = True\n",
    "\n",
    "not x"
   ]
  },
  {
   "cell_type": "code",
   "execution_count": 28,
   "id": "268dc8ba-1697-48c2-956c-3cc65601a76a",
   "metadata": {},
   "outputs": [
    {
     "data": {
      "text/plain": [
       "True"
      ]
     },
     "execution_count": 28,
     "metadata": {},
     "output_type": "execute_result"
    }
   ],
   "source": [
    "not x or x"
   ]
  },
  {
   "cell_type": "code",
   "execution_count": 29,
   "id": "60b9d7f3-4baa-4486-96e4-895120ada38c",
   "metadata": {},
   "outputs": [
    {
     "data": {
      "text/plain": [
       "True"
      ]
     },
     "execution_count": 29,
     "metadata": {},
     "output_type": "execute_result"
    }
   ],
   "source": [
    "'a' in 'Bear'"
   ]
  },
  {
   "cell_type": "code",
   "execution_count": 30,
   "id": "f465e3bf-eb61-4147-a08d-dd782a7a7a35",
   "metadata": {},
   "outputs": [
    {
     "data": {
      "text/plain": [
       "False"
      ]
     },
     "execution_count": 30,
     "metadata": {},
     "output_type": "execute_result"
    }
   ],
   "source": [
    "'c' in 'Bear'"
   ]
  },
  {
   "cell_type": "code",
   "execution_count": 31,
   "id": "73ececab-0b93-4536-b7d5-5d65a84d5161",
   "metadata": {},
   "outputs": [
    {
     "data": {
      "text/plain": [
       "False"
      ]
     },
     "execution_count": 31,
     "metadata": {},
     "output_type": "execute_result"
    }
   ],
   "source": [
    "'b' in 'Bear'"
   ]
  },
  {
   "cell_type": "markdown",
   "id": "d1595b0c-7485-4fea-9fd3-427065532ad6",
   "metadata": {},
   "source": [
    "## Data Structures\n",
    "\n",
    "A data structure is an object that can contain other python objects. This includes numbers, strings, functions, and even other data structures. Basically they are ways to group things.\n",
    "\n",
    "There are four main data structures:\n",
    "1. Lists\n",
    "2. Tuples\n",
    "3. Dictionaries\n",
    "4. Sets\n",
    "\n",
    "\n",
    "### Lists\n",
    "\n",
    "Lists are the most generic type of data structure. For example here is a list that contains numbers:"
   ]
  },
  {
   "cell_type": "code",
   "execution_count": 32,
   "id": "c1928896-aff0-434a-a7db-2a413cd384ef",
   "metadata": {},
   "outputs": [
    {
     "data": {
      "text/plain": [
       "[1, 4, 9, 16, 25]"
      ]
     },
     "execution_count": 32,
     "metadata": {},
     "output_type": "execute_result"
    }
   ],
   "source": [
    "squares = [1, 4, 9, 16, 25]\n",
    "squares"
   ]
  },
  {
   "cell_type": "markdown",
   "id": "2e675ae0-c2e8-4675-aba9-debe4c32c0a0",
   "metadata": {},
   "source": [
    "It can also contain letters or even numbers and letters"
   ]
  },
  {
   "cell_type": "code",
   "execution_count": 33,
   "id": "6e5f0691-63d1-44b2-8b50-cceaf34fa1e8",
   "metadata": {},
   "outputs": [
    {
     "data": {
      "text/plain": [
       "['a', 'b', 'c']"
      ]
     },
     "execution_count": 33,
     "metadata": {},
     "output_type": "execute_result"
    }
   ],
   "source": [
    "letters = ['a', 'b', 'c']\n",
    "letters"
   ]
  },
  {
   "cell_type": "code",
   "execution_count": 34,
   "id": "93dd86dd-f1c0-4c84-a28d-b72379ccf358",
   "metadata": {},
   "outputs": [
    {
     "data": {
      "text/plain": [
       "[1, 'a', 2]"
      ]
     },
     "execution_count": 34,
     "metadata": {},
     "output_type": "execute_result"
    }
   ],
   "source": [
    "letters_and_numbers = [1, 'a', 2]\n",
    "\n",
    "letters_and_numbers"
   ]
  },
  {
   "cell_type": "code",
   "execution_count": 35,
   "id": "f72de49a-3780-40e6-ac07-64c98d430592",
   "metadata": {},
   "outputs": [
    {
     "data": {
      "text/plain": [
       "[int, str, int]"
      ]
     },
     "execution_count": 35,
     "metadata": {},
     "output_type": "execute_result"
    }
   ],
   "source": [
    "[type(element) for element in letters_and_numbers]"
   ]
  },
  {
   "cell_type": "markdown",
   "id": "74e9f917-cc31-48c8-8b94-fe9d7d8472a0",
   "metadata": {},
   "source": [
    "You can access elements of the list by using an index **which starts from zero**. For example this is the first element:"
   ]
  },
  {
   "cell_type": "code",
   "execution_count": 36,
   "id": "d4ec8bb4-71f0-4c26-bdcd-689bd4c62277",
   "metadata": {},
   "outputs": [
    {
     "data": {
      "text/plain": [
       "1"
      ]
     },
     "execution_count": 36,
     "metadata": {},
     "output_type": "execute_result"
    }
   ],
   "source": [
    "letters_and_numbers[0]"
   ]
  },
  {
   "cell_type": "markdown",
   "id": "8f80e7ac-5431-4257-b40d-8193fa432e08",
   "metadata": {},
   "source": [
    "And second element:"
   ]
  },
  {
   "cell_type": "code",
   "execution_count": 37,
   "id": "62c5b543-b07c-4069-918f-85b82e6b3b9a",
   "metadata": {},
   "outputs": [
    {
     "data": {
      "text/plain": [
       "'a'"
      ]
     },
     "execution_count": 37,
     "metadata": {},
     "output_type": "execute_result"
    }
   ],
   "source": [
    "letters_and_numbers[1]"
   ]
  },
  {
   "cell_type": "markdown",
   "id": "21b07711-9d0d-4cfd-97b6-fa437184684f",
   "metadata": {},
   "source": [
    "You can also access elements of the list counting from the end. In Matlab, this is like the `end` statement. For example this is the last element of the list:"
   ]
  },
  {
   "cell_type": "code",
   "execution_count": 38,
   "id": "7269d3fc-3e79-4d22-a321-f8d68493fa40",
   "metadata": {},
   "outputs": [
    {
     "data": {
      "text/plain": [
       "2"
      ]
     },
     "execution_count": 38,
     "metadata": {},
     "output_type": "execute_result"
    }
   ],
   "source": [
    "letters_and_numbers[-1]"
   ]
  },
  {
   "cell_type": "markdown",
   "id": "ae656254-8225-4c1d-9421-37cb867d912c",
   "metadata": {},
   "source": [
    "And the second to last number:"
   ]
  },
  {
   "cell_type": "code",
   "execution_count": 39,
   "id": "cc4708cc-2ad0-4c98-8da3-4643d301a525",
   "metadata": {},
   "outputs": [
    {
     "data": {
      "text/plain": [
       "'a'"
      ]
     },
     "execution_count": 39,
     "metadata": {},
     "output_type": "execute_result"
    }
   ],
   "source": [
    "letters_and_numbers[-2]"
   ]
  },
  {
   "cell_type": "code",
   "execution_count": 40,
   "id": "6dc2c4e1-f5fe-4c2d-8f8f-a9c2ad257b7b",
   "metadata": {},
   "outputs": [
    {
     "data": {
      "text/plain": [
       "True"
      ]
     },
     "execution_count": 40,
     "metadata": {},
     "output_type": "execute_result"
    }
   ],
   "source": [
    "letters_and_numbers[-2] == letters_and_numbers[1]"
   ]
  },
  {
   "cell_type": "code",
   "execution_count": 41,
   "id": "f67ca9b8-fc50-48db-a5f1-d0e9ce1d1582",
   "metadata": {},
   "outputs": [
    {
     "data": {
      "text/plain": [
       "True"
      ]
     },
     "execution_count": 41,
     "metadata": {},
     "output_type": "execute_result"
    }
   ],
   "source": [
    "letters_and_numbers[-3] == letters_and_numbers[0]"
   ]
  },
  {
   "cell_type": "code",
   "execution_count": 42,
   "id": "0c79fbd0-694a-43c6-9179-c183a517a9f9",
   "metadata": {},
   "outputs": [
    {
     "data": {
      "text/plain": [
       "True"
      ]
     },
     "execution_count": 42,
     "metadata": {},
     "output_type": "execute_result"
    }
   ],
   "source": [
    "letters_and_numbers[-1] == letters_and_numbers[2]"
   ]
  },
  {
   "cell_type": "markdown",
   "id": "85d316fe-5c23-472d-ab03-5163e526c88e",
   "metadata": {},
   "source": [
    "We can figure out the length of a list by using the `len` function:"
   ]
  },
  {
   "cell_type": "code",
   "execution_count": 43,
   "id": "d66aaa95-030d-4807-9cfd-98fa6fb5cf0b",
   "metadata": {},
   "outputs": [
    {
     "data": {
      "text/plain": [
       "3"
      ]
     },
     "execution_count": 43,
     "metadata": {},
     "output_type": "execute_result"
    }
   ],
   "source": [
    "len(letters_and_numbers)"
   ]
  },
  {
   "cell_type": "markdown",
   "id": "b067a182-ae47-493a-b6da-84603167d1ad",
   "metadata": {},
   "source": [
    "We can check if something is in the list by using `in`"
   ]
  },
  {
   "cell_type": "code",
   "execution_count": 44,
   "id": "f0f5044a-f094-4976-8cc9-b6e50afa1f93",
   "metadata": {},
   "outputs": [
    {
     "data": {
      "text/plain": [
       "True"
      ]
     },
     "execution_count": 44,
     "metadata": {},
     "output_type": "execute_result"
    }
   ],
   "source": [
    "'a' in letters_and_numbers"
   ]
  },
  {
   "cell_type": "markdown",
   "id": "4934235c-cb3f-4814-90ea-208027cd650c",
   "metadata": {},
   "source": [
    "We can also \"slice\" lists, meaning we can access a subset of a list. We do this by using list[start:stop:step] where `start` is the beginning of slice index, `stop` is the last slice index + 1, and `step` is the size of the step to take inbetween start and stop.\n",
    "\n",
    "**The key point is the stop value represents the first value that is not in the selected slice**\n",
    "\n",
    "For example, if we only want the first two elements of the list, the index is 0 and 1 so if we set start=0, stop=2, and step=1:"
   ]
  },
  {
   "cell_type": "code",
   "execution_count": 45,
   "id": "68788f0c-51de-4681-a367-4cb2b952c65a",
   "metadata": {},
   "outputs": [
    {
     "data": {
      "text/plain": [
       "[1, 'a']"
      ]
     },
     "execution_count": 45,
     "metadata": {},
     "output_type": "execute_result"
    }
   ],
   "source": [
    "letters_and_numbers[0:2:1]"
   ]
  },
  {
   "cell_type": "markdown",
   "id": "2994cf01-ede9-4984-ad88-f18ec3c89acd",
   "metadata": {},
   "source": [
    "Let's say we want every other element of the list aka indices 0 and 2. Then we want start=0, stop=3, and step=2:"
   ]
  },
  {
   "cell_type": "code",
   "execution_count": 46,
   "id": "d3a9a32a-3791-47d7-b148-f993d993da98",
   "metadata": {},
   "outputs": [
    {
     "data": {
      "text/plain": [
       "[1, 2]"
      ]
     },
     "execution_count": 46,
     "metadata": {},
     "output_type": "execute_result"
    }
   ],
   "source": [
    "letters_and_numbers[0:3:2]"
   ]
  },
  {
   "cell_type": "markdown",
   "id": "47b27b82-2517-4b4d-8047-00da9ba91f0f",
   "metadata": {},
   "source": [
    "Another feature is that we can use `None` to denote the last index of the array. For example"
   ]
  },
  {
   "cell_type": "code",
   "execution_count": 47,
   "id": "3c3a7bce-14de-41c7-936c-5a06a7fa88d1",
   "metadata": {},
   "outputs": [
    {
     "data": {
      "text/plain": [
       "[1, 2]"
      ]
     },
     "execution_count": 47,
     "metadata": {},
     "output_type": "execute_result"
    }
   ],
   "source": [
    "letters_and_numbers[None:None:2]"
   ]
  },
  {
   "cell_type": "markdown",
   "id": "21b20bb2-01ba-4cee-9e3a-184fcd1b64ee",
   "metadata": {},
   "source": [
    "Another allowable shorthand instead of using `None` is simply omitting it."
   ]
  },
  {
   "cell_type": "code",
   "execution_count": 48,
   "id": "cb848542-b518-4657-8458-87ca7ec6924e",
   "metadata": {},
   "outputs": [
    {
     "data": {
      "text/plain": [
       "[1, 2]"
      ]
     },
     "execution_count": 48,
     "metadata": {},
     "output_type": "execute_result"
    }
   ],
   "source": [
    "letters_and_numbers[::2]"
   ]
  },
  {
   "cell_type": "markdown",
   "id": "95d74c49-3bc3-4796-98c7-b2a8e5d0ae80",
   "metadata": {},
   "source": [
    "You can also do this for stop or start:"
   ]
  },
  {
   "cell_type": "code",
   "execution_count": 49,
   "id": "eb0cb69b-7d3f-4f5d-a2e6-0fc9a55266b7",
   "metadata": {},
   "outputs": [
    {
     "data": {
      "text/plain": [
       "[1, 'a']"
      ]
     },
     "execution_count": 49,
     "metadata": {},
     "output_type": "execute_result"
    }
   ],
   "source": [
    "letters_and_numbers[:2:]"
   ]
  },
  {
   "cell_type": "code",
   "execution_count": 50,
   "id": "9e2a138e-e9ee-4451-b8b9-c7b7768737d5",
   "metadata": {},
   "outputs": [
    {
     "data": {
      "text/plain": [
       "[2]"
      ]
     },
     "execution_count": 50,
     "metadata": {},
     "output_type": "execute_result"
    }
   ],
   "source": [
    "letters_and_numbers[2::]"
   ]
  },
  {
   "cell_type": "markdown",
   "id": "cb4a3a37-a1bd-4841-b40c-3b31bf7c67be",
   "metadata": {},
   "source": [
    "An even further shorthand leaves out the step at the end:"
   ]
  },
  {
   "cell_type": "code",
   "execution_count": 51,
   "id": "58e1ad95-e6ac-4e94-9c68-921e5cf2ce12",
   "metadata": {},
   "outputs": [
    {
     "data": {
      "text/plain": [
       "[1, 'a']"
      ]
     },
     "execution_count": 51,
     "metadata": {},
     "output_type": "execute_result"
    }
   ],
   "source": [
    "letters_and_numbers[:2]"
   ]
  },
  {
   "cell_type": "code",
   "execution_count": 52,
   "id": "8af25b69-4e32-4a26-bbaa-d3c931d9d9c2",
   "metadata": {},
   "outputs": [
    {
     "data": {
      "text/plain": [
       "[2]"
      ]
     },
     "execution_count": 52,
     "metadata": {},
     "output_type": "execute_result"
    }
   ],
   "source": [
    "letters_and_numbers[2:]"
   ]
  },
  {
   "cell_type": "markdown",
   "id": "32a804a4-1edb-4a49-b37d-5b5971108d16",
   "metadata": {},
   "source": [
    "We can also make the step negative. Let's set step=-1:"
   ]
  },
  {
   "cell_type": "code",
   "execution_count": 53,
   "id": "78afe96d-9022-404a-9c6d-6e3d8becdafc",
   "metadata": {},
   "outputs": [
    {
     "data": {
      "text/plain": [
       "[2, 'a', 1]"
      ]
     },
     "execution_count": 53,
     "metadata": {},
     "output_type": "execute_result"
    }
   ],
   "source": [
    "letters_and_numbers[::-1]"
   ]
  },
  {
   "cell_type": "markdown",
   "id": "eeda29c3-6a1b-404b-8b6e-7910d83935fd",
   "metadata": {},
   "source": [
    "We can see that this reverses the list. This is equivalent to:"
   ]
  },
  {
   "cell_type": "code",
   "execution_count": 54,
   "id": "c4f95790-c3a2-4a05-8557-47592dc22a0d",
   "metadata": {},
   "outputs": [
    {
     "data": {
      "text/plain": [
       "[2, 'a', 1]"
      ]
     },
     "execution_count": 54,
     "metadata": {},
     "output_type": "execute_result"
    }
   ],
   "source": [
    "letters_and_numbers[3:-4:-1]"
   ]
  },
  {
   "cell_type": "markdown",
   "id": "d0086e73-3440-4ed7-8d5d-abca5b696e54",
   "metadata": {},
   "source": [
    "Or more generally:"
   ]
  },
  {
   "cell_type": "code",
   "execution_count": 55,
   "id": "4ec4b8e3-2ed5-41f5-9d4e-5d22d492f43a",
   "metadata": {},
   "outputs": [
    {
     "data": {
      "text/plain": [
       "[2, 'a', 1]"
      ]
     },
     "execution_count": 55,
     "metadata": {},
     "output_type": "execute_result"
    }
   ],
   "source": [
    "n_letters_and_numbers = len(letters_and_numbers)\n",
    "\n",
    "letters_and_numbers[n_letters_and_numbers:-n_letters_and_numbers-1:-1]"
   ]
  },
  {
   "cell_type": "markdown",
   "id": "097a7aad-8bda-4f91-bd8d-c39a49d6945d",
   "metadata": {},
   "source": [
    "One last handy thing to know about is the `slice` object, which is equivalent to the list[start:stop:step] notation."
   ]
  },
  {
   "cell_type": "code",
   "execution_count": 56,
   "id": "00151d64-b2c8-4627-917a-5a36ce42fc56",
   "metadata": {},
   "outputs": [
    {
     "data": {
      "text/plain": [
       "[1, 'a']"
      ]
     },
     "execution_count": 56,
     "metadata": {},
     "output_type": "execute_result"
    }
   ],
   "source": [
    "letters_and_numbers[slice(0, 2, 1)]"
   ]
  },
  {
   "cell_type": "markdown",
   "id": "530d30ba-8158-4e6d-b8ed-572276cc6c76",
   "metadata": {},
   "source": [
    "For more information on slicing and how it works, see: https://stackoverflow.com/questions/509211/understanding-slice-notation\n",
    "\n",
    "**Another key feature of lists is that they are mutable**. This means that you can change a list after you have created it, which includes making it longer or changing a particular element in the list."
   ]
  },
  {
   "cell_type": "code",
   "execution_count": 57,
   "id": "10fbed10-12ae-4336-96df-9dd8fd7d8e43",
   "metadata": {},
   "outputs": [
    {
     "data": {
      "text/plain": [
       "[1, 'a', 2]"
      ]
     },
     "execution_count": 57,
     "metadata": {},
     "output_type": "execute_result"
    }
   ],
   "source": [
    "letters_and_numbers"
   ]
  },
  {
   "cell_type": "code",
   "execution_count": 58,
   "id": "20df629a-f71c-4999-8690-6f239f7d2fc4",
   "metadata": {},
   "outputs": [
    {
     "data": {
      "text/plain": [
       "[1, 'b', 2]"
      ]
     },
     "execution_count": 58,
     "metadata": {},
     "output_type": "execute_result"
    }
   ],
   "source": [
    "letters_and_numbers[1] = 'b'\n",
    "letters_and_numbers"
   ]
  },
  {
   "cell_type": "markdown",
   "id": "e697b584-f95e-492f-ae91-bb3a15efaf6f",
   "metadata": {},
   "source": [
    "You can even use slicing to change a list"
   ]
  },
  {
   "cell_type": "code",
   "execution_count": 59,
   "id": "2b9d0beb-93fb-4ec1-8004-24af1a2e9590",
   "metadata": {},
   "outputs": [
    {
     "data": {
      "text/plain": [
       "[1, 'a', 2]"
      ]
     },
     "execution_count": 59,
     "metadata": {},
     "output_type": "execute_result"
    }
   ],
   "source": [
    "letters_and_numbers[:2] = [1, 'a']\n",
    "letters_and_numbers"
   ]
  },
  {
   "cell_type": "markdown",
   "id": "967d5f01-5847-416b-800f-cbd2baab9db1",
   "metadata": {},
   "source": [
    "You can also add elements to the end of the list"
   ]
  },
  {
   "cell_type": "code",
   "execution_count": 60,
   "id": "86a82a52-0c54-499e-8f7d-eeef7034f993",
   "metadata": {},
   "outputs": [
    {
     "data": {
      "text/plain": [
       "[1, 'a', 2, 'c']"
      ]
     },
     "execution_count": 60,
     "metadata": {},
     "output_type": "execute_result"
    }
   ],
   "source": [
    "letters_and_numbers.append('c')\n",
    "letters_and_numbers"
   ]
  },
  {
   "cell_type": "markdown",
   "id": "daf21630-189b-4902-b634-41f813fb467d",
   "metadata": {},
   "source": [
    "You can even append another list"
   ]
  },
  {
   "cell_type": "code",
   "execution_count": 61,
   "id": "5bbb80f4-ab43-4c47-8fef-f46abd4e9b6b",
   "metadata": {},
   "outputs": [
    {
     "data": {
      "text/plain": [
       "[1, 'a', 2, 'c', ['j', 'f', 'k']]"
      ]
     },
     "execution_count": 61,
     "metadata": {},
     "output_type": "execute_result"
    }
   ],
   "source": [
    "letters_and_numbers.append(['j', 'f', 'k'])\n",
    "letters_and_numbers"
   ]
  },
  {
   "cell_type": "code",
   "execution_count": 62,
   "id": "058b1193-d51a-4f16-a738-1c993621de13",
   "metadata": {},
   "outputs": [
    {
     "data": {
      "text/plain": [
       "\u001b[0;31mSignature:\u001b[0m \u001b[0mletters_and_numbers\u001b[0m\u001b[0;34m.\u001b[0m\u001b[0minsert\u001b[0m\u001b[0;34m(\u001b[0m\u001b[0mindex\u001b[0m\u001b[0;34m,\u001b[0m \u001b[0mobject\u001b[0m\u001b[0;34m,\u001b[0m \u001b[0;34m/\u001b[0m\u001b[0;34m)\u001b[0m\u001b[0;34m\u001b[0m\u001b[0;34m\u001b[0m\u001b[0m\n",
       "\u001b[0;31mDocstring:\u001b[0m Insert object before index.\n",
       "\u001b[0;31mType:\u001b[0m      builtin_function_or_method\n"
      ]
     },
     "metadata": {},
     "output_type": "display_data"
    }
   ],
   "source": [
    "letters_and_numbers.insert?"
   ]
  },
  {
   "cell_type": "code",
   "execution_count": 63,
   "id": "540574e6-eac0-44ed-9e60-3672016589a0",
   "metadata": {},
   "outputs": [
    {
     "data": {
      "text/plain": [
       "[1, 'b', 'a', 2, 'c', ['j', 'f', 'k']]"
      ]
     },
     "execution_count": 63,
     "metadata": {},
     "output_type": "execute_result"
    }
   ],
   "source": [
    "letters_and_numbers.insert(1, 'b')\n",
    "letters_and_numbers"
   ]
  },
  {
   "cell_type": "markdown",
   "id": "83012002-203c-4f16-bb58-cdaf0bc974c5",
   "metadata": {},
   "source": [
    "We can also concatenate lists using the `+` operator:"
   ]
  },
  {
   "cell_type": "code",
   "execution_count": 64,
   "id": "cc36e5ef-b90d-4ef0-8c55-6b69b9407b73",
   "metadata": {},
   "outputs": [
    {
     "data": {
      "text/plain": [
       "[1, 2, 3, 'a', 'b', 'c']"
      ]
     },
     "execution_count": 64,
     "metadata": {},
     "output_type": "execute_result"
    }
   ],
   "source": [
    "[1, 2, 3] + ['a', 'b', 'c']"
   ]
  },
  {
   "cell_type": "markdown",
   "id": "65d3d44a-f6ac-48ea-b6ad-5ed95ccf1c90",
   "metadata": {},
   "source": [
    "You can also *unpack* one list into another using the `*` operator:"
   ]
  },
  {
   "cell_type": "code",
   "execution_count": 65,
   "id": "514a7e4e-e91f-4285-a076-3b5398333174",
   "metadata": {},
   "outputs": [
    {
     "data": {
      "text/plain": [
       "['blah', 1, 2, 3]"
      ]
     },
     "execution_count": 65,
     "metadata": {},
     "output_type": "execute_result"
    }
   ],
   "source": [
    "a = [1, 2, 3]\n",
    "\n",
    "['blah', *a]"
   ]
  },
  {
   "cell_type": "markdown",
   "id": "a85124da-55f8-41f2-8a44-a7879803f797",
   "metadata": {},
   "source": [
    "### Tuples\n",
    "\n",
    "Tuples are just like lists but you can't change them once they are created. This can be good if you don't intend for the data to be changed and slightly faster/memory efficient. For example, a tuple of numbers is created with a comma separating the two elements:"
   ]
  },
  {
   "cell_type": "code",
   "execution_count": 66,
   "id": "9098ea3d-68ca-45b9-b364-07e1330bf8e1",
   "metadata": {},
   "outputs": [
    {
     "data": {
      "text/plain": [
       "(1, 2)"
      ]
     },
     "execution_count": 66,
     "metadata": {},
     "output_type": "execute_result"
    }
   ],
   "source": [
    "a = (1, 2)\n",
    "a"
   ]
  },
  {
   "cell_type": "markdown",
   "id": "eb60f78e-3383-4401-a849-96a64d580d8f",
   "metadata": {},
   "source": [
    "**Note that you do not have to have the parenthesis. They are there by convention and for visual convenience.**\n",
    "\n",
    "This also works:"
   ]
  },
  {
   "cell_type": "code",
   "execution_count": 67,
   "id": "c2dfc738-a3c4-4504-85e3-9bc13dd7827e",
   "metadata": {},
   "outputs": [
    {
     "data": {
      "text/plain": [
       "(1, 2)"
      ]
     },
     "execution_count": 67,
     "metadata": {},
     "output_type": "execute_result"
    }
   ],
   "source": [
    "a = 1, 2\n",
    "a"
   ]
  },
  {
   "cell_type": "markdown",
   "id": "ba884f37-4c5a-443d-87c5-770d9329ded7",
   "metadata": {},
   "source": [
    "This can trip you up if you accidentally put in a comma somewhere because you will create a tuple, e.g.:"
   ]
  },
  {
   "cell_type": "code",
   "execution_count": 68,
   "id": "70b3ac3a-c50a-4cd2-802b-1e3ac6141e6c",
   "metadata": {},
   "outputs": [
    {
     "data": {
      "text/plain": [
       "(1,)"
      ]
     },
     "execution_count": 68,
     "metadata": {},
     "output_type": "execute_result"
    }
   ],
   "source": [
    "a = 1,\n",
    "a"
   ]
  },
  {
   "cell_type": "markdown",
   "id": "1968518f-3860-4c7e-9ffa-3a0347a9d3db",
   "metadata": {},
   "source": [
    "Tuples cannot be changed once they are created:"
   ]
  },
  {
   "cell_type": "code",
   "execution_count": 149,
   "id": "12fa63f4-1245-4015-a2e7-f76be7aae141",
   "metadata": {},
   "outputs": [
    {
     "ename": "TypeError",
     "evalue": "'tuple' object does not support item assignment",
     "output_type": "error",
     "traceback": [
      "\u001b[0;31m---------------------------------------------------------------------------\u001b[0m",
      "\u001b[0;31mTypeError\u001b[0m                                 Traceback (most recent call last)",
      "\u001b[0;32m<ipython-input-149-728790123ea2>\u001b[0m in \u001b[0;36m<module>\u001b[0;34m\u001b[0m\n\u001b[1;32m      1\u001b[0m \u001b[0mb\u001b[0m \u001b[0;34m=\u001b[0m \u001b[0;36m1\u001b[0m\u001b[0;34m,\u001b[0m \u001b[0;36m5\u001b[0m\u001b[0;34m,\u001b[0m \u001b[0;36m7\u001b[0m\u001b[0;34m\u001b[0m\u001b[0;34m\u001b[0m\u001b[0m\n\u001b[1;32m      2\u001b[0m \u001b[0;34m\u001b[0m\u001b[0m\n\u001b[0;32m----> 3\u001b[0;31m \u001b[0mb\u001b[0m\u001b[0;34m[\u001b[0m\u001b[0;36m1\u001b[0m\u001b[0;34m]\u001b[0m \u001b[0;34m=\u001b[0m \u001b[0;36m3\u001b[0m\u001b[0;34m\u001b[0m\u001b[0;34m\u001b[0m\u001b[0m\n\u001b[0m",
      "\u001b[0;31mTypeError\u001b[0m: 'tuple' object does not support item assignment"
     ]
    }
   ],
   "source": [
    "b = 1, 5, 7\n",
    "\n",
    "b[1] = 3"
   ]
  },
  {
   "cell_type": "markdown",
   "id": "10f2a2d4-6c73-454c-82f0-448767ab1d26",
   "metadata": {},
   "source": [
    "Like lists, tuples can hold anything as an element including another list or tuple:"
   ]
  },
  {
   "cell_type": "code",
   "execution_count": 70,
   "id": "6ac8f721-ea46-4de5-b8e2-8da1f9d573d2",
   "metadata": {},
   "outputs": [
    {
     "data": {
      "text/plain": [
       "((1, 2, 3), 'a', [4, 5, 6])"
      ]
     },
     "execution_count": 70,
     "metadata": {},
     "output_type": "execute_result"
    }
   ],
   "source": [
    "c = (1, 2, 3), 'a', [4, 5, 6]\n",
    "c"
   ]
  },
  {
   "cell_type": "markdown",
   "id": "3ac3a4fd-35b8-4267-b6ad-015876991706",
   "metadata": {},
   "source": [
    "You can index into tuples just like lists:"
   ]
  },
  {
   "cell_type": "code",
   "execution_count": 71,
   "id": "9dba2ae6-996e-4bf4-9569-94143db9a47f",
   "metadata": {},
   "outputs": [
    {
     "data": {
      "text/plain": [
       "[4, 5, 6]"
      ]
     },
     "execution_count": 71,
     "metadata": {},
     "output_type": "execute_result"
    }
   ],
   "source": [
    "c[2]"
   ]
  },
  {
   "cell_type": "code",
   "execution_count": 72,
   "id": "3832295e-f80c-4cc5-bfd0-f55bcbfd5146",
   "metadata": {},
   "outputs": [
    {
     "data": {
      "text/plain": [
       "(1, 2, 3)"
      ]
     },
     "execution_count": 72,
     "metadata": {},
     "output_type": "execute_result"
    }
   ],
   "source": [
    "c[0]"
   ]
  },
  {
   "cell_type": "code",
   "execution_count": 73,
   "id": "953bd03c-ae3c-4ff6-993a-3f00b48beddf",
   "metadata": {},
   "outputs": [
    {
     "data": {
      "text/plain": [
       "'a'"
      ]
     },
     "execution_count": 73,
     "metadata": {},
     "output_type": "execute_result"
    }
   ],
   "source": [
    "c[1]"
   ]
  },
  {
   "cell_type": "markdown",
   "id": "e870ac42-a32f-4b21-952b-4d8544165721",
   "metadata": {},
   "source": [
    "We can also use tuples to assign variables individually"
   ]
  },
  {
   "cell_type": "code",
   "execution_count": 74,
   "id": "fe820f4c-c8ba-4a79-9130-f55acdb0eee3",
   "metadata": {},
   "outputs": [],
   "source": [
    "a, b = 1, 2"
   ]
  },
  {
   "cell_type": "code",
   "execution_count": 75,
   "id": "7617d608-bd50-45d6-bb04-8ab46a5c80cf",
   "metadata": {},
   "outputs": [
    {
     "data": {
      "text/plain": [
       "1"
      ]
     },
     "execution_count": 75,
     "metadata": {},
     "output_type": "execute_result"
    }
   ],
   "source": [
    "a"
   ]
  },
  {
   "cell_type": "code",
   "execution_count": 76,
   "id": "ed3b6d92-93b6-4e17-b7d2-b4cbfd33e2ad",
   "metadata": {},
   "outputs": [
    {
     "data": {
      "text/plain": [
       "2"
      ]
     },
     "execution_count": 76,
     "metadata": {},
     "output_type": "execute_result"
    }
   ],
   "source": [
    "b"
   ]
  },
  {
   "cell_type": "markdown",
   "id": "d4e47f15-8892-43aa-befb-bf6da3f72e14",
   "metadata": {},
   "source": [
    "Or even swap things"
   ]
  },
  {
   "cell_type": "code",
   "execution_count": 77,
   "id": "0febeb28-e90d-43a1-b6f2-9cce3180ce28",
   "metadata": {},
   "outputs": [
    {
     "data": {
      "text/plain": [
       "(4, 3)"
      ]
     },
     "execution_count": 77,
     "metadata": {},
     "output_type": "execute_result"
    }
   ],
   "source": [
    "x, y = 3, 4\n",
    "\n",
    "a, b = y, x\n",
    "\n",
    "a, b"
   ]
  },
  {
   "cell_type": "markdown",
   "id": "5fceb394-dff6-43a0-ae71-b3e472d5da5d",
   "metadata": {},
   "source": [
    "### Dictionaries\n",
    "\n",
    "A dictionary consists of two elements: a key and a value. The key is like an unordered index, where you give it the key and the dictionary returns the value (instead of giving it an index). Keys and values can be anything immutable (numbers, strings, tuples containing immutable things). Dictionaries are constructed like so:"
   ]
  },
  {
   "cell_type": "code",
   "execution_count": 78,
   "id": "b3ec7a12-bd8a-463e-8075-96a4a768e373",
   "metadata": {},
   "outputs": [
    {
     "data": {
      "text/plain": [
       "{'n_frogs': 3, 'n_bats': 2}"
      ]
     },
     "execution_count": 78,
     "metadata": {},
     "output_type": "execute_result"
    }
   ],
   "source": [
    "n_animals = {'n_frogs': 3, 'n_bats': 2}\n",
    "\n",
    "n_animals"
   ]
  },
  {
   "cell_type": "markdown",
   "id": "d55a9dd9-f4e5-444d-b07a-5e1d06aa4899",
   "metadata": {},
   "source": [
    "Items in a dictionary can be accessed by giving the key"
   ]
  },
  {
   "cell_type": "code",
   "execution_count": 79,
   "id": "df1d96b3-3971-476e-ab67-b11a2b9922a3",
   "metadata": {},
   "outputs": [
    {
     "data": {
      "text/plain": [
       "2"
      ]
     },
     "execution_count": 79,
     "metadata": {},
     "output_type": "execute_result"
    }
   ],
   "source": [
    "n_animals['n_bats']"
   ]
  },
  {
   "cell_type": "markdown",
   "id": "5295d313-3946-4317-a0fd-eb3da5f156fe",
   "metadata": {},
   "source": [
    "You can also initalize a dictionary this way:"
   ]
  },
  {
   "cell_type": "code",
   "execution_count": 80,
   "id": "2c78ee40-5251-4f2b-a0a6-e3dba47a620d",
   "metadata": {},
   "outputs": [
    {
     "data": {
      "text/plain": [
       "{'n_frogs': 3, 'n_bats': 2}"
      ]
     },
     "execution_count": 80,
     "metadata": {},
     "output_type": "execute_result"
    }
   ],
   "source": [
    "n_animals2 = dict(n_frogs=3, n_bats=2)\n",
    "n_animals2"
   ]
  },
  {
   "cell_type": "markdown",
   "id": "509e899f-4ba6-4b84-900b-edd862e8a02c",
   "metadata": {},
   "source": [
    "You can add key, value pairs to a dictionary:"
   ]
  },
  {
   "cell_type": "code",
   "execution_count": 81,
   "id": "60bfbf92-44be-4162-bdc5-0c892176096d",
   "metadata": {},
   "outputs": [
    {
     "data": {
      "text/plain": [
       "{'n_frogs': 3, 'n_bats': 2, 'n_rats': 30}"
      ]
     },
     "execution_count": 81,
     "metadata": {},
     "output_type": "execute_result"
    }
   ],
   "source": [
    "n_animals['n_rats'] = 30\n",
    "n_animals"
   ]
  },
  {
   "cell_type": "markdown",
   "id": "a0446865-6de8-4066-952b-7b55af5c47e9",
   "metadata": {},
   "source": [
    "As well as remove key, value pairs"
   ]
  },
  {
   "cell_type": "code",
   "execution_count": 82,
   "id": "7069e780-f060-42e0-99e1-338438dcb637",
   "metadata": {},
   "outputs": [
    {
     "data": {
      "text/plain": [
       "{'n_frogs': 3, 'n_rats': 30}"
      ]
     },
     "execution_count": 82,
     "metadata": {},
     "output_type": "execute_result"
    }
   ],
   "source": [
    "n_animals.pop('n_bats')\n",
    "n_animals"
   ]
  },
  {
   "cell_type": "markdown",
   "id": "65c35189-61d9-4a46-ab17-1fe5b6b5f451",
   "metadata": {},
   "source": [
    "We can check which keys are in the dictionary by using `in`"
   ]
  },
  {
   "cell_type": "code",
   "execution_count": 83,
   "id": "0424979b-e2f8-4de6-bdcb-ef672726b1af",
   "metadata": {},
   "outputs": [
    {
     "data": {
      "text/plain": [
       "False"
      ]
     },
     "execution_count": 83,
     "metadata": {},
     "output_type": "execute_result"
    }
   ],
   "source": [
    "'n_bats' in n_animals"
   ]
  },
  {
   "cell_type": "code",
   "execution_count": 84,
   "id": "d640bbdd-11ed-401b-a95c-bc4c7a30614c",
   "metadata": {},
   "outputs": [
    {
     "data": {
      "text/plain": [
       "True"
      ]
     },
     "execution_count": 84,
     "metadata": {},
     "output_type": "execute_result"
    }
   ],
   "source": [
    "'n_rats' in n_animals"
   ]
  },
  {
   "cell_type": "markdown",
   "id": "2c14c867-7154-4276-ba3b-8a71c24026a9",
   "metadata": {},
   "source": [
    "We can list the keys by converting the dictionary to a `list` or `tuple` or simply using the `keys` method."
   ]
  },
  {
   "cell_type": "code",
   "execution_count": 85,
   "id": "2f172024-612d-45c2-bb56-660eeec2555c",
   "metadata": {},
   "outputs": [
    {
     "data": {
      "text/plain": [
       "['n_frogs', 'n_rats']"
      ]
     },
     "execution_count": 85,
     "metadata": {},
     "output_type": "execute_result"
    }
   ],
   "source": [
    "list(n_animals)"
   ]
  },
  {
   "cell_type": "code",
   "execution_count": 86,
   "id": "6c6e8bae-95f1-44f7-b24b-d486a7e508a6",
   "metadata": {},
   "outputs": [
    {
     "data": {
      "text/plain": [
       "('n_frogs', 'n_rats')"
      ]
     },
     "execution_count": 86,
     "metadata": {},
     "output_type": "execute_result"
    }
   ],
   "source": [
    "tuple(n_animals)"
   ]
  },
  {
   "cell_type": "code",
   "execution_count": 87,
   "id": "2ee64ad1-e4a3-4ba7-899e-a6d3b6b5e8a4",
   "metadata": {},
   "outputs": [
    {
     "data": {
      "text/plain": [
       "dict_keys(['n_frogs', 'n_rats'])"
      ]
     },
     "execution_count": 87,
     "metadata": {},
     "output_type": "execute_result"
    }
   ],
   "source": [
    "n_animals.keys()"
   ]
  },
  {
   "cell_type": "markdown",
   "id": "dfe9ee90-b965-4f1d-87e4-6b54438a82b7",
   "metadata": {},
   "source": [
    "We can use the `values` method to get the values of the dictionary:"
   ]
  },
  {
   "cell_type": "code",
   "execution_count": 88,
   "id": "ba14eb17-9841-4ea9-9449-9e88f74bef61",
   "metadata": {},
   "outputs": [
    {
     "data": {
      "text/plain": [
       "dict_values([3, 30])"
      ]
     },
     "execution_count": 88,
     "metadata": {},
     "output_type": "execute_result"
    }
   ],
   "source": [
    "n_animals.values()"
   ]
  },
  {
   "cell_type": "markdown",
   "id": "a1030a65-5965-4a95-9ade-1047cdb5d7ab",
   "metadata": {},
   "source": [
    "Or `items` to get both a key and a value pair as a tuple"
   ]
  },
  {
   "cell_type": "code",
   "execution_count": 89,
   "id": "ca5b82db-aec6-47aa-80cc-2aae8d563a38",
   "metadata": {},
   "outputs": [
    {
     "data": {
      "text/plain": [
       "dict_items([('n_frogs', 3), ('n_rats', 30)])"
      ]
     },
     "execution_count": 89,
     "metadata": {},
     "output_type": "execute_result"
    }
   ],
   "source": [
    "n_animals.items()"
   ]
  },
  {
   "cell_type": "markdown",
   "id": "cedda684-4224-4c5f-ac5d-6cc088f607ad",
   "metadata": {},
   "source": [
    "### Sets\n",
    "\n",
    "Finally, there is a data structure called sets. Sets are not ordered and cannot contain duplicate entries. The syntax for sets looks very similar to dictionaries so be forewarned."
   ]
  },
  {
   "cell_type": "code",
   "execution_count": 90,
   "id": "9cdad7b7-cb46-4738-bd5c-f387afd405c5",
   "metadata": {},
   "outputs": [
    {
     "data": {
      "text/plain": [
       "{'a', 'b'}"
      ]
     },
     "execution_count": 90,
     "metadata": {},
     "output_type": "execute_result"
    }
   ],
   "source": [
    "{'a', 'b', 'a'}"
   ]
  },
  {
   "cell_type": "markdown",
   "id": "e6cebc20-a798-433e-9512-eb1a0e2c5b5a",
   "metadata": {},
   "source": [
    "Sets are not used that often but they can be useful for finding intersections and unions."
   ]
  },
  {
   "cell_type": "code",
   "execution_count": 91,
   "id": "91a29701-4cb9-4f22-a416-73a91e019114",
   "metadata": {},
   "outputs": [],
   "source": [
    "animals = {'cat', 'bear', 'dog', 'pig'}\n",
    "annoying_animals = {'cat'}\n",
    "fat_animals = {'panda'}"
   ]
  },
  {
   "cell_type": "markdown",
   "id": "f6e5aefe-d359-49fd-83f4-d291bcb7b40e",
   "metadata": {},
   "source": [
    "The union of the two sets (everything uniquely in both sets)"
   ]
  },
  {
   "cell_type": "code",
   "execution_count": 92,
   "id": "dddf6180-d342-481b-968b-3144886ca987",
   "metadata": {},
   "outputs": [
    {
     "data": {
      "text/plain": [
       "{'bear', 'cat', 'dog', 'pig'}"
      ]
     },
     "execution_count": 92,
     "metadata": {},
     "output_type": "execute_result"
    }
   ],
   "source": [
    "animals | annoying_animals"
   ]
  },
  {
   "cell_type": "code",
   "execution_count": 93,
   "id": "342ab5fd-b0b8-4d84-af42-2caf577eca10",
   "metadata": {},
   "outputs": [
    {
     "data": {
      "text/plain": [
       "{'bear', 'cat', 'dog', 'panda', 'pig'}"
      ]
     },
     "execution_count": 93,
     "metadata": {},
     "output_type": "execute_result"
    }
   ],
   "source": [
    "animals | fat_animals"
   ]
  },
  {
   "cell_type": "markdown",
   "id": "e134cab6-e409-4709-a891-69ef8c714f32",
   "metadata": {},
   "source": [
    "The intersection of the two sets (everything shared between the sets)"
   ]
  },
  {
   "cell_type": "code",
   "execution_count": 94,
   "id": "fd90d795-d4e1-43c5-b1fa-30118fa4e3df",
   "metadata": {},
   "outputs": [
    {
     "data": {
      "text/plain": [
       "{'cat'}"
      ]
     },
     "execution_count": 94,
     "metadata": {},
     "output_type": "execute_result"
    }
   ],
   "source": [
    "animals & annoying_animals"
   ]
  },
  {
   "cell_type": "code",
   "execution_count": 95,
   "id": "4f62a8cd-755a-4b4b-96e4-a73870152aa1",
   "metadata": {},
   "outputs": [
    {
     "data": {
      "text/plain": [
       "set()"
      ]
     },
     "execution_count": 95,
     "metadata": {},
     "output_type": "execute_result"
    }
   ],
   "source": [
    "animals & fat_animals"
   ]
  },
  {
   "cell_type": "markdown",
   "id": "c18f421b-75cb-4768-af67-d66d2c780f91",
   "metadata": {},
   "source": [
    "## Control Flow (for, if, else)\n",
    "\n",
    "\n",
    "### For Loops\n",
    "One of the more common things you will need to do is to loop through variables. This is done with a `for` statement.\n",
    "\n",
    "**Key thing: Indentation matters in python. You should use 4 spaces per indentation level.**\n",
    "\n",
    "Here is how you can loop over a list"
   ]
  },
  {
   "cell_type": "code",
   "execution_count": 96,
   "id": "8c3edf4f-c632-49d3-99e1-fa248a519de0",
   "metadata": {},
   "outputs": [
    {
     "name": "stdout",
     "output_type": "stream",
     "text": [
      "a\n",
      "b\n",
      "c\n",
      "d\n",
      "e\n"
     ]
    }
   ],
   "source": [
    "letters = ['a', 'b', 'c', 'd', 'e'] # list of letters\n",
    "\n",
    "for letter in letters:\n",
    "    print(letter)"
   ]
  },
  {
   "cell_type": "markdown",
   "id": "16d43d34-63c3-4998-85e0-a51e0d2ed977",
   "metadata": {},
   "source": [
    "If you do not indent you will get an error"
   ]
  },
  {
   "cell_type": "code",
   "execution_count": 148,
   "id": "4aaf9d0e-6b9c-430a-83fa-30650d4f4a1a",
   "metadata": {},
   "outputs": [
    {
     "ename": "IndentationError",
     "evalue": "expected an indented block (<ipython-input-148-f7b174667ece>, line 2)",
     "output_type": "error",
     "traceback": [
      "\u001b[0;36m  File \u001b[0;32m\"<ipython-input-148-f7b174667ece>\"\u001b[0;36m, line \u001b[0;32m2\u001b[0m\n\u001b[0;31m    print(letter)\u001b[0m\n\u001b[0m    ^\u001b[0m\n\u001b[0;31mIndentationError\u001b[0m\u001b[0;31m:\u001b[0m expected an indented block\n"
     ]
    }
   ],
   "source": [
    "for letter in letters:\n",
    "print(letter)"
   ]
  },
  {
   "cell_type": "markdown",
   "id": "6cff0181-7dab-44ab-9a1a-c1b20b5ef048",
   "metadata": {},
   "source": [
    "Here is how you loop over a dictionary. Notice that looping over a dictionary only gives you the keys."
   ]
  },
  {
   "cell_type": "code",
   "execution_count": 98,
   "id": "b76af37b-cc55-41f2-a7ac-26f3396dadba",
   "metadata": {},
   "outputs": [
    {
     "name": "stdout",
     "output_type": "stream",
     "text": [
      "n_frogs\n",
      "n_bats\n"
     ]
    }
   ],
   "source": [
    "n_animals = {'n_frogs': 3, 'n_bats': 2}\n",
    "\n",
    "for animal in n_animals:\n",
    "    print(animal)"
   ]
  },
  {
   "cell_type": "markdown",
   "id": "129af1ef-35d7-4974-9b19-ec878d3a8c81",
   "metadata": {},
   "source": [
    "You can also loop over keys and values. Notice that by looping over items, we get a key and value as a tuple"
   ]
  },
  {
   "cell_type": "code",
   "execution_count": 99,
   "id": "712fb14f-4dd8-4576-8d11-1a9ff0ae4d60",
   "metadata": {},
   "outputs": [
    {
     "name": "stdout",
     "output_type": "stream",
     "text": [
      "('n_frogs', 3)\n",
      "('n_bats', 2)\n"
     ]
    }
   ],
   "source": [
    "n_animals = {'n_frogs': 3, 'n_bats': 2}\n",
    "\n",
    "for animal in n_animals.items():\n",
    "    print(animal)"
   ]
  },
  {
   "cell_type": "markdown",
   "id": "03467136-2c19-4e8e-835b-e0695035de79",
   "metadata": {},
   "source": [
    "We can assign each of these tuple elements to a variable:"
   ]
  },
  {
   "cell_type": "code",
   "execution_count": 100,
   "id": "dbc943ec-2c9d-46df-af74-17b50f9088a4",
   "metadata": {},
   "outputs": [
    {
     "name": "stdout",
     "output_type": "stream",
     "text": [
      "n_frogs\n",
      "3\n",
      "n_bats\n",
      "2\n"
     ]
    }
   ],
   "source": [
    "n_animals = {'n_frogs': 3, 'n_bats': 2}\n",
    "\n",
    "for animal, count in n_animals.items():\n",
    "    print(animal)\n",
    "    print(count)"
   ]
  },
  {
   "cell_type": "markdown",
   "id": "902d5870-6a8f-44f4-9ebf-46735144a351",
   "metadata": {},
   "source": [
    "What if we have a tuple as the value? We can still assign both values as a variable."
   ]
  },
  {
   "cell_type": "code",
   "execution_count": 101,
   "id": "84507b65-1371-4505-ada6-fec4e344390a",
   "metadata": {},
   "outputs": [
    {
     "name": "stdout",
     "output_type": "stream",
     "text": [
      "n_frogs\n",
      "1\n",
      "3\n",
      "n_bats\n",
      "5\n",
      "7\n"
     ]
    }
   ],
   "source": [
    "n_animals = {'n_frogs': (1, 3),\n",
    "             'n_bats': (5, 7)}\n",
    "\n",
    "for animal, (count1, count2) in n_animals.items():\n",
    "    print(animal)\n",
    "    print(count1)\n",
    "    print(count2)"
   ]
  },
  {
   "cell_type": "markdown",
   "id": "36e20b51-1ba9-43df-8df6-1573425fbf16",
   "metadata": {},
   "source": [
    "#### Comprehensions\n",
    "\n",
    "There is special syntax for simple loops over lists and dicationaries that turn back into lists and dictionaries called `list comprehensions` and `dictionary comprehensions` respectively.\n",
    "\n",
    "Comprehensions are important because they are more efficient and readable ways of creating lists and dictionaries via loops\n",
    "\n",
    "This is a list comprehension:"
   ]
  },
  {
   "cell_type": "code",
   "execution_count": 102,
   "id": "7d7760fa-df2c-4062-bce9-6f3d43ae99d7",
   "metadata": {},
   "outputs": [
    {
     "data": {
      "text/plain": [
       "[1, 4, 9]"
      ]
     },
     "execution_count": 102,
     "metadata": {},
     "output_type": "execute_result"
    }
   ],
   "source": [
    "a = [1, 2, 3]\n",
    "\n",
    "[x**2 for x in a]"
   ]
  },
  {
   "cell_type": "markdown",
   "id": "8d2b9aa6-3a75-43af-92e6-082ce6d2f4da",
   "metadata": {},
   "source": [
    "This is a dictionary comprehension"
   ]
  },
  {
   "cell_type": "code",
   "execution_count": 103,
   "id": "fb1aebbd-fccd-478e-be5b-643ae31edf84",
   "metadata": {},
   "outputs": [
    {
     "data": {
      "text/plain": [
       "{'a': 1, 'b': 4}"
      ]
     },
     "execution_count": 103,
     "metadata": {},
     "output_type": "execute_result"
    }
   ],
   "source": [
    "d = {'a': 1, 'b': 2}\n",
    "\n",
    "{key: value**2 for key, value in d.items()}"
   ]
  },
  {
   "cell_type": "markdown",
   "id": "dad5d13d-66e2-406f-991a-daa688a2105e",
   "metadata": {},
   "source": [
    "#### Other important functions to use with loops\n",
    "\n",
    "`range` returns numbers from start to stop-1 at a given, step just like slice. So the syntax is `range(start, stop, step)`"
   ]
  },
  {
   "cell_type": "code",
   "execution_count": 104,
   "id": "97c6605a-2cfb-48c2-a791-f44067c0599b",
   "metadata": {},
   "outputs": [
    {
     "name": "stdout",
     "output_type": "stream",
     "text": [
      "0\n",
      "2\n",
      "4\n"
     ]
    }
   ],
   "source": [
    "for num in range(0, 5, 2):\n",
    "    print(num)"
   ]
  },
  {
   "cell_type": "markdown",
   "id": "6c39ef51-97ed-4385-ba1b-86a1d97419e7",
   "metadata": {},
   "source": [
    "Like slice, you can omit start and step and by default start=0 and step=1:"
   ]
  },
  {
   "cell_type": "code",
   "execution_count": 105,
   "id": "b925532d-55c1-42ab-b14f-8db125206e9d",
   "metadata": {},
   "outputs": [
    {
     "name": "stdout",
     "output_type": "stream",
     "text": [
      "0\n",
      "1\n",
      "2\n",
      "3\n",
      "4\n"
     ]
    }
   ],
   "source": [
    "for num in range(5):\n",
    "    print(num)"
   ]
  },
  {
   "cell_type": "markdown",
   "id": "991eb234-1134-4f82-9a5b-8688ca6053e2",
   "metadata": {},
   "source": [
    "`zip` is another extremely useful function. It allows you to iterate over two iterables. For example if you need to iterate over two lists simultaneously, zip will return both outputs as a tuple:"
   ]
  },
  {
   "cell_type": "code",
   "execution_count": 106,
   "id": "cd4facb9-c3fc-4d67-b36a-0eb1ad1e85a5",
   "metadata": {},
   "outputs": [
    {
     "name": "stdout",
     "output_type": "stream",
     "text": [
      "a 1\n",
      "b 2\n",
      "c 3\n"
     ]
    }
   ],
   "source": [
    "list1 = ['a', 'b', 'c']\n",
    "list2 = [1, 2, 3]\n",
    "\n",
    "for element1, element2 in zip(list1, list2):\n",
    "    print(element1, element2)"
   ]
  },
  {
   "cell_type": "markdown",
   "id": "3846c536-08d5-41fa-b79b-550ed4321af6",
   "metadata": {},
   "source": [
    "**Be careful about the length of both lists because zip will iterate only up to the shortest list**"
   ]
  },
  {
   "cell_type": "code",
   "execution_count": 107,
   "id": "21a45e24-62f9-48ae-bc4e-417b567af640",
   "metadata": {},
   "outputs": [
    {
     "name": "stdout",
     "output_type": "stream",
     "text": [
      "a 1\n",
      "b 2\n",
      "c 3\n"
     ]
    }
   ],
   "source": [
    "list1 = ['a', 'b', 'c', 'd']\n",
    "list2 = [1, 2, 3]\n",
    "\n",
    "for element1, element2 in zip(list1, list2):\n",
    "    print(element1, element2)"
   ]
  },
  {
   "cell_type": "code",
   "execution_count": 108,
   "id": "11c830e1-831c-40bf-a956-908e196b37c9",
   "metadata": {},
   "outputs": [
    {
     "data": {
      "text/plain": [
       "4"
      ]
     },
     "execution_count": 108,
     "metadata": {},
     "output_type": "execute_result"
    }
   ],
   "source": [
    "len(list1)"
   ]
  },
  {
   "cell_type": "code",
   "execution_count": 109,
   "id": "f8f94628-f9ab-4877-87cd-fd8c40a3821b",
   "metadata": {},
   "outputs": [
    {
     "data": {
      "text/plain": [
       "3"
      ]
     },
     "execution_count": 109,
     "metadata": {},
     "output_type": "execute_result"
    }
   ],
   "source": [
    "len(list2)"
   ]
  },
  {
   "cell_type": "markdown",
   "id": "e7920d61-21e3-4794-b93d-3a9ed423fc86",
   "metadata": {},
   "source": [
    "Finally, the `itertools` module is a handy set of methods from the python standard library. You have to import it (tell python you're going to use this other set of code that's not in the basic python) to use it, but here is an example of how it can be useful. We use the `combinations` function to get all unique combinations of the elements of a list (ignoring order):"
   ]
  },
  {
   "cell_type": "code",
   "execution_count": 110,
   "id": "425d09a8-bcd6-4326-a6ce-aaf971d9a5df",
   "metadata": {},
   "outputs": [
    {
     "data": {
      "text/plain": [
       "[(1, 2), (1, 3), (2, 3)]"
      ]
     },
     "execution_count": 110,
     "metadata": {},
     "output_type": "execute_result"
    }
   ],
   "source": [
    "import itertools\n",
    "\n",
    "a = [1, 2, 3]\n",
    "n_combinations = 2\n",
    "\n",
    "list(itertools.combinations(a, n_combinations))"
   ]
  },
  {
   "cell_type": "markdown",
   "id": "d899c2e2-8930-419d-bbda-eae55b5e1b18",
   "metadata": {},
   "source": [
    "Notice that we had to use list to get the list of tuples returned by itertools. That's because it gets returned as something known as a generator, which only returns the objects upon request in case the list is very long. We can still use it in a loop like so:"
   ]
  },
  {
   "cell_type": "code",
   "execution_count": 111,
   "id": "3d8edc5a-0d80-4f23-ae46-c2c30752f19d",
   "metadata": {},
   "outputs": [
    {
     "name": "stdout",
     "output_type": "stream",
     "text": [
      "1 2\n",
      "1 3\n",
      "2 3\n"
     ]
    }
   ],
   "source": [
    "for comb1, comb2 in itertools.combinations(a, n_combinations):\n",
    "    print(comb1, comb2)"
   ]
  },
  {
   "cell_type": "code",
   "execution_count": 112,
   "id": "8a276555-7489-4804-9a92-cbc7e20c8aee",
   "metadata": {},
   "outputs": [
    {
     "name": "stdout",
     "output_type": "stream",
     "text": [
      "1 2 3\n"
     ]
    }
   ],
   "source": [
    "for comb1, comb2, comb3 in itertools.combinations(a, 3):\n",
    "    print(comb1, comb2, comb3)"
   ]
  },
  {
   "cell_type": "markdown",
   "id": "0b1acda0-9043-44ff-bf9e-e5f1c045ff2b",
   "metadata": {},
   "source": [
    "### If/Else\n",
    "\n",
    "Sometimes we want to do different things based on some condition. We can use an if-else statement to control what happens based on a criteria. These statements also rely on indentation:"
   ]
  },
  {
   "cell_type": "code",
   "execution_count": 113,
   "id": "08908689-c7fc-41fa-bbbb-564a22904019",
   "metadata": {},
   "outputs": [
    {
     "name": "stdout",
     "output_type": "stream",
     "text": [
      "bark\n"
     ]
    }
   ],
   "source": [
    "type_of_animal = 'dog'\n",
    "\n",
    "if type_of_animal == 'cat':\n",
    "    print('hiss')\n",
    "else:\n",
    "    print('bark')"
   ]
  },
  {
   "cell_type": "code",
   "execution_count": 114,
   "id": "65862323-d547-4fd7-a509-f9013aadee83",
   "metadata": {},
   "outputs": [
    {
     "name": "stdout",
     "output_type": "stream",
     "text": [
      "hiss\n"
     ]
    }
   ],
   "source": [
    "type_of_animal = 'cat'\n",
    "\n",
    "if type_of_animal == 'cat':\n",
    "    print('hiss')\n",
    "else:\n",
    "    print('bark')"
   ]
  },
  {
   "cell_type": "markdown",
   "id": "e883403c-999b-4e3d-a4c0-381f95bebf53",
   "metadata": {},
   "source": [
    "We can use `elif` to add more conditions"
   ]
  },
  {
   "cell_type": "code",
   "execution_count": 115,
   "id": "0d8f96ef-c853-43c5-8d87-23857ab9e17a",
   "metadata": {},
   "outputs": [
    {
     "name": "stdout",
     "output_type": "stream",
     "text": [
      "oy\n"
     ]
    }
   ],
   "source": [
    "type_of_animal = 'god'\n",
    "\n",
    "if type_of_animal == 'cat':\n",
    "    print('hiss')\n",
    "elif type_of_animal == 'dog':\n",
    "    print('bark')\n",
    "else:\n",
    "    print('oy')"
   ]
  },
  {
   "cell_type": "markdown",
   "id": "07a9ae47-4871-40fd-8eb7-9e66d4f3f7c0",
   "metadata": {},
   "source": [
    "## Functions\n",
    "\n",
    "Functions are important because they define short, resuable chunks of code.\n",
    "+ As soon as you find yourself using a set of code more than once, you should make it into a function. Functions are good for writing good code because any error you fix in the function will automatically be fixed for any other use of the code. \n",
    "+ Functions are also good ways to make your code more understandable and readable because lots of lines of code are hard to understand. Well named, small functions (<60 lines) can break complex code down into smaller parts.\n",
    "+ Functions are also an opportunity to document your code and tell your future self what is going on. Document your functions.\n",
    "+ Give functions good names that say what the function is doing.\n",
    "+ Don't rewrite functions that are already implemented by a well-known package unless you have to.\n",
    "\n",
    "Here is the basic skeleton of a function. It also relies on indentation and colons for the format. Note that `pass` is a special python keyword that says nothing is happening:"
   ]
  },
  {
   "cell_type": "code",
   "execution_count": 116,
   "id": "a62de5c1-2644-45e4-b933-b7af43834cc1",
   "metadata": {},
   "outputs": [],
   "source": [
    "def my_function():\n",
    "    pass"
   ]
  },
  {
   "cell_type": "markdown",
   "id": "67bcecdb-2911-41f2-a1f6-20a864e7bc87",
   "metadata": {},
   "source": [
    "When a function returns no output, it technically always returns a `None`"
   ]
  },
  {
   "cell_type": "code",
   "execution_count": 117,
   "id": "f9a31dee-7c1d-4765-8f70-62ac940ae7ad",
   "metadata": {},
   "outputs": [],
   "source": [
    "my_function()"
   ]
  },
  {
   "cell_type": "code",
   "execution_count": 118,
   "id": "e3430854-ce32-4d24-9852-64ee88dc8bad",
   "metadata": {},
   "outputs": [
    {
     "data": {
      "text/plain": [
       "True"
      ]
     },
     "execution_count": 118,
     "metadata": {},
     "output_type": "execute_result"
    }
   ],
   "source": [
    "my_function() is None"
   ]
  },
  {
   "cell_type": "markdown",
   "id": "97f868c3-5144-4166-99fd-a694e8a4e566",
   "metadata": {},
   "source": [
    "Here is a function that takes two variables and adds them. Notice that we use the `return` keyword to return an output of the function. Otherwise, `None` will be returned."
   ]
  },
  {
   "cell_type": "code",
   "execution_count": 119,
   "id": "3fd6108c-fc78-48ee-80ef-111265244ca0",
   "metadata": {},
   "outputs": [],
   "source": [
    "def my_adds_function(x, y):\n",
    "    return x + y"
   ]
  },
  {
   "cell_type": "code",
   "execution_count": 120,
   "id": "7d73da37-1912-4a71-b04f-3bce68bebd05",
   "metadata": {},
   "outputs": [
    {
     "data": {
      "text/plain": [
       "3"
      ]
     },
     "execution_count": 120,
     "metadata": {},
     "output_type": "execute_result"
    }
   ],
   "source": [
    "my_adds_function(1, 2)"
   ]
  },
  {
   "cell_type": "code",
   "execution_count": 121,
   "id": "d2435153-49de-452a-bb7c-c999719969ab",
   "metadata": {},
   "outputs": [
    {
     "data": {
      "text/plain": [
       "'ab'"
      ]
     },
     "execution_count": 121,
     "metadata": {},
     "output_type": "execute_result"
    }
   ],
   "source": [
    "my_adds_function('a', 'b')"
   ]
  },
  {
   "cell_type": "markdown",
   "id": "fe815a1d-efba-42e0-a9e9-669cc0f15740",
   "metadata": {},
   "source": [
    "We can also specify default values for inputs to the function using an equals sign. This means if no input is given, these values will be used. These are known as keyword arguments."
   ]
  },
  {
   "cell_type": "code",
   "execution_count": 122,
   "id": "15259de4-c2ca-476d-b0d0-cd026be30166",
   "metadata": {},
   "outputs": [],
   "source": [
    "def my_adds_function2(x=1, y=2):\n",
    "    return x + y"
   ]
  },
  {
   "cell_type": "code",
   "execution_count": 123,
   "id": "cff2d98c-2c3e-4fdb-ab3f-d82a58fa1d9d",
   "metadata": {},
   "outputs": [
    {
     "data": {
      "text/plain": [
       "3"
      ]
     },
     "execution_count": 123,
     "metadata": {},
     "output_type": "execute_result"
    }
   ],
   "source": [
    "my_adds_function2()"
   ]
  },
  {
   "cell_type": "code",
   "execution_count": 124,
   "id": "ba05ad65-cf52-48f9-9f2f-ad97c8cbbcbe",
   "metadata": {},
   "outputs": [
    {
     "data": {
      "text/plain": [
       "14"
      ]
     },
     "execution_count": 124,
     "metadata": {},
     "output_type": "execute_result"
    }
   ],
   "source": [
    "my_adds_function2(5, 9)"
   ]
  },
  {
   "cell_type": "markdown",
   "id": "f0aadcd9-b872-42ac-9575-ec509ce1267b",
   "metadata": {},
   "source": [
    " Variables without a default are known as positional arguments. Positional arguments must come before keyword arguments."
   ]
  },
  {
   "cell_type": "code",
   "execution_count": 125,
   "id": "6bb6ad7a-a368-407a-b74d-cd01fdfa4c93",
   "metadata": {},
   "outputs": [],
   "source": [
    "def my_adds_function3(w, x=1, y=2):\n",
    "    return w + x + y"
   ]
  },
  {
   "cell_type": "code",
   "execution_count": 126,
   "id": "a37fd726-d331-4157-9bde-810b003061a9",
   "metadata": {},
   "outputs": [
    {
     "data": {
      "text/plain": [
       "6"
      ]
     },
     "execution_count": 126,
     "metadata": {},
     "output_type": "execute_result"
    }
   ],
   "source": [
    "my_adds_function3(3)"
   ]
  },
  {
   "cell_type": "code",
   "execution_count": 147,
   "id": "f40d6c2b-557c-4484-b319-f0709355f429",
   "metadata": {},
   "outputs": [
    {
     "ename": "SyntaxError",
     "evalue": "non-default argument follows default argument (<ipython-input-147-a54f4a0190cd>, line 1)",
     "output_type": "error",
     "traceback": [
      "\u001b[0;36m  File \u001b[0;32m\"<ipython-input-147-a54f4a0190cd>\"\u001b[0;36m, line \u001b[0;32m1\u001b[0m\n\u001b[0;31m    def my_adds_function4(x=1, y=2, w):\u001b[0m\n\u001b[0m                          ^\u001b[0m\n\u001b[0;31mSyntaxError\u001b[0m\u001b[0;31m:\u001b[0m non-default argument follows default argument\n"
     ]
    }
   ],
   "source": [
    "def my_adds_function4(x=1, y=2, w):\n",
    "    return w + x + y"
   ]
  },
  {
   "cell_type": "markdown",
   "id": "7edf579c-2243-4ffc-8981-02e994336841",
   "metadata": {},
   "source": [
    "We also should document our functions. We do this using something called a doc-string, which is a special string that goes at the beginning of the function. I prefer to use the numpy style to document my functions: https://numpydoc.readthedocs.io/en/latest/format.html"
   ]
  },
  {
   "cell_type": "code",
   "execution_count": 128,
   "id": "49685645-4080-43dc-ac0b-f859b01c0cef",
   "metadata": {},
   "outputs": [],
   "source": [
    "def my_adds_function3(w, x=1, y=2):\n",
    "    \"\"\"A short description of what the function does.\n",
    "    \n",
    "    Parameters\n",
    "    ----------\n",
    "    w : int\n",
    "        A description of the variable can go here.\n",
    "    x : int\n",
    "    y : int\n",
    "    \n",
    "    Returns\n",
    "    -------\n",
    "    output : int\n",
    "    \"\"\"\n",
    "    return w + x + y"
   ]
  },
  {
   "cell_type": "markdown",
   "id": "bf1fc79a-2b89-47d6-9c04-49afeed1da9a",
   "metadata": {},
   "source": [
    "In jupyter notebooks we can use a `?` to look at the doc-string for a function"
   ]
  },
  {
   "cell_type": "code",
   "execution_count": 129,
   "id": "cc17611e-6347-4b84-ac33-1e213f2735a4",
   "metadata": {},
   "outputs": [
    {
     "data": {
      "text/plain": [
       "\u001b[0;31mSignature:\u001b[0m \u001b[0mmy_adds_function3\u001b[0m\u001b[0;34m(\u001b[0m\u001b[0mw\u001b[0m\u001b[0;34m,\u001b[0m \u001b[0mx\u001b[0m\u001b[0;34m=\u001b[0m\u001b[0;36m1\u001b[0m\u001b[0;34m,\u001b[0m \u001b[0my\u001b[0m\u001b[0;34m=\u001b[0m\u001b[0;36m2\u001b[0m\u001b[0;34m)\u001b[0m\u001b[0;34m\u001b[0m\u001b[0;34m\u001b[0m\u001b[0m\n",
       "\u001b[0;31mDocstring:\u001b[0m\n",
       "A short description of what the function does.\n",
       "\n",
       "Parameters\n",
       "----------\n",
       "w : int\n",
       "    A description of the variable can go here.\n",
       "x : int\n",
       "y : int\n",
       "\n",
       "Returns\n",
       "-------\n",
       "output : int\n",
       "\u001b[0;31mFile:\u001b[0m      ~/Documents/GitHub/franklab_python_tutorial/notebooks/<ipython-input-128-c57d6ca564f9>\n",
       "\u001b[0;31mType:\u001b[0m      function\n"
      ]
     },
     "metadata": {},
     "output_type": "display_data"
    }
   ],
   "source": [
    "my_adds_function3?"
   ]
  },
  {
   "cell_type": "markdown",
   "id": "99ca2620-8696-40ed-ada2-28bc88cd027f",
   "metadata": {},
   "source": [
    "We can also use two question marks (`??`) to look at the corresponding code:"
   ]
  },
  {
   "cell_type": "code",
   "execution_count": 130,
   "id": "3a31b3c7-a251-4585-93f7-50b2d34a7eb6",
   "metadata": {},
   "outputs": [
    {
     "data": {
      "text/plain": [
       "\u001b[0;31mSignature:\u001b[0m \u001b[0mmy_adds_function3\u001b[0m\u001b[0;34m(\u001b[0m\u001b[0mw\u001b[0m\u001b[0;34m,\u001b[0m \u001b[0mx\u001b[0m\u001b[0;34m=\u001b[0m\u001b[0;36m1\u001b[0m\u001b[0;34m,\u001b[0m \u001b[0my\u001b[0m\u001b[0;34m=\u001b[0m\u001b[0;36m2\u001b[0m\u001b[0;34m)\u001b[0m\u001b[0;34m\u001b[0m\u001b[0;34m\u001b[0m\u001b[0m\n",
       "\u001b[0;31mSource:\u001b[0m   \n",
       "\u001b[0;32mdef\u001b[0m \u001b[0mmy_adds_function3\u001b[0m\u001b[0;34m(\u001b[0m\u001b[0mw\u001b[0m\u001b[0;34m,\u001b[0m \u001b[0mx\u001b[0m\u001b[0;34m=\u001b[0m\u001b[0;36m1\u001b[0m\u001b[0;34m,\u001b[0m \u001b[0my\u001b[0m\u001b[0;34m=\u001b[0m\u001b[0;36m2\u001b[0m\u001b[0;34m)\u001b[0m\u001b[0;34m:\u001b[0m\u001b[0;34m\u001b[0m\n",
       "\u001b[0;34m\u001b[0m    \u001b[0;34m\"\"\"A short description of what the function does.\u001b[0m\n",
       "\u001b[0;34m    \u001b[0m\n",
       "\u001b[0;34m    Parameters\u001b[0m\n",
       "\u001b[0;34m    ----------\u001b[0m\n",
       "\u001b[0;34m    w : int\u001b[0m\n",
       "\u001b[0;34m        A description of the variable can go here.\u001b[0m\n",
       "\u001b[0;34m    x : int\u001b[0m\n",
       "\u001b[0;34m    y : int\u001b[0m\n",
       "\u001b[0;34m    \u001b[0m\n",
       "\u001b[0;34m    Returns\u001b[0m\n",
       "\u001b[0;34m    -------\u001b[0m\n",
       "\u001b[0;34m    output : int\u001b[0m\n",
       "\u001b[0;34m    \"\"\"\u001b[0m\u001b[0;34m\u001b[0m\n",
       "\u001b[0;34m\u001b[0m    \u001b[0;32mreturn\u001b[0m \u001b[0mw\u001b[0m \u001b[0;34m+\u001b[0m \u001b[0mx\u001b[0m \u001b[0;34m+\u001b[0m \u001b[0my\u001b[0m\u001b[0;34m\u001b[0m\u001b[0;34m\u001b[0m\u001b[0m\n",
       "\u001b[0;31mFile:\u001b[0m      ~/Documents/GitHub/franklab_python_tutorial/notebooks/<ipython-input-128-c57d6ca564f9>\n",
       "\u001b[0;31mType:\u001b[0m      function\n"
      ]
     },
     "metadata": {},
     "output_type": "display_data"
    }
   ],
   "source": [
    "my_adds_function3??"
   ]
  },
  {
   "cell_type": "markdown",
   "id": "fdbea978-5427-4a4f-a67b-4322f92d5140",
   "metadata": {},
   "source": [
    "#### Debugging functions in jupyter notebooks\n",
    "\n",
    "A handy feature in jupyter notebooks is that if a function breaks, we can go to the exact spot in the function where it broke with all the corresponding variables. We do this using the debug \"magic\" in jupyter notebooks. Magics in jupyter notebook are special functions that are preceeded with a `%`.\n",
    "\n",
    "So for example, here is how we use the debug magic (`%debug`).\n",
    " + We can use `dir` to see what variables exist in the scope of the function.\n",
    " + We can use `q` to exit\n",
    " + We can use `u` and `d` to go up and down the call stack (aka if another function calls this function we can go to the calling function)\n",
    " + We can use `ll` to see the whole function"
   ]
  },
  {
   "cell_type": "code",
   "execution_count": 131,
   "id": "38b26a48-aec9-4c0d-9049-05b86fb44f98",
   "metadata": {},
   "outputs": [],
   "source": [
    "def broken():\n",
    "    list1 = [1, 2, 3]\n",
    "    list2 = [4, 5, 6]\n",
    "    output_list = []\n",
    "    \n",
    "    for element1, element2 in zip(list1, list2):\n",
    "        output_list.append(element1 + element2[0])\n",
    "    \n",
    "    return output_list"
   ]
  },
  {
   "cell_type": "code",
   "execution_count": 145,
   "id": "3a4edda4-2a9b-4b1d-ae26-8d6f49b85ccb",
   "metadata": {},
   "outputs": [
    {
     "ename": "TypeError",
     "evalue": "'int' object is not subscriptable",
     "output_type": "error",
     "traceback": [
      "\u001b[0;31m---------------------------------------------------------------------------\u001b[0m",
      "\u001b[0;31mTypeError\u001b[0m                                 Traceback (most recent call last)",
      "\u001b[0;32m<ipython-input-145-ba3e6ebe1246>\u001b[0m in \u001b[0;36m<module>\u001b[0;34m\u001b[0m\n\u001b[0;32m----> 1\u001b[0;31m \u001b[0mbroken\u001b[0m\u001b[0;34m(\u001b[0m\u001b[0;34m)\u001b[0m\u001b[0;34m\u001b[0m\u001b[0;34m\u001b[0m\u001b[0m\n\u001b[0m",
      "\u001b[0;32m<ipython-input-131-3bd5881d2136>\u001b[0m in \u001b[0;36mbroken\u001b[0;34m()\u001b[0m\n\u001b[1;32m      5\u001b[0m \u001b[0;34m\u001b[0m\u001b[0m\n\u001b[1;32m      6\u001b[0m     \u001b[0;32mfor\u001b[0m \u001b[0melement1\u001b[0m\u001b[0;34m,\u001b[0m \u001b[0melement2\u001b[0m \u001b[0;32min\u001b[0m \u001b[0mzip\u001b[0m\u001b[0;34m(\u001b[0m\u001b[0mlist1\u001b[0m\u001b[0;34m,\u001b[0m \u001b[0mlist2\u001b[0m\u001b[0;34m)\u001b[0m\u001b[0;34m:\u001b[0m\u001b[0;34m\u001b[0m\u001b[0;34m\u001b[0m\u001b[0m\n\u001b[0;32m----> 7\u001b[0;31m         \u001b[0moutput_list\u001b[0m\u001b[0;34m.\u001b[0m\u001b[0mappend\u001b[0m\u001b[0;34m(\u001b[0m\u001b[0melement1\u001b[0m \u001b[0;34m+\u001b[0m \u001b[0melement2\u001b[0m\u001b[0;34m[\u001b[0m\u001b[0;36m0\u001b[0m\u001b[0;34m]\u001b[0m\u001b[0;34m)\u001b[0m\u001b[0;34m\u001b[0m\u001b[0;34m\u001b[0m\u001b[0m\n\u001b[0m\u001b[1;32m      8\u001b[0m \u001b[0;34m\u001b[0m\u001b[0m\n\u001b[1;32m      9\u001b[0m     \u001b[0;32mreturn\u001b[0m \u001b[0moutput_list\u001b[0m\u001b[0;34m\u001b[0m\u001b[0;34m\u001b[0m\u001b[0m\n",
      "\u001b[0;31mTypeError\u001b[0m: 'int' object is not subscriptable"
     ]
    }
   ],
   "source": [
    "broken()"
   ]
  },
  {
   "cell_type": "code",
   "execution_count": 146,
   "id": "15adfc5e-d4e5-46cb-915a-bc69616bc32a",
   "metadata": {},
   "outputs": [
    {
     "name": "stdout",
     "output_type": "stream",
     "text": [
      "> \u001b[0;32m<ipython-input-131-3bd5881d2136>\u001b[0m(7)\u001b[0;36mbroken\u001b[0;34m()\u001b[0m\n",
      "\u001b[0;32m      5 \u001b[0;31m\u001b[0;34m\u001b[0m\u001b[0m\n",
      "\u001b[0m\u001b[0;32m      6 \u001b[0;31m    \u001b[0;32mfor\u001b[0m \u001b[0melement1\u001b[0m\u001b[0;34m,\u001b[0m \u001b[0melement2\u001b[0m \u001b[0;32min\u001b[0m \u001b[0mzip\u001b[0m\u001b[0;34m(\u001b[0m\u001b[0mlist1\u001b[0m\u001b[0;34m,\u001b[0m \u001b[0mlist2\u001b[0m\u001b[0;34m)\u001b[0m\u001b[0;34m:\u001b[0m\u001b[0;34m\u001b[0m\u001b[0;34m\u001b[0m\u001b[0m\n",
      "\u001b[0m\u001b[0;32m----> 7 \u001b[0;31m        \u001b[0moutput_list\u001b[0m\u001b[0;34m.\u001b[0m\u001b[0mappend\u001b[0m\u001b[0;34m(\u001b[0m\u001b[0melement1\u001b[0m \u001b[0;34m+\u001b[0m \u001b[0melement2\u001b[0m\u001b[0;34m[\u001b[0m\u001b[0;36m0\u001b[0m\u001b[0;34m]\u001b[0m\u001b[0;34m)\u001b[0m\u001b[0;34m\u001b[0m\u001b[0;34m\u001b[0m\u001b[0m\n",
      "\u001b[0m\u001b[0;32m      8 \u001b[0;31m\u001b[0;34m\u001b[0m\u001b[0m\n",
      "\u001b[0m\u001b[0;32m      9 \u001b[0;31m    \u001b[0;32mreturn\u001b[0m \u001b[0moutput_list\u001b[0m\u001b[0;34m\u001b[0m\u001b[0;34m\u001b[0m\u001b[0m\n",
      "\u001b[0m\n"
     ]
    },
    {
     "name": "stdin",
     "output_type": "stream",
     "text": [
      "ipdb>  dir()\n"
     ]
    },
    {
     "name": "stdout",
     "output_type": "stream",
     "text": [
      "['element1', 'element2', 'list1', 'list2', 'output_list']\n"
     ]
    },
    {
     "name": "stdin",
     "output_type": "stream",
     "text": [
      "ipdb>  list1\n"
     ]
    },
    {
     "name": "stdout",
     "output_type": "stream",
     "text": [
      "[1, 2, 3]\n"
     ]
    },
    {
     "name": "stdin",
     "output_type": "stream",
     "text": [
      "ipdb>  list2\n"
     ]
    },
    {
     "name": "stdout",
     "output_type": "stream",
     "text": [
      "[4, 5, 6]\n"
     ]
    },
    {
     "name": "stdin",
     "output_type": "stream",
     "text": [
      "ipdb>  element1\n"
     ]
    },
    {
     "name": "stdout",
     "output_type": "stream",
     "text": [
      "1\n"
     ]
    },
    {
     "name": "stdin",
     "output_type": "stream",
     "text": [
      "ipdb>  element2\n"
     ]
    },
    {
     "name": "stdout",
     "output_type": "stream",
     "text": [
      "4\n"
     ]
    },
    {
     "name": "stdin",
     "output_type": "stream",
     "text": [
      "ipdb>  u\n"
     ]
    },
    {
     "name": "stdout",
     "output_type": "stream",
     "text": [
      "> \u001b[0;32m<ipython-input-145-ba3e6ebe1246>\u001b[0m(1)\u001b[0;36m<module>\u001b[0;34m()\u001b[0m\n",
      "\u001b[0;32m----> 1 \u001b[0;31m\u001b[0mbroken\u001b[0m\u001b[0;34m(\u001b[0m\u001b[0;34m)\u001b[0m\u001b[0;34m\u001b[0m\u001b[0;34m\u001b[0m\u001b[0m\n",
      "\u001b[0m\n"
     ]
    },
    {
     "name": "stdin",
     "output_type": "stream",
     "text": [
      "ipdb>  d\n"
     ]
    },
    {
     "name": "stdout",
     "output_type": "stream",
     "text": [
      "> \u001b[0;32m<ipython-input-131-3bd5881d2136>\u001b[0m(7)\u001b[0;36mbroken\u001b[0;34m()\u001b[0m\n",
      "\u001b[0;32m      5 \u001b[0;31m\u001b[0;34m\u001b[0m\u001b[0m\n",
      "\u001b[0m\u001b[0;32m      6 \u001b[0;31m    \u001b[0;32mfor\u001b[0m \u001b[0melement1\u001b[0m\u001b[0;34m,\u001b[0m \u001b[0melement2\u001b[0m \u001b[0;32min\u001b[0m \u001b[0mzip\u001b[0m\u001b[0;34m(\u001b[0m\u001b[0mlist1\u001b[0m\u001b[0;34m,\u001b[0m \u001b[0mlist2\u001b[0m\u001b[0;34m)\u001b[0m\u001b[0;34m:\u001b[0m\u001b[0;34m\u001b[0m\u001b[0;34m\u001b[0m\u001b[0m\n",
      "\u001b[0m\u001b[0;32m----> 7 \u001b[0;31m        \u001b[0moutput_list\u001b[0m\u001b[0;34m.\u001b[0m\u001b[0mappend\u001b[0m\u001b[0;34m(\u001b[0m\u001b[0melement1\u001b[0m \u001b[0;34m+\u001b[0m \u001b[0melement2\u001b[0m\u001b[0;34m[\u001b[0m\u001b[0;36m0\u001b[0m\u001b[0;34m]\u001b[0m\u001b[0;34m)\u001b[0m\u001b[0;34m\u001b[0m\u001b[0;34m\u001b[0m\u001b[0m\n",
      "\u001b[0m\u001b[0;32m      8 \u001b[0;31m\u001b[0;34m\u001b[0m\u001b[0m\n",
      "\u001b[0m\u001b[0;32m      9 \u001b[0;31m    \u001b[0;32mreturn\u001b[0m \u001b[0moutput_list\u001b[0m\u001b[0;34m\u001b[0m\u001b[0;34m\u001b[0m\u001b[0m\n",
      "\u001b[0m\n"
     ]
    },
    {
     "name": "stdin",
     "output_type": "stream",
     "text": [
      "ipdb>  q\n"
     ]
    }
   ],
   "source": [
    "%debug"
   ]
  },
  {
   "cell_type": "markdown",
   "id": "298a0b7c-a5e1-4339-9787-88cde4210d0b",
   "metadata": {},
   "source": [
    "## Modules, Packages and Scripts\n",
    "\n",
    "Okay, you've written a bunch of code in a jupyter notebook. You've turned some of that code into functions because you use the same chunk of code repeatedly. You've documented the code inputs and outputs via the docstring and some handy comments in the function body itself. But several problems arise:\n",
    "+ You have a lot of functions, some of which are related and some of which are not and it's hard to keep track of them\n",
    "+ Your functions keep having errors because sometimes you run code out of order in jupyter notebooks.\n",
    "+ You accidentally keep changing things when you come back to the code and you don't remember what you did before. Or you want to change back to something you did before.\n",
    "\n",
    "\n",
    "The solution?\n",
    "+ Use modules, packages and scripts\n",
    "+ Use programs specifically made for coding (vscode, pycharm, atom, etc.).\n",
    "+ Use version control (git)\n",
    "\n",
    "\n",
    "This will make your code more readable, well organized, and less error prone.\n",
    "\n",
    "**Jupyter notebooks do not work well with version control** because version control tracks changes in text files and jupyter notebooks are represented by json files, which contain a mixture of things the jupyter notebooks needs, code for images, etc.\n",
    "\n",
    "Code editors are good because you can use things called **linters**, which will help format your code so that it is more reasdable and catch common mistakes. There is a guide for writing clean code in python called pep8: https://www.python.org/dev/peps/pep-0008/. Linters can help you conform to this standard which ultimately will lead to more uniform, cleaner code. You want cleaner code so that future you can figure out what's going on with your code.\n",
    "\n",
    "Finally, modules, packages and scripts help you organize the code in a sensible, reproducible way.\n",
    "\n",
    "### Modules\n",
    "\n",
    "A module is a text file that ends with `.py`. It usually contains functions but it can contain other things like variables (or code that gets executed when the module is imported). You use functions in a module by importing them using the keyword `import`. You have already seen an example of this. You can import modules from programs already installed in your conda environment or you can import modules that you have made locally (in your repository).\n",
    "\n",
    "Before we import a file, let's use two jupyter notebook magics to make sure that any changes we make to the files will be reflected in the code here:\n",
    "\n",
    "+ `%reload_ext autoreload`:  Loads the extension autoreload\n",
    "+ `%autoreload 2`: Reload all modules (except those excluded by %aimport) every time before executing the Python code typed.\n",
    "\n",
    "See more documentation here: https://ipython.org/ipython-doc/3/config/extensions/autoreload.html"
   ]
  },
  {
   "cell_type": "code",
   "execution_count": 134,
   "id": "5eb95490-78c2-458d-9d8b-7b7891657fe9",
   "metadata": {},
   "outputs": [],
   "source": [
    "%reload_ext autoreload \n",
    "%autoreload 2"
   ]
  },
  {
   "cell_type": "markdown",
   "id": "9bcd6f36-a538-4a43-af90-c40995c280ca",
   "metadata": {},
   "source": [
    "Let's try importing a module from the `src` folder"
   ]
  },
  {
   "cell_type": "code",
   "execution_count": 135,
   "id": "178147a6-3761-4e5b-bc77-77558749c760",
   "metadata": {},
   "outputs": [],
   "source": [
    "import src.my_first_module"
   ]
  },
  {
   "cell_type": "markdown",
   "id": "44ec77ce-0808-40f8-bb48-51c05cb2580a",
   "metadata": {},
   "source": [
    "You can use the built-in `dir` function in python to inspect the contents of the module. Alternatively, you can use tab-completion (hitting tab after putting a dot) in jupyter lab to inspect the contents of the module."
   ]
  },
  {
   "cell_type": "code",
   "execution_count": 136,
   "id": "96094fd4-b9eb-46e5-ab99-e4841eb5d46c",
   "metadata": {},
   "outputs": [
    {
     "data": {
      "text/plain": [
       "['N_CATS',\n",
       " '__builtins__',\n",
       " '__cached__',\n",
       " '__doc__',\n",
       " '__file__',\n",
       " '__loader__',\n",
       " '__name__',\n",
       " '__package__',\n",
       " '__spec__',\n",
       " 'get_abs_path_of_cur_dir',\n",
       " 'my_first_function',\n",
       " 'my_second_function',\n",
       " 'os']"
      ]
     },
     "execution_count": 136,
     "metadata": {},
     "output_type": "execute_result"
    }
   ],
   "source": [
    "dir(src.my_first_module)"
   ]
  },
  {
   "cell_type": "markdown",
   "id": "51828637-bae4-4af3-ae8a-c00fc9f63c9d",
   "metadata": {},
   "source": [
    "We see that we have a bunch of things with a double underscore (also known as a *dunder*) and then `get_abs_path_of_cur_dir`, `my_first_function`, and `my_second_function`. The double underscore is a way to indicate that these are special things that you might not use that often, but might be useful in some situations. You won't see them when using tab completion. One particular one you will see used for scripts is the `__name__` global variable. This just gives the name of the module. More on this later."
   ]
  },
  {
   "cell_type": "code",
   "execution_count": 137,
   "id": "d60388e3-0bb8-4e4d-a070-3de1ec3bb6d1",
   "metadata": {},
   "outputs": [
    {
     "data": {
      "text/plain": [
       "'src.my_first_module'"
      ]
     },
     "execution_count": 137,
     "metadata": {},
     "output_type": "execute_result"
    }
   ],
   "source": [
    "src.my_first_module.__name__"
   ]
  },
  {
   "cell_type": "markdown",
   "id": "f84b8ceb-2e23-404d-a8d0-3bf9017631c5",
   "metadata": {},
   "source": [
    "We can also look at the one function in the module:"
   ]
  },
  {
   "cell_type": "code",
   "execution_count": 138,
   "id": "900bb1a4-6c7e-4b6d-83f1-c5beb48a0d0a",
   "metadata": {},
   "outputs": [
    {
     "data": {
      "text/plain": [
       "\u001b[0;31mSignature:\u001b[0m \u001b[0msrc\u001b[0m\u001b[0;34m.\u001b[0m\u001b[0mmy_first_module\u001b[0m\u001b[0;34m.\u001b[0m\u001b[0mmy_first_function\u001b[0m\u001b[0;34m(\u001b[0m\u001b[0;34m)\u001b[0m\u001b[0;34m\u001b[0m\u001b[0;34m\u001b[0m\u001b[0m\n",
       "\u001b[0;31mDocstring:\u001b[0m Prints Success\n",
       "\u001b[0;31mFile:\u001b[0m      ~/Documents/GitHub/franklab_python_tutorial/src/my_first_module.py\n",
       "\u001b[0;31mType:\u001b[0m      function\n"
      ]
     },
     "metadata": {},
     "output_type": "display_data"
    }
   ],
   "source": [
    "src.my_first_module.my_first_function?"
   ]
  },
  {
   "cell_type": "markdown",
   "id": "0fbc3e77-558a-4228-9c94-ffd9c846b090",
   "metadata": {},
   "source": [
    "And run the function"
   ]
  },
  {
   "cell_type": "code",
   "execution_count": 139,
   "id": "95660342-4ffa-4388-aa7f-53ec02e08d1d",
   "metadata": {},
   "outputs": [
    {
     "name": "stdout",
     "output_type": "stream",
     "text": [
      "Success\n"
     ]
    }
   ],
   "source": [
    "src.my_first_module.my_first_function()"
   ]
  },
  {
   "cell_type": "markdown",
   "id": "661b1e0b-7cb3-48ef-a2e6-fd9097db96ca",
   "metadata": {},
   "source": [
    "We can also rename the imported module using `as`. This can cut down on the amount of typing you have to do, but has the downside of obscuring where things are coming from if your new name is ambiguous.\n",
    "\n",
    "Some packages/modules have standard things they are renamed to. For example, numpy is usually renamed as np."
   ]
  },
  {
   "cell_type": "code",
   "execution_count": 140,
   "id": "387d32de-c612-495e-a805-b4e2b1e810a9",
   "metadata": {},
   "outputs": [
    {
     "name": "stdout",
     "output_type": "stream",
     "text": [
      "Success\n"
     ]
    }
   ],
   "source": [
    "import src.my_first_module as my_first_module\n",
    "\n",
    "my_first_module.my_first_function()"
   ]
  },
  {
   "cell_type": "markdown",
   "id": "913134b6-d198-4b70-b55f-b67f080f0ae8",
   "metadata": {},
   "source": [
    "We can also import the function for use using the `from` keyword"
   ]
  },
  {
   "cell_type": "code",
   "execution_count": 141,
   "id": "0ec70e6c-dcec-4183-9005-ad91f5e914d6",
   "metadata": {},
   "outputs": [
    {
     "name": "stdout",
     "output_type": "stream",
     "text": [
      "Success\n"
     ]
    }
   ],
   "source": [
    "from src.my_first_module import my_first_function\n",
    "\n",
    "my_first_function()"
   ]
  },
  {
   "cell_type": "markdown",
   "id": "db821fbb-e648-4986-bfe6-258736a639bf",
   "metadata": {},
   "source": [
    "Lastly, we can import all functions in a module using `*`\n",
    "\n",
    "**Note that this is bad practice because you can unknowingly import a bunch of things you don't know the name of, some of which may conflict with other things you have defined**\n",
    "\n",
    "A common mantra in python is it is better to be explicit than implicit."
   ]
  },
  {
   "cell_type": "code",
   "execution_count": 142,
   "id": "f9c596ca-b277-4e42-801d-b0d8c1d09b62",
   "metadata": {},
   "outputs": [],
   "source": [
    "from src.my_first_module import *"
   ]
  },
  {
   "cell_type": "markdown",
   "id": "5781ed64-28b0-4a32-908f-ad29d141b7d4",
   "metadata": {},
   "source": [
    "We imported `my_second_function` and we didn't know it"
   ]
  },
  {
   "cell_type": "code",
   "execution_count": 143,
   "id": "f2f71c6c-3344-484a-831a-4a99c444b2df",
   "metadata": {},
   "outputs": [
    {
     "name": "stdout",
     "output_type": "stream",
     "text": [
      "3\n"
     ]
    }
   ],
   "source": [
    "my_second_function()"
   ]
  },
  {
   "cell_type": "markdown",
   "id": "5e1d50b1-590d-4233-9921-aed655d5a45c",
   "metadata": {},
   "source": [
    "Other things:\n",
    "+ You can also import functions from other modules into modules (see `my_first_module.py`).\n",
    "+ There are a standard set of modules in python known as the standard library. They are full of useful functions. `itertools`, which we imported before, is one of them"
   ]
  },
  {
   "cell_type": "markdown",
   "id": "a66de5f4-f631-4d91-a650-afb219ba0c8f",
   "metadata": {},
   "source": [
    "### Scripts\n",
    "\n",
    "What is the difference between a module and script?\n",
    "\n",
    "Functionally nothing except for its intended use.\n",
    "\n",
    "A script is still just a text file with the `.py` suffix\n",
    "\n",
    "A module is a collection of functions (and/or variables) intended for use elsewhere.\n",
    "\n",
    "A script is a set of code intended to execute a purpose. For example if we want to plot some data, we might write code to load data, process the data and plot the data.\n",
    "\n",
    "You often execute scripts in the command line by using the following syntax:\n",
    "```bash\n",
    "python my_first_script.py\n",
    "```\n",
    "\n",
    "You can also do the following in a jupyter notebook (although it is a little weird)."
   ]
  },
  {
   "cell_type": "code",
   "execution_count": 144,
   "id": "b025c309-b230-4799-a750-060a79a76170",
   "metadata": {},
   "outputs": [
    {
     "name": "stdout",
     "output_type": "stream",
     "text": [
      "Loading data...\n",
      "Processing data...\n",
      "Plotting and saving figure...\n",
      "Done!\n"
     ]
    }
   ],
   "source": [
    "%run ../scripts/my_first_script.py"
   ]
  },
  {
   "cell_type": "markdown",
   "id": "02ae487c-0484-4a79-9f20-143082961d7d",
   "metadata": {},
   "source": [
    "### Packages\n",
    "\n",
    "Packages are just collections of modules. Packages are folders with an `__init__.py` file and modules in them. You can have subpackages within packages if you have a lot of code to organize. These are less important to understand unless you need to have complicated code.\n",
    "\n",
    "### Classes\n",
    "\n",
    "Classes are actually quite similar to modules. They are objects that organize a set of functions. The difference is that they typically have data attached to them that you can manipulate. If this doesn't make sense, don't worry about it.\n",
    "\n",
    "Here is how you initialize a class with a function. Note the convention of using camelCase with class names."
   ]
  },
  {
   "cell_type": "code",
   "execution_count": 1,
   "id": "cc162d2a-7325-45e6-9e1d-409cb77b73c1",
   "metadata": {},
   "outputs": [],
   "source": [
    "class myFirstClass():\n",
    "    def __init__(self, x, y):\n",
    "        self.x = x\n",
    "        self.y = y\n",
    "        \n",
    "    def my_first_function(self, z):\n",
    "        return self.x + self.y + z"
   ]
  },
  {
   "cell_type": "markdown",
   "id": "f94d31ac-b62c-4916-b16b-981310afab3c",
   "metadata": {},
   "source": [
    "Notice that classes have an init method (a method is a function in a class) which you use to pass in data to the class that needs to be stored.\n",
    "\n",
    "Also notice that functions in methods always use `self` as their first argument. This is so you can access data and functions of the class.\n",
    "\n",
    "To use a class you need to instantiate it (assign it to a variable) like so:"
   ]
  },
  {
   "cell_type": "code",
   "execution_count": 3,
   "id": "b26e9896-0f7f-4ea8-9866-88d6aeebdadc",
   "metadata": {},
   "outputs": [
    {
     "data": {
      "text/plain": [
       "<__main__.myFirstClass at 0x7ff23435db50>"
      ]
     },
     "execution_count": 3,
     "metadata": {},
     "output_type": "execute_result"
    }
   ],
   "source": [
    "c = myFirstClass(x=1, y=2)\n",
    "c"
   ]
  },
  {
   "cell_type": "markdown",
   "id": "84a8b550-3a81-4fe6-8be0-190f634cab80",
   "metadata": {},
   "source": [
    "Notice that the function `my_first_function` depends on the data in the class"
   ]
  },
  {
   "cell_type": "code",
   "execution_count": 4,
   "id": "7de2b4b0-f230-46bf-8ffd-3167bcd57b87",
   "metadata": {},
   "outputs": [
    {
     "data": {
      "text/plain": [
       "6"
      ]
     },
     "execution_count": 4,
     "metadata": {},
     "output_type": "execute_result"
    }
   ],
   "source": [
    "c.my_first_function(3)"
   ]
  },
  {
   "cell_type": "code",
   "execution_count": null,
   "id": "2e4f5f78-5af7-4330-abb6-f0330bbc62b5",
   "metadata": {},
   "outputs": [],
   "source": []
  }
 ],
 "metadata": {
  "kernelspec": {
   "display_name": "Python [conda env:franklab_python_tutorial] *",
   "language": "python",
   "name": "conda-env-franklab_python_tutorial-py"
  },
  "language_info": {
   "codemirror_mode": {
    "name": "ipython",
    "version": 3
   },
   "file_extension": ".py",
   "mimetype": "text/x-python",
   "name": "python",
   "nbconvert_exporter": "python",
   "pygments_lexer": "ipython3",
   "version": "3.8.10"
  },
  "toc-autonumbering": false,
  "toc-showcode": false,
  "toc-showmarkdowntxt": false,
  "toc-showtags": false
 },
 "nbformat": 4,
 "nbformat_minor": 5
}
