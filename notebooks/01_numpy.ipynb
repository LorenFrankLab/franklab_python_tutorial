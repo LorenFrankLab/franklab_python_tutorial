{
 "cells": [
  {
   "cell_type": "markdown",
   "id": "d4678dad-18bd-4b61-8836-5a838b2bd058",
   "metadata": {},
   "source": [
    "## Numpy\n",
    "\n",
    "`Numpy` is the main way to deal with numerical data in python. Basic python can be slow (for loops are slow for example). Numpy avoids these problems by using efficient C code behind the scenes.\n",
    "\n",
    "Numpy was developed to be Matlab-like. As such there are many functions named the same thing. However, there are important differences. I will try to point them out here, but a good reference is this numpy guide for Matlab users: https://numpy.org/doc/stable/user/numpy-for-matlab-users.html\n",
    "\n",
    "Also note that much of this tutorial will be a parred down version of Jake VanderPlas' excellent guide *Python Data Science Handbook*, which is available free online here: https://jakevdp.github.io/PythonDataScienceHandbook\n",
    "\n",
    "Let's import the numpy package.\n",
    "\n",
    "Numpy is conventionally renamed to `np` on import. This is widely used by lots of people so it is good to keep following it."
   ]
  },
  {
   "cell_type": "code",
   "execution_count": 1,
   "id": "0b6c6b81-b0f5-45d1-9cab-5cabb5cb86bd",
   "metadata": {},
   "outputs": [],
   "source": [
    "import numpy as np"
   ]
  },
  {
   "cell_type": "markdown",
   "id": "dcb02090-8795-4bd6-a4fd-c98403674fcc",
   "metadata": {},
   "source": [
    "### Arrays\n",
    "\n",
    "The basic unit of numpy is the **numpy array**. Like a `list`, it is a container of objects. Unlike a list, it usually contains numbers and this is part of what makes it efficient to use.\n",
    "\n",
    "We can make a numpy array from a list of numbers as follows:"
   ]
  },
  {
   "cell_type": "code",
   "execution_count": 2,
   "id": "cc932022-e402-4888-94f0-978b25174519",
   "metadata": {},
   "outputs": [
    {
     "data": {
      "text/plain": [
       "array([10, 20, 30])"
      ]
     },
     "execution_count": 2,
     "metadata": {},
     "output_type": "execute_result"
    }
   ],
   "source": [
    "a = np.asarray([10, 20, 30])\n",
    "a"
   ]
  },
  {
   "cell_type": "markdown",
   "id": "f06ec023-a9ce-4b8f-b405-1cb929851cbb",
   "metadata": {},
   "source": [
    "Arrays have several important properties:\n",
    "+ `size` is the number of elements in the array.\n",
    "+ `ndim` is the number of dimensions of the array\n",
    "+ `shape` is the number of elements in each dimension\n",
    "+ `dtype` is the type of element in the array. Here are the most common types:\n",
    "    + `int64`: 64-bit integers\n",
    "    + `float64`: double precision floating point numbers\n",
    "    + `bool`: boolean"
   ]
  },
  {
   "cell_type": "code",
   "execution_count": 3,
   "id": "099174ab-acef-4126-bbe2-b1f09f2633bc",
   "metadata": {},
   "outputs": [
    {
     "data": {
      "text/plain": [
       "3"
      ]
     },
     "execution_count": 3,
     "metadata": {},
     "output_type": "execute_result"
    }
   ],
   "source": [
    "a.size"
   ]
  },
  {
   "cell_type": "code",
   "execution_count": 4,
   "id": "1bfbd717-ac04-4b24-a85d-88a63656ae12",
   "metadata": {},
   "outputs": [
    {
     "data": {
      "text/plain": [
       "1"
      ]
     },
     "execution_count": 4,
     "metadata": {},
     "output_type": "execute_result"
    }
   ],
   "source": [
    "a.ndim"
   ]
  },
  {
   "cell_type": "code",
   "execution_count": 5,
   "id": "78721565-d70c-4259-8635-602c5d50eeb2",
   "metadata": {},
   "outputs": [
    {
     "data": {
      "text/plain": [
       "(3,)"
      ]
     },
     "execution_count": 5,
     "metadata": {},
     "output_type": "execute_result"
    }
   ],
   "source": [
    "a.shape"
   ]
  },
  {
   "cell_type": "code",
   "execution_count": 6,
   "id": "824bb478-1d7d-431f-8a54-4db734a646d1",
   "metadata": {},
   "outputs": [
    {
     "data": {
      "text/plain": [
       "dtype('int64')"
      ]
     },
     "execution_count": 6,
     "metadata": {},
     "output_type": "execute_result"
    }
   ],
   "source": [
    "a.dtype"
   ]
  },
  {
   "cell_type": "markdown",
   "id": "6a182023-8457-422b-889b-a15f8160b4f7",
   "metadata": {},
   "source": [
    "We can also look at the size of the array in memory using the `nbytes` property"
   ]
  },
  {
   "cell_type": "code",
   "execution_count": 7,
   "id": "b8ad6d43-1e08-4746-afda-e12808344e4c",
   "metadata": {},
   "outputs": [
    {
     "data": {
      "text/plain": [
       "'24 bytes'"
      ]
     },
     "execution_count": 7,
     "metadata": {},
     "output_type": "execute_result"
    }
   ],
   "source": [
    "f'{a.nbytes} bytes'"
   ]
  },
  {
   "cell_type": "markdown",
   "id": "1cd1506c-0311-426d-8d27-6f184acaf09e",
   "metadata": {},
   "source": [
    "Let's make a multidimensional array and compare:"
   ]
  },
  {
   "cell_type": "code",
   "execution_count": 8,
   "id": "059e4132-7b8b-4655-baf3-593d21af59e6",
   "metadata": {},
   "outputs": [
    {
     "data": {
      "text/plain": [
       "array([[10., 11., 12.],\n",
       "       [20., 21., 22.],\n",
       "       [30., 31., 32.]])"
      ]
     },
     "execution_count": 8,
     "metadata": {},
     "output_type": "execute_result"
    }
   ],
   "source": [
    "b = np.asarray([[10.0, 11.0, 12.0],\n",
    "                [20.0, 21.0, 22.0],\n",
    "                [30.0, 31.0, 32.0]])\n",
    "b"
   ]
  },
  {
   "cell_type": "code",
   "execution_count": 9,
   "id": "8721bf45-45cb-45c9-a534-ab5dea78cb1c",
   "metadata": {},
   "outputs": [
    {
     "data": {
      "text/plain": [
       "9"
      ]
     },
     "execution_count": 9,
     "metadata": {},
     "output_type": "execute_result"
    }
   ],
   "source": [
    "b.size"
   ]
  },
  {
   "cell_type": "code",
   "execution_count": 10,
   "id": "bd13cc51-27fa-427c-a429-d97c70c2c855",
   "metadata": {},
   "outputs": [
    {
     "data": {
      "text/plain": [
       "2"
      ]
     },
     "execution_count": 10,
     "metadata": {},
     "output_type": "execute_result"
    }
   ],
   "source": [
    "b.ndim"
   ]
  },
  {
   "cell_type": "code",
   "execution_count": 11,
   "id": "55571ad5-ab2e-43ac-adf4-8722647b988d",
   "metadata": {},
   "outputs": [
    {
     "data": {
      "text/plain": [
       "(3, 3)"
      ]
     },
     "execution_count": 11,
     "metadata": {},
     "output_type": "execute_result"
    }
   ],
   "source": [
    "b.shape"
   ]
  },
  {
   "cell_type": "code",
   "execution_count": 12,
   "id": "e43d42b7-60ed-4365-a2c1-4e98f2b83177",
   "metadata": {},
   "outputs": [
    {
     "data": {
      "text/plain": [
       "dtype('float64')"
      ]
     },
     "execution_count": 12,
     "metadata": {},
     "output_type": "execute_result"
    }
   ],
   "source": [
    "b.dtype"
   ]
  },
  {
   "cell_type": "code",
   "execution_count": 13,
   "id": "29eb74a2-7b9a-4c0c-946f-480fd6c0523f",
   "metadata": {},
   "outputs": [
    {
     "data": {
      "text/plain": [
       "'72 bytes'"
      ]
     },
     "execution_count": 13,
     "metadata": {},
     "output_type": "execute_result"
    }
   ],
   "source": [
    "f'{b.nbytes} bytes'"
   ]
  },
  {
   "cell_type": "markdown",
   "id": "7f4fc4ca-0747-4a40-b32d-eba20205e533",
   "metadata": {},
   "source": [
    "We can see that this array has two dimensions with three elements each. The array takes up more space in memory because it has more elements and because it is of type `float64` (floating point numbers take up more space than integers)."
   ]
  },
  {
   "cell_type": "markdown",
   "id": "670a334f-7003-4a4d-bc37-5aed0d83347e",
   "metadata": {},
   "source": [
    "### Indexing into numpy arrays\n",
    "\n",
    "Indexing into numpy arrays is very similar to indexing into lists, except we have to deal with the dimensions of the array."
   ]
  },
  {
   "cell_type": "code",
   "execution_count": 14,
   "id": "024f7451-83cf-4d99-811e-af75fbacf79f",
   "metadata": {},
   "outputs": [
    {
     "data": {
      "text/plain": [
       "array([[10., 11., 12.],\n",
       "       [20., 21., 22.],\n",
       "       [30., 31., 32.]])"
      ]
     },
     "execution_count": 14,
     "metadata": {},
     "output_type": "execute_result"
    }
   ],
   "source": [
    "b"
   ]
  },
  {
   "cell_type": "code",
   "execution_count": 15,
   "id": "67ba0ca5-ddc5-4e09-bbf9-2f54e8d7c032",
   "metadata": {},
   "outputs": [
    {
     "data": {
      "text/plain": [
       "10.0"
      ]
     },
     "execution_count": 15,
     "metadata": {},
     "output_type": "execute_result"
    }
   ],
   "source": [
    "b[0, 0]"
   ]
  },
  {
   "cell_type": "code",
   "execution_count": 16,
   "id": "82b7781f-bd5e-4b66-b981-4bd5aabea8a9",
   "metadata": {},
   "outputs": [
    {
     "data": {
      "text/plain": [
       "20.0"
      ]
     },
     "execution_count": 16,
     "metadata": {},
     "output_type": "execute_result"
    }
   ],
   "source": [
    "b[1, 0]"
   ]
  },
  {
   "cell_type": "code",
   "execution_count": 17,
   "id": "4d468884-84ea-4f29-8c18-ba0836813ef3",
   "metadata": {},
   "outputs": [
    {
     "data": {
      "text/plain": [
       "30.0"
      ]
     },
     "execution_count": 17,
     "metadata": {},
     "output_type": "execute_result"
    }
   ],
   "source": [
    "b[2, 0]"
   ]
  },
  {
   "cell_type": "code",
   "execution_count": 18,
   "id": "88817534-7db9-4ab4-8581-4d49f68d66fe",
   "metadata": {},
   "outputs": [
    {
     "data": {
      "text/plain": [
       "11.0"
      ]
     },
     "execution_count": 18,
     "metadata": {},
     "output_type": "execute_result"
    }
   ],
   "source": [
    "b[0, 1]"
   ]
  },
  {
   "cell_type": "code",
   "execution_count": 19,
   "id": "220a30dd-026b-47d4-9434-cd7c17bb0b05",
   "metadata": {},
   "outputs": [
    {
     "data": {
      "text/plain": [
       "12.0"
      ]
     },
     "execution_count": 19,
     "metadata": {},
     "output_type": "execute_result"
    }
   ],
   "source": [
    "b[0, 2]"
   ]
  },
  {
   "cell_type": "markdown",
   "id": "dddce083-30c5-4baf-b746-b9c8778fcaa9",
   "metadata": {},
   "source": [
    "Like in lists, we can use the colons to give us several elements of a dimension using `array[start:stop:step]`\n",
    "\n",
    "We can also omit start, stop, and step for convenience. For example:"
   ]
  },
  {
   "cell_type": "code",
   "execution_count": 20,
   "id": "82057d26-e85a-4844-80cf-af2abf7a0dc6",
   "metadata": {},
   "outputs": [
    {
     "data": {
      "text/plain": [
       "array([10., 11., 12.])"
      ]
     },
     "execution_count": 20,
     "metadata": {},
     "output_type": "execute_result"
    }
   ],
   "source": [
    "b[0, 0:3:1]"
   ]
  },
  {
   "cell_type": "markdown",
   "id": "4d056d89-00fc-48d5-be31-1f741ef22452",
   "metadata": {},
   "source": [
    "This is the same as:"
   ]
  },
  {
   "cell_type": "code",
   "execution_count": 21,
   "id": "3bc70700-1d78-4815-af68-3901657c835d",
   "metadata": {},
   "outputs": [
    {
     "data": {
      "text/plain": [
       "array([10., 11., 12.])"
      ]
     },
     "execution_count": 21,
     "metadata": {},
     "output_type": "execute_result"
    }
   ],
   "source": [
    "b[0, :]"
   ]
  },
  {
   "cell_type": "markdown",
   "id": "621f6a20-4bd5-4d3f-b060-17ca6fafd0d6",
   "metadata": {},
   "source": [
    "We can do it for the other dimensions as well:"
   ]
  },
  {
   "cell_type": "code",
   "execution_count": 22,
   "id": "1f99b8f5-6266-4794-9b36-3f403b3e85ac",
   "metadata": {},
   "outputs": [
    {
     "data": {
      "text/plain": [
       "array([10., 20., 30.])"
      ]
     },
     "execution_count": 22,
     "metadata": {},
     "output_type": "execute_result"
    }
   ],
   "source": [
    "b[:, 0]"
   ]
  },
  {
   "cell_type": "code",
   "execution_count": 23,
   "id": "a1dfba5b-09da-483c-a158-561b30cf06f1",
   "metadata": {},
   "outputs": [
    {
     "data": {
      "text/plain": [
       "array([11., 21., 31.])"
      ]
     },
     "execution_count": 23,
     "metadata": {},
     "output_type": "execute_result"
    }
   ],
   "source": [
    "b[:, 1]"
   ]
  },
  {
   "cell_type": "markdown",
   "id": "1507cb2e-6eea-46b5-b483-37d576b8b015",
   "metadata": {},
   "source": [
    "You can omit the colon if it's the first dimension"
   ]
  },
  {
   "cell_type": "code",
   "execution_count": 24,
   "id": "98f4a50a-f7bb-4337-978f-80ca418dbfcf",
   "metadata": {},
   "outputs": [
    {
     "data": {
      "text/plain": [
       "array([10., 11., 12.])"
      ]
     },
     "execution_count": 24,
     "metadata": {},
     "output_type": "execute_result"
    }
   ],
   "source": [
    "b[0]"
   ]
  },
  {
   "cell_type": "code",
   "execution_count": 25,
   "id": "17f52812-55cf-4cce-ae99-0385a92953a2",
   "metadata": {},
   "outputs": [
    {
     "data": {
      "text/plain": [
       "array([10., 11., 12.])"
      ]
     },
     "execution_count": 25,
     "metadata": {},
     "output_type": "execute_result"
    }
   ],
   "source": [
    "b[0, :]"
   ]
  },
  {
   "cell_type": "markdown",
   "id": "3e9e67ce-bedb-4dc2-8c1b-c4a8ea9abdd0",
   "metadata": {},
   "source": [
    "You can also reverse elements of the array like in lists using step"
   ]
  },
  {
   "cell_type": "code",
   "execution_count": 26,
   "id": "57fd6dd4-ca0b-4321-b28e-058db7ad317c",
   "metadata": {},
   "outputs": [
    {
     "data": {
      "text/plain": [
       "array([10., 11., 12.])"
      ]
     },
     "execution_count": 26,
     "metadata": {},
     "output_type": "execute_result"
    }
   ],
   "source": [
    "b[0]"
   ]
  },
  {
   "cell_type": "code",
   "execution_count": 27,
   "id": "f4f1eefe-76a2-435c-8195-c304235e8573",
   "metadata": {},
   "outputs": [
    {
     "data": {
      "text/plain": [
       "array([12., 11., 10.])"
      ]
     },
     "execution_count": 27,
     "metadata": {},
     "output_type": "execute_result"
    }
   ],
   "source": [
    "b[0, ::-1]"
   ]
  },
  {
   "cell_type": "markdown",
   "id": "a8592935-7328-42ce-9a6f-122ee237c08b",
   "metadata": {},
   "source": [
    "You can also index into two dimensions at once"
   ]
  },
  {
   "cell_type": "code",
   "execution_count": 28,
   "id": "50a6172b-72fb-4df2-ae88-d3a9d86dd456",
   "metadata": {},
   "outputs": [
    {
     "data": {
      "text/plain": [
       "array([[10., 11., 12.],\n",
       "       [20., 21., 22.],\n",
       "       [30., 31., 32.]])"
      ]
     },
     "execution_count": 28,
     "metadata": {},
     "output_type": "execute_result"
    }
   ],
   "source": [
    "b"
   ]
  },
  {
   "cell_type": "code",
   "execution_count": 29,
   "id": "043a6d50-ce5e-4e1b-b5c6-16a663ff84ee",
   "metadata": {},
   "outputs": [
    {
     "data": {
      "text/plain": [
       "array([[10., 12.],\n",
       "       [30., 32.]])"
      ]
     },
     "execution_count": 29,
     "metadata": {},
     "output_type": "execute_result"
    }
   ],
   "source": [
    "b[::2, ::2]"
   ]
  },
  {
   "cell_type": "code",
   "execution_count": 30,
   "id": "d6f34ce7-4b23-4467-b376-7bb891b6fb06",
   "metadata": {},
   "outputs": [
    {
     "data": {
      "text/plain": [
       "array([[10., 11.],\n",
       "       [20., 21.]])"
      ]
     },
     "execution_count": 30,
     "metadata": {},
     "output_type": "execute_result"
    }
   ],
   "source": [
    "b[:2, :2]"
   ]
  },
  {
   "cell_type": "markdown",
   "id": "65d374c3-83f7-4109-b6c5-88d879ba2630",
   "metadata": {},
   "source": [
    "You can use `np.ix_` to index specific elements of each dimension in a Matlab-like way"
   ]
  },
  {
   "cell_type": "code",
   "execution_count": 31,
   "id": "028a1273-37c9-4924-b837-11df43351d97",
   "metadata": {},
   "outputs": [
    {
     "data": {
      "text/plain": [
       "array([[11., 12.],\n",
       "       [21., 22.]])"
      ]
     },
     "execution_count": 31,
     "metadata": {},
     "output_type": "execute_result"
    }
   ],
   "source": [
    "b[np.ix_([0, 1], [1, 2])]"
   ]
  },
  {
   "cell_type": "markdown",
   "id": "668dcdcf-8424-4b84-9b99-e99921fe20fe",
   "metadata": {},
   "source": [
    "This says give me the intersection of row 0 and row 1 and column 1 and column 2. Note that `np.ix_` achieves this by outputting a tuple with the following arrays:"
   ]
  },
  {
   "cell_type": "code",
   "execution_count": 32,
   "id": "0216eb07-d728-4ca9-9694-a05b5966cd36",
   "metadata": {},
   "outputs": [
    {
     "data": {
      "text/plain": [
       "(array([[0],\n",
       "        [1]]),\n",
       " array([[1, 2]]))"
      ]
     },
     "execution_count": 32,
     "metadata": {},
     "output_type": "execute_result"
    }
   ],
   "source": [
    "np.ix_([0, 1], [1, 2])"
   ]
  },
  {
   "cell_type": "markdown",
   "id": "9ed746dd-3888-4ceb-a8fd-edc4bff630b7",
   "metadata": {},
   "source": [
    "This says give me the intersection of row 0 and row 1 and column 0 and column 2"
   ]
  },
  {
   "cell_type": "code",
   "execution_count": 33,
   "id": "369d793a-f278-424d-9e59-6e42d9a1180d",
   "metadata": {},
   "outputs": [
    {
     "data": {
      "text/plain": [
       "array([[10., 12.],\n",
       "       [20., 22.]])"
      ]
     },
     "execution_count": 33,
     "metadata": {},
     "output_type": "execute_result"
    }
   ],
   "source": [
    "b[np.ix_([0, 1], [0, 2])]"
   ]
  },
  {
   "cell_type": "code",
   "execution_count": 34,
   "id": "355fd6f6-31e7-483c-a13a-830e70a14248",
   "metadata": {},
   "outputs": [
    {
     "data": {
      "text/plain": [
       "array([[20., 22.],\n",
       "       [30., 32.]])"
      ]
     },
     "execution_count": 34,
     "metadata": {},
     "output_type": "execute_result"
    }
   ],
   "source": [
    "b[np.ix_([1, 2], [0, 2])]"
   ]
  },
  {
   "cell_type": "markdown",
   "id": "52156378-1afc-401f-aa8b-30819a4426bc",
   "metadata": {},
   "source": [
    "You can use boolean arrays to index into arrays"
   ]
  },
  {
   "cell_type": "code",
   "execution_count": 35,
   "id": "7d6a41dc-e752-4ed9-ace4-d91eecbd80fe",
   "metadata": {},
   "outputs": [
    {
     "data": {
      "text/plain": [
       "array([[10., 11., 12.],\n",
       "       [20., 21., 22.],\n",
       "       [30., 31., 32.]])"
      ]
     },
     "execution_count": 35,
     "metadata": {},
     "output_type": "execute_result"
    }
   ],
   "source": [
    "b"
   ]
  },
  {
   "cell_type": "code",
   "execution_count": 36,
   "id": "ee74b51e-fe83-4b2a-bb14-900725b17678",
   "metadata": {},
   "outputs": [
    {
     "data": {
      "text/plain": [
       "array([[10., 11., 12.],\n",
       "       [30., 31., 32.]])"
      ]
     },
     "execution_count": 36,
     "metadata": {},
     "output_type": "execute_result"
    }
   ],
   "source": [
    "is_true = np.asarray([True, False, True])\n",
    "\n",
    "b[is_true]"
   ]
  },
  {
   "cell_type": "markdown",
   "id": "7ada728f-2725-432b-abf9-725eb60a33fd",
   "metadata": {},
   "source": [
    "Note that you can also use `np.ix_` with boolean arrays:"
   ]
  },
  {
   "cell_type": "code",
   "execution_count": 37,
   "id": "fbe535a6-fe57-4325-b3c1-41ef8c01825c",
   "metadata": {},
   "outputs": [
    {
     "data": {
      "text/plain": [
       "array([[11., 12.],\n",
       "       [31., 32.]])"
      ]
     },
     "execution_count": 37,
     "metadata": {},
     "output_type": "execute_result"
    }
   ],
   "source": [
    "b[np.ix_([True, False, True], [False, True, True])]"
   ]
  },
  {
   "cell_type": "markdown",
   "id": "30a3eb29-f64c-4f74-bbc0-c018a345f152",
   "metadata": {},
   "source": [
    "You can use comparisons to implicitly generate boolean arrays. Notice that this flattens the array in this case."
   ]
  },
  {
   "cell_type": "code",
   "execution_count": 38,
   "id": "7d273b67-3984-44bd-8780-c3a5ee70e663",
   "metadata": {},
   "outputs": [
    {
     "data": {
      "text/plain": [
       "array([10., 11., 12., 20.])"
      ]
     },
     "execution_count": 38,
     "metadata": {},
     "output_type": "execute_result"
    }
   ],
   "source": [
    "b[b < 21]"
   ]
  },
  {
   "cell_type": "markdown",
   "id": "7a5aaca9-05fa-4b5b-a3ce-234195744478",
   "metadata": {},
   "source": [
    "We can also combine comparisons. We do this using python's bitwise operators, which act on each element of the array. The parenthesis are important here:\n",
    "+ `|` means **or**\n",
    "+ `&` means **and**\n",
    "+ `~` means **not**"
   ]
  },
  {
   "cell_type": "code",
   "execution_count": 39,
   "id": "6d121684-553d-4c9c-9abe-e4fc3e79f42f",
   "metadata": {},
   "outputs": [
    {
     "data": {
      "text/plain": [
       "array([10., 11., 12., 20., 32.])"
      ]
     },
     "execution_count": 39,
     "metadata": {},
     "output_type": "execute_result"
    }
   ],
   "source": [
    "b[(b < 21) | (b > 31)]"
   ]
  },
  {
   "cell_type": "code",
   "execution_count": 40,
   "id": "673fb51f-716b-4d65-88f6-2abf72702cb1",
   "metadata": {},
   "outputs": [
    {
     "data": {
      "text/plain": [
       "array([10., 11., 12., 20.])"
      ]
     },
     "execution_count": 40,
     "metadata": {},
     "output_type": "execute_result"
    }
   ],
   "source": [
    "b[(b < 21) & ~(b > 31)]"
   ]
  },
  {
   "cell_type": "markdown",
   "id": "e2741b57-558c-4409-a4eb-948c5459c7b3",
   "metadata": {},
   "source": [
    "### Modifying existing arrays\n",
    "\n",
    "Like lists, you can also modify elements of the array using indexing"
   ]
  },
  {
   "cell_type": "code",
   "execution_count": 41,
   "id": "2cb0c05f-47bf-4501-affd-854d24071a75",
   "metadata": {},
   "outputs": [
    {
     "data": {
      "text/plain": [
       "array([[10., 11., 12.],\n",
       "       [20., 21., 22.],\n",
       "       [30., 31., 32.]])"
      ]
     },
     "execution_count": 41,
     "metadata": {},
     "output_type": "execute_result"
    }
   ],
   "source": [
    "b"
   ]
  },
  {
   "cell_type": "code",
   "execution_count": 42,
   "id": "a75fd6a7-07ac-4b95-9bbb-9264faad13a7",
   "metadata": {},
   "outputs": [
    {
     "data": {
      "text/plain": [
       "array([[ 9., 11., 12.],\n",
       "       [20., 21., 22.],\n",
       "       [30., 31., 32.]])"
      ]
     },
     "execution_count": 42,
     "metadata": {},
     "output_type": "execute_result"
    }
   ],
   "source": [
    "b[0, 0] = 9\n",
    "b"
   ]
  },
  {
   "cell_type": "code",
   "execution_count": 43,
   "id": "359a4d8c-abea-46e9-8e51-44443a1a39db",
   "metadata": {},
   "outputs": [
    {
     "data": {
      "text/plain": [
       "array([[ 9., 11.,  2.],\n",
       "       [20., 21.,  2.],\n",
       "       [30., 31.,  2.]])"
      ]
     },
     "execution_count": 43,
     "metadata": {},
     "output_type": "execute_result"
    }
   ],
   "source": [
    "b[:, 2] = 2\n",
    "b"
   ]
  },
  {
   "cell_type": "code",
   "execution_count": 44,
   "id": "794e740f-cb69-48c1-b6ec-648a3a3700f0",
   "metadata": {},
   "outputs": [
    {
     "data": {
      "text/plain": [
       "array([[ 9., 11.,  1.],\n",
       "       [20., 21.,  2.],\n",
       "       [30., 31.,  3.]])"
      ]
     },
     "execution_count": 44,
     "metadata": {},
     "output_type": "execute_result"
    }
   ],
   "source": [
    "b[:, 2] = [1, 2, 3]\n",
    "b"
   ]
  },
  {
   "cell_type": "markdown",
   "id": "f33a902f-8d63-4414-bea9-07c7d0e21331",
   "metadata": {},
   "source": [
    "You can add a new dimension to the array by using `np.newaxis`"
   ]
  },
  {
   "cell_type": "code",
   "execution_count": 45,
   "id": "65ff7537-9626-4128-a26f-cf8a05b60fe0",
   "metadata": {},
   "outputs": [
    {
     "data": {
      "text/plain": [
       "(3, 3)"
      ]
     },
     "execution_count": 45,
     "metadata": {},
     "output_type": "execute_result"
    }
   ],
   "source": [
    "b.shape"
   ]
  },
  {
   "cell_type": "code",
   "execution_count": 46,
   "id": "025b68a4-e698-46f0-9289-ba2749ed32e0",
   "metadata": {},
   "outputs": [
    {
     "data": {
      "text/plain": [
       "(3, 3, 1)"
      ]
     },
     "execution_count": 46,
     "metadata": {},
     "output_type": "execute_result"
    }
   ],
   "source": [
    "b[:, :, np.newaxis].shape"
   ]
  },
  {
   "cell_type": "markdown",
   "id": "0edfd19a-8486-48e2-8aa9-1fdc21c135c7",
   "metadata": {},
   "source": [
    "#### Reshaping arrays"
   ]
  },
  {
   "cell_type": "code",
   "execution_count": 47,
   "id": "4b5f754e-5fff-4d06-902a-db0adc59d21c",
   "metadata": {},
   "outputs": [
    {
     "data": {
      "text/plain": [
       "array([[0, 0, 0],\n",
       "       [1, 1, 1]])"
      ]
     },
     "execution_count": 47,
     "metadata": {},
     "output_type": "execute_result"
    }
   ],
   "source": [
    "c = np.asarray([[0, 0, 0],\n",
    "                [1, 1, 1]])\n",
    "c"
   ]
  },
  {
   "cell_type": "code",
   "execution_count": 48,
   "id": "d6821c53-a5b8-45c1-a708-078e37a49b60",
   "metadata": {},
   "outputs": [
    {
     "data": {
      "text/plain": [
       "(2, 3)"
      ]
     },
     "execution_count": 48,
     "metadata": {},
     "output_type": "execute_result"
    }
   ],
   "source": [
    "c.shape"
   ]
  },
  {
   "cell_type": "code",
   "execution_count": 49,
   "id": "e114947d-b8c5-4537-b4af-3784ba3f0477",
   "metadata": {},
   "outputs": [
    {
     "data": {
      "text/plain": [
       "array([[0, 0],\n",
       "       [0, 1],\n",
       "       [1, 1]])"
      ]
     },
     "execution_count": 49,
     "metadata": {},
     "output_type": "execute_result"
    }
   ],
   "source": [
    "c.reshape((3, 2))"
   ]
  },
  {
   "cell_type": "code",
   "execution_count": 50,
   "id": "38e3c115-8b0f-42d9-b2a6-65d0e271bb32",
   "metadata": {},
   "outputs": [
    {
     "data": {
      "text/plain": [
       "(3, 2)"
      ]
     },
     "execution_count": 50,
     "metadata": {},
     "output_type": "execute_result"
    }
   ],
   "source": [
    "c.reshape((3, 2)).shape"
   ]
  },
  {
   "cell_type": "code",
   "execution_count": 51,
   "id": "38fbc579-afcc-4893-bddc-7c71da9a8cc1",
   "metadata": {},
   "outputs": [
    {
     "data": {
      "text/plain": [
       "array([0, 0, 0, 1, 1, 1])"
      ]
     },
     "execution_count": 51,
     "metadata": {},
     "output_type": "execute_result"
    }
   ],
   "source": [
    "c.reshape((6,))"
   ]
  },
  {
   "cell_type": "code",
   "execution_count": 52,
   "id": "39d5be3f-b4a6-4c7f-97b2-55a20fa5257e",
   "metadata": {},
   "outputs": [
    {
     "data": {
      "text/plain": [
       "array([0, 0, 0, 1, 1, 1])"
      ]
     },
     "execution_count": 52,
     "metadata": {},
     "output_type": "execute_result"
    }
   ],
   "source": [
    "c.flatten()"
   ]
  },
  {
   "cell_type": "markdown",
   "id": "e7ee0029-9d57-486f-97bf-47e2f3a94afd",
   "metadata": {},
   "source": [
    "### Joining arrays\n",
    "\n",
    "Use the functions `np.concatenate` and `np.stack` to join arrays together.\n",
    "\n",
    "Notice that these each take an `axis` keyword argument to specify which dimensions to combine the arrays."
   ]
  },
  {
   "cell_type": "code",
   "execution_count": 53,
   "id": "4fcf38ba-69a8-4e61-a45d-0033e1a5f50d",
   "metadata": {},
   "outputs": [],
   "source": [
    "a = np.asarray([1, 1, 1])\n",
    "b = np.asarray([0, 0, 0])"
   ]
  },
  {
   "cell_type": "code",
   "execution_count": 54,
   "id": "6651f101-b9ac-46d0-b571-fd08c826d75b",
   "metadata": {},
   "outputs": [
    {
     "data": {
      "text/plain": [
       "array([1, 1, 1])"
      ]
     },
     "execution_count": 54,
     "metadata": {},
     "output_type": "execute_result"
    }
   ],
   "source": [
    "a"
   ]
  },
  {
   "cell_type": "code",
   "execution_count": 55,
   "id": "9253d3a8-0cfc-41d0-ba4d-dc5ce34561b5",
   "metadata": {},
   "outputs": [
    {
     "data": {
      "text/plain": [
       "array([0, 0, 0])"
      ]
     },
     "execution_count": 55,
     "metadata": {},
     "output_type": "execute_result"
    }
   ],
   "source": [
    "b"
   ]
  },
  {
   "cell_type": "code",
   "execution_count": 56,
   "id": "f835c8c9-1659-4e57-84f4-18e6f540627d",
   "metadata": {},
   "outputs": [
    {
     "data": {
      "text/plain": [
       "(3,)"
      ]
     },
     "execution_count": 56,
     "metadata": {},
     "output_type": "execute_result"
    }
   ],
   "source": [
    "a.shape"
   ]
  },
  {
   "cell_type": "code",
   "execution_count": 57,
   "id": "489b4d0e-3b13-4b5f-b998-7a984a864f53",
   "metadata": {},
   "outputs": [
    {
     "data": {
      "text/plain": [
       "(3,)"
      ]
     },
     "execution_count": 57,
     "metadata": {},
     "output_type": "execute_result"
    }
   ],
   "source": [
    "b.shape"
   ]
  },
  {
   "cell_type": "code",
   "execution_count": 58,
   "id": "268bb2ca-dccb-4228-aaff-3bac5ce836c8",
   "metadata": {},
   "outputs": [
    {
     "data": {
      "text/plain": [
       "array([1, 1, 1, 0, 0, 0])"
      ]
     },
     "execution_count": 58,
     "metadata": {},
     "output_type": "execute_result"
    }
   ],
   "source": [
    "c = np.concatenate((a, b), axis=0)\n",
    "\n",
    "c"
   ]
  },
  {
   "cell_type": "code",
   "execution_count": 59,
   "id": "f0a73703-d647-4e8b-b653-fd7a4f7cd6d2",
   "metadata": {},
   "outputs": [
    {
     "data": {
      "text/plain": [
       "(6,)"
      ]
     },
     "execution_count": 59,
     "metadata": {},
     "output_type": "execute_result"
    }
   ],
   "source": [
    "c.shape"
   ]
  },
  {
   "cell_type": "code",
   "execution_count": 60,
   "id": "aa735175-c14e-4d9b-a9c8-5b6fb5ba81ba",
   "metadata": {},
   "outputs": [],
   "source": [
    "# np.concatenate((a, b), axis=1)"
   ]
  },
  {
   "cell_type": "code",
   "execution_count": 61,
   "id": "6319208a-f932-4f1a-afad-3e80e2857d05",
   "metadata": {},
   "outputs": [
    {
     "data": {
      "text/plain": [
       "array([[1, 0],\n",
       "       [1, 0],\n",
       "       [1, 0]])"
      ]
     },
     "execution_count": 61,
     "metadata": {},
     "output_type": "execute_result"
    }
   ],
   "source": [
    "np.concatenate((a[:, np.newaxis], b[:, np.newaxis]), axis=1)"
   ]
  },
  {
   "cell_type": "code",
   "execution_count": 62,
   "id": "0d24db32-2ded-45c8-86a7-057c26c1d499",
   "metadata": {},
   "outputs": [
    {
     "data": {
      "text/plain": [
       "(3, 2)"
      ]
     },
     "execution_count": 62,
     "metadata": {},
     "output_type": "execute_result"
    }
   ],
   "source": [
    "np.concatenate((a[:, np.newaxis], b[:, np.newaxis]), axis=1).shape"
   ]
  },
  {
   "cell_type": "markdown",
   "id": "e7e8764c-699e-4913-8286-b11390737717",
   "metadata": {},
   "source": [
    "`stack` is just like concatenate but it automatically adds a new axis"
   ]
  },
  {
   "cell_type": "code",
   "execution_count": 63,
   "id": "befe19d4-97c9-4f82-a4f0-f2178a093a70",
   "metadata": {},
   "outputs": [
    {
     "data": {
      "text/plain": [
       "array([[1, 1, 1],\n",
       "       [0, 0, 0]])"
      ]
     },
     "execution_count": 63,
     "metadata": {},
     "output_type": "execute_result"
    }
   ],
   "source": [
    "np.stack((a, b), axis=0)"
   ]
  },
  {
   "cell_type": "code",
   "execution_count": 64,
   "id": "15189157-8678-42b2-ad17-5cd480a4a334",
   "metadata": {},
   "outputs": [
    {
     "data": {
      "text/plain": [
       "array([[1, 0],\n",
       "       [1, 0],\n",
       "       [1, 0]])"
      ]
     },
     "execution_count": 64,
     "metadata": {},
     "output_type": "execute_result"
    }
   ],
   "source": [
    "np.stack((a, b), axis=1)"
   ]
  },
  {
   "cell_type": "markdown",
   "id": "96273fd8-3376-44fd-a9b4-405f90d2b76a",
   "metadata": {},
   "source": [
    "### Universal Functions\n",
    "\n",
    "For Loops in python are slow. Take advantage of the C code implementations used by numpy by using array operations.\n",
    "\n",
    "You can apply basic math functions for all elements of an array."
   ]
  },
  {
   "cell_type": "code",
   "execution_count": 65,
   "id": "b41f0839-6284-4769-ab15-d22c27684b9d",
   "metadata": {},
   "outputs": [
    {
     "data": {
      "text/plain": [
       "array([1, 1, 1])"
      ]
     },
     "execution_count": 65,
     "metadata": {},
     "output_type": "execute_result"
    }
   ],
   "source": [
    "a"
   ]
  },
  {
   "cell_type": "code",
   "execution_count": 66,
   "id": "c7d49c72-1dff-47a3-9fce-83ee213b37ae",
   "metadata": {},
   "outputs": [
    {
     "data": {
      "text/plain": [
       "array([0., 0., 0.])"
      ]
     },
     "execution_count": 66,
     "metadata": {},
     "output_type": "execute_result"
    }
   ],
   "source": [
    "np.log(a)"
   ]
  },
  {
   "cell_type": "code",
   "execution_count": 67,
   "id": "4cf24e61-38dc-4b53-a453-375f4ff85408",
   "metadata": {},
   "outputs": [
    {
     "data": {
      "text/plain": [
       "array([3, 3, 3])"
      ]
     },
     "execution_count": 67,
     "metadata": {},
     "output_type": "execute_result"
    }
   ],
   "source": [
    "a * 3"
   ]
  },
  {
   "cell_type": "code",
   "execution_count": 68,
   "id": "26f991aa-fcd2-4aab-b2cb-4b0d4e68349a",
   "metadata": {},
   "outputs": [
    {
     "data": {
      "text/plain": [
       "array([-2, -2, -2])"
      ]
     },
     "execution_count": 68,
     "metadata": {},
     "output_type": "execute_result"
    }
   ],
   "source": [
    "a - 3"
   ]
  },
  {
   "cell_type": "code",
   "execution_count": 69,
   "id": "4d1596c1-86d2-4ca6-8637-09acd3da783e",
   "metadata": {},
   "outputs": [
    {
     "data": {
      "text/plain": [
       "array([8, 8, 8])"
      ]
     },
     "execution_count": 69,
     "metadata": {},
     "output_type": "execute_result"
    }
   ],
   "source": [
    "(a + 1) ** 3"
   ]
  },
  {
   "cell_type": "markdown",
   "id": "9150a5f4-928d-47ed-a697-801f2d55b9ea",
   "metadata": {},
   "source": [
    "There are also a number of numpy functions that can be applied universally over every element or over an individual axis of the array."
   ]
  },
  {
   "cell_type": "code",
   "execution_count": 70,
   "id": "6aedde73-62b8-419d-82a0-2c9a555b5972",
   "metadata": {},
   "outputs": [
    {
     "data": {
      "text/plain": [
       "(2, 3)"
      ]
     },
     "execution_count": 70,
     "metadata": {},
     "output_type": "execute_result"
    }
   ],
   "source": [
    "c = np.asarray([[0, 0, 0],\n",
    "                [1, 1, 1]])\n",
    "c.shape"
   ]
  },
  {
   "cell_type": "code",
   "execution_count": 71,
   "id": "30a22499-8d37-40c5-811c-04841bfa4e4a",
   "metadata": {},
   "outputs": [
    {
     "data": {
      "text/plain": [
       "0.5"
      ]
     },
     "execution_count": 71,
     "metadata": {},
     "output_type": "execute_result"
    }
   ],
   "source": [
    "np.mean(c)"
   ]
  },
  {
   "cell_type": "code",
   "execution_count": 72,
   "id": "fe3ae464-ac14-4b13-86e8-ce760da00b14",
   "metadata": {},
   "outputs": [
    {
     "data": {
      "text/plain": [
       "array([0.5, 0.5, 0.5])"
      ]
     },
     "execution_count": 72,
     "metadata": {},
     "output_type": "execute_result"
    }
   ],
   "source": [
    "np.mean(c, axis=0)"
   ]
  },
  {
   "cell_type": "markdown",
   "id": "64b2b7e5-4c46-4856-bee5-1e609253cb53",
   "metadata": {},
   "source": [
    "Note that applying over axis 0 means taking the mean on the columns.\n",
    "\n",
    "Applying over axis 1 means taking the mean on the rows"
   ]
  },
  {
   "cell_type": "code",
   "execution_count": 73,
   "id": "332ce0db-fd8e-4fe8-a6ab-e88b552853f4",
   "metadata": {},
   "outputs": [
    {
     "data": {
      "text/plain": [
       "array([0., 1.])"
      ]
     },
     "execution_count": 73,
     "metadata": {},
     "output_type": "execute_result"
    }
   ],
   "source": [
    "np.mean(c, axis=1)"
   ]
  },
  {
   "cell_type": "markdown",
   "id": "ec6ad34b-ada0-444e-b1f8-6b184cb0dd04",
   "metadata": {},
   "source": [
    "You can also apply the mean over several axes at a time. In this case, because there are only two axes, the result is the same as taking the mean over all elements"
   ]
  },
  {
   "cell_type": "code",
   "execution_count": 74,
   "id": "a78a5f0b-bb49-4c10-b0c5-2161d22010f1",
   "metadata": {},
   "outputs": [
    {
     "data": {
      "text/plain": [
       "0.5"
      ]
     },
     "execution_count": 74,
     "metadata": {},
     "output_type": "execute_result"
    }
   ],
   "source": [
    "np.mean(c, axis=(0, 1))"
   ]
  },
  {
   "cell_type": "markdown",
   "id": "ea24b0d9-ae7a-4c5a-8bca-3cbaf5ede2fe",
   "metadata": {},
   "source": [
    "Note that some of these functions can be called directly on the arrays. You can use `dir(c)` where `c` is a numpy array to figure out which functions these are:"
   ]
  },
  {
   "cell_type": "code",
   "execution_count": 75,
   "id": "8689ac60-1a17-42e4-9986-731daf5ddb8a",
   "metadata": {},
   "outputs": [
    {
     "data": {
      "text/plain": [
       "0.5"
      ]
     },
     "execution_count": 75,
     "metadata": {},
     "output_type": "execute_result"
    }
   ],
   "source": [
    "c.mean()"
   ]
  },
  {
   "cell_type": "markdown",
   "id": "97626fbf-2ddc-4083-933d-71aac71d7948",
   "metadata": {},
   "source": [
    "Some other useful functions"
   ]
  },
  {
   "cell_type": "code",
   "execution_count": 76,
   "id": "7ec27513-5ac4-4c7b-9bfe-50cea7e5a295",
   "metadata": {},
   "outputs": [
    {
     "data": {
      "text/plain": [
       "1"
      ]
     },
     "execution_count": 76,
     "metadata": {},
     "output_type": "execute_result"
    }
   ],
   "source": [
    "np.max(c)"
   ]
  },
  {
   "cell_type": "code",
   "execution_count": 77,
   "id": "eef6fefd-88d4-41a5-802c-ebdc485b0f6a",
   "metadata": {},
   "outputs": [
    {
     "data": {
      "text/plain": [
       "0"
      ]
     },
     "execution_count": 77,
     "metadata": {},
     "output_type": "execute_result"
    }
   ],
   "source": [
    "np.min(c)"
   ]
  },
  {
   "cell_type": "code",
   "execution_count": 78,
   "id": "59f17141-c51c-49e3-a4dc-3bb845123bc9",
   "metadata": {},
   "outputs": [
    {
     "data": {
      "text/plain": [
       "array([0, 1])"
      ]
     },
     "execution_count": 78,
     "metadata": {},
     "output_type": "execute_result"
    }
   ],
   "source": [
    "np.unique(c)"
   ]
  },
  {
   "cell_type": "code",
   "execution_count": 79,
   "id": "9487192c-e005-40e3-977a-0cddcfeaecd7",
   "metadata": {},
   "outputs": [
    {
     "data": {
      "text/plain": [
       "array([1, 1, 2])"
      ]
     },
     "execution_count": 79,
     "metadata": {},
     "output_type": "execute_result"
    }
   ],
   "source": [
    "d = np.asarray([-1, 1, -2])\n",
    "np.abs(d)"
   ]
  },
  {
   "cell_type": "code",
   "execution_count": 80,
   "id": "0d38fa50-c56f-44da-81b6-058883083510",
   "metadata": {},
   "outputs": [
    {
     "data": {
      "text/plain": [
       "3"
      ]
     },
     "execution_count": 80,
     "metadata": {},
     "output_type": "execute_result"
    }
   ],
   "source": [
    "np.sum(c)"
   ]
  },
  {
   "cell_type": "markdown",
   "id": "19ed89e0-dc0a-42e8-acb7-28b2f82e191b",
   "metadata": {},
   "source": [
    "An especially handy function on boolean arrays (like Matlab's find) is np.nonzero, which finds the index of non-zero values for each dimension."
   ]
  },
  {
   "cell_type": "code",
   "execution_count": 81,
   "id": "584646c3-024a-41e8-ba44-edf81aa78c28",
   "metadata": {},
   "outputs": [
    {
     "data": {
      "text/plain": [
       "(array([0, 2]),)"
      ]
     },
     "execution_count": 81,
     "metadata": {},
     "output_type": "execute_result"
    }
   ],
   "source": [
    "boolean_array = np.asarray([True, False, True])\n",
    "\n",
    "np.nonzero(boolean_array)"
   ]
  },
  {
   "cell_type": "markdown",
   "id": "4bc66b1f-2d3b-4287-b081-25152518ab06",
   "metadata": {},
   "source": [
    "### Array on Array Operations\n",
    "\n",
    "Multiplication of two arrays (\\*) is always element-wise. Pay attention to this Matlab users."
   ]
  },
  {
   "cell_type": "code",
   "execution_count": 82,
   "id": "cacf139c-75a2-4792-8929-5b6b6a6e7571",
   "metadata": {},
   "outputs": [
    {
     "data": {
      "text/plain": [
       "array([1, 1, 1])"
      ]
     },
     "execution_count": 82,
     "metadata": {},
     "output_type": "execute_result"
    }
   ],
   "source": [
    "a"
   ]
  },
  {
   "cell_type": "code",
   "execution_count": 83,
   "id": "9454a012-b949-40c1-8af5-29b8c12ee7a8",
   "metadata": {},
   "outputs": [
    {
     "data": {
      "text/plain": [
       "array([2, 2, 2])"
      ]
     },
     "execution_count": 83,
     "metadata": {},
     "output_type": "execute_result"
    }
   ],
   "source": [
    "a + a"
   ]
  },
  {
   "cell_type": "code",
   "execution_count": 84,
   "id": "09c7b5fb-b9fc-45e3-baa0-29c666b48599",
   "metadata": {},
   "outputs": [
    {
     "data": {
      "text/plain": [
       "array([1, 1, 1])"
      ]
     },
     "execution_count": 84,
     "metadata": {},
     "output_type": "execute_result"
    }
   ],
   "source": [
    "a * a"
   ]
  },
  {
   "cell_type": "code",
   "execution_count": 85,
   "id": "fa0d16b2-6d99-45d5-8978-f7fa9ad89c97",
   "metadata": {},
   "outputs": [
    {
     "data": {
      "text/plain": [
       "array([0, 0, 0])"
      ]
     },
     "execution_count": 85,
     "metadata": {},
     "output_type": "execute_result"
    }
   ],
   "source": [
    "a - a"
   ]
  },
  {
   "cell_type": "markdown",
   "id": "e061b8eb-af0f-49c7-b93f-20040537a059",
   "metadata": {},
   "source": [
    "If you want to do matrix multiplication with arrays, you use the (`@`) symbol. As always with matrix multiplication, you have to pay attention to the dimensions."
   ]
  },
  {
   "cell_type": "code",
   "execution_count": 86,
   "id": "0d94fb12-b5c0-4eb1-ac5a-f9dd136d5099",
   "metadata": {},
   "outputs": [
    {
     "data": {
      "text/plain": [
       "(3,)"
      ]
     },
     "execution_count": 86,
     "metadata": {},
     "output_type": "execute_result"
    }
   ],
   "source": [
    "a.shape"
   ]
  },
  {
   "cell_type": "code",
   "execution_count": 87,
   "id": "b3909c1f-6839-47d5-a346-feb35e5df859",
   "metadata": {},
   "outputs": [
    {
     "data": {
      "text/plain": [
       "3"
      ]
     },
     "execution_count": 87,
     "metadata": {},
     "output_type": "execute_result"
    }
   ],
   "source": [
    "a @ a"
   ]
  },
  {
   "cell_type": "code",
   "execution_count": 88,
   "id": "4991e612-d673-491b-8819-0cb2a1f11c92",
   "metadata": {},
   "outputs": [
    {
     "data": {
      "text/plain": [
       "(2, 3)"
      ]
     },
     "execution_count": 88,
     "metadata": {},
     "output_type": "execute_result"
    }
   ],
   "source": [
    "c = np.asarray([[0, 0, 0],\n",
    "                [1, 1, 1]])\n",
    "c.shape"
   ]
  },
  {
   "cell_type": "markdown",
   "id": "56494dd7-3e45-4f31-abfa-3d6a3dc4d315",
   "metadata": {},
   "source": [
    "Uncomment this and see it fail"
   ]
  },
  {
   "cell_type": "code",
   "execution_count": null,
   "id": "faedff9c-b5d0-4e78-974e-be6859a66997",
   "metadata": {},
   "outputs": [],
   "source": [
    "# c @ c"
   ]
  },
  {
   "cell_type": "code",
   "execution_count": null,
   "id": "23cb32ef-4e32-4220-bccd-1aa92e4b5839",
   "metadata": {},
   "outputs": [],
   "source": [
    "c @ c.T"
   ]
  },
  {
   "cell_type": "markdown",
   "id": "c7fe7148-387c-4b30-b798-f1e737e89e7c",
   "metadata": {},
   "source": [
    "### Array broadcasting\n",
    "\n",
    "Numpy allows arrays of different shapes to be added, subtracted, or multiplied. Numpy will automatically duplicate the missing dimension of the smaller array to be the right size."
   ]
  },
  {
   "cell_type": "code",
   "execution_count": null,
   "id": "2a986139-e665-4f2a-878b-41e71ddff0fe",
   "metadata": {},
   "outputs": [],
   "source": [
    "M = np.ones((3, 3))\n",
    "M"
   ]
  },
  {
   "cell_type": "code",
   "execution_count": null,
   "id": "c788d8c2-7247-42d3-81a1-e18d55d07c22",
   "metadata": {},
   "outputs": [],
   "source": [
    "a = np.array([0, 1, 2])\n",
    "a"
   ]
  },
  {
   "cell_type": "code",
   "execution_count": null,
   "id": "697526c7-da51-4636-ad3f-598b4d191465",
   "metadata": {},
   "outputs": [],
   "source": [
    "M.shape"
   ]
  },
  {
   "cell_type": "code",
   "execution_count": null,
   "id": "1c543fd2-92ec-4566-ae61-2229102803f6",
   "metadata": {},
   "outputs": [],
   "source": [
    "a.shape"
   ]
  },
  {
   "cell_type": "code",
   "execution_count": null,
   "id": "392a6c99-c065-423c-a9ef-d5e76292fa7a",
   "metadata": {},
   "outputs": [],
   "source": [
    "a + M"
   ]
  },
  {
   "cell_type": "code",
   "execution_count": null,
   "id": "c1210530-d3d5-419b-8fc9-9f62b2a6dfe5",
   "metadata": {},
   "outputs": [],
   "source": [
    "(a + M).shape"
   ]
  },
  {
   "cell_type": "markdown",
   "id": "5ae8927e-8840-448a-8c9c-c5bc83f20fa3",
   "metadata": {},
   "source": [
    "This is equivalent to:"
   ]
  },
  {
   "cell_type": "code",
   "execution_count": null,
   "id": "5f4bc98f-337e-48c5-9350-17c2a9dc883d",
   "metadata": {},
   "outputs": [],
   "source": [
    "implicit_a = np.array([[0, 1, 2],\n",
    "                       [0, 1, 2],\n",
    "                       [0, 1, 2]])\n",
    "implicit_a + M"
   ]
  },
  {
   "cell_type": "markdown",
   "id": "63340d52-8299-4582-aeb2-fdd77494fd1a",
   "metadata": {},
   "source": [
    "The rules of broadcasting (copied from Jake VanderPlas' book):\n",
    "\n",
    "Broadcasting in NumPy follows a strict set of rules to determine the interaction between the two arrays:\n",
    "\n",
    "+ Rule 1: If the two arrays differ in their number of dimensions, the shape of the one with fewer dimensions is padded with ones on its leading (left) side.\n",
    "+ Rule 2: If the shape of the two arrays does not match in any dimension, the array with shape equal to 1 in that dimension is stretched to match the other shape.\n",
    "+ Rule 3: If in any dimension the sizes disagree and neither is equal to 1, an error is raised."
   ]
  },
  {
   "cell_type": "code",
   "execution_count": null,
   "id": "efb4d464-8b0f-4770-9f13-cb968404f35d",
   "metadata": {},
   "outputs": [],
   "source": [
    "M = np.ones((3, 2))\n",
    "a = np.arange(3)\n",
    "\n",
    "a, M"
   ]
  },
  {
   "cell_type": "code",
   "execution_count": null,
   "id": "4567010f-2d0e-4c54-88a4-36640bb1fcec",
   "metadata": {},
   "outputs": [],
   "source": [
    "a.shape"
   ]
  },
  {
   "cell_type": "code",
   "execution_count": null,
   "id": "556cbbea-851c-49ce-ae5f-a8948730efd8",
   "metadata": {},
   "outputs": [],
   "source": [
    "M.shape"
   ]
  },
  {
   "cell_type": "markdown",
   "id": "1e166e3e-51ec-4f66-b99b-2519230b6919",
   "metadata": {},
   "source": [
    "This won't work:"
   ]
  },
  {
   "cell_type": "code",
   "execution_count": null,
   "id": "7bae0769-75ed-422c-9514-5a78e22f52ae",
   "metadata": {},
   "outputs": [],
   "source": [
    "# a + M"
   ]
  },
  {
   "cell_type": "markdown",
   "id": "830caaeb-8212-4228-8236-270f47b742b2",
   "metadata": {},
   "source": [
    "We can make it work by adding a new axis"
   ]
  },
  {
   "cell_type": "code",
   "execution_count": null,
   "id": "e7fc70d6-c85c-47a5-a48d-39a04007d7b4",
   "metadata": {},
   "outputs": [],
   "source": [
    "a[:, np.newaxis].shape"
   ]
  },
  {
   "cell_type": "code",
   "execution_count": null,
   "id": "2c92d451-eb81-4f87-89c0-0a6811e4b92d",
   "metadata": {},
   "outputs": [],
   "source": [
    "a[:, np.newaxis] + M"
   ]
  },
  {
   "cell_type": "code",
   "execution_count": null,
   "id": "0d291023-936f-4a00-ac4a-45dfb0f0375f",
   "metadata": {},
   "outputs": [],
   "source": [
    "(a[:, np.newaxis] + M).shape"
   ]
  },
  {
   "cell_type": "code",
   "execution_count": null,
   "id": "20f366ec-6c17-4cdb-95e6-6685a6300376",
   "metadata": {},
   "outputs": [],
   "source": []
  }
 ],
 "metadata": {
  "kernelspec": {
   "display_name": "Python [conda env:franklab_python_tutorial] *",
   "language": "python",
   "name": "conda-env-franklab_python_tutorial-py"
  },
  "language_info": {
   "codemirror_mode": {
    "name": "ipython",
    "version": 3
   },
   "file_extension": ".py",
   "mimetype": "text/x-python",
   "name": "python",
   "nbconvert_exporter": "python",
   "pygments_lexer": "ipython3",
   "version": "3.8.10"
  }
 },
 "nbformat": 4,
 "nbformat_minor": 5
}
