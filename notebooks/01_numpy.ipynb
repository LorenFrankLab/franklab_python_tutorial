{
 "cells": [
  {
   "cell_type": "markdown",
   "id": "d4678dad-18bd-4b61-8836-5a838b2bd058",
   "metadata": {},
   "source": [
    "## Numpy\n",
    "\n",
    "`Numpy` is the main way to deal with numerical data in python. Basic python can be slow (for loops are slow for example). Numpy avoids these problems by using efficient C code behind the scenes.\n",
    "\n",
    "Numpy was developed to be Matlab-like. As such there are many functions named the same thing. However, there are important differences. I will try to point them out here, but a good reference is this numpy guide for Matlab users: https://numpy.org/doc/stable/user/numpy-for-matlab-users.html\n",
    "\n",
    "Also note that much of this tutorial will be a parred down version of Jake VanderPlas' excellent guide *Python Data Science Handbook*, which is available free online here: https://jakevdp.github.io/PythonDataScienceHandbook\n",
    "\n",
    "Let's import the numpy package.\n",
    "\n",
    "Numpy is conventionally renamed to `np` on import. This is widely used by lots of people so it is good to keep following it."
   ]
  },
  {
   "cell_type": "code",
   "execution_count": 1,
   "id": "0b6c6b81-b0f5-45d1-9cab-5cabb5cb86bd",
   "metadata": {},
   "outputs": [],
   "source": [
    "import numpy as np"
   ]
  },
  {
   "cell_type": "markdown",
   "id": "dcb02090-8795-4bd6-a4fd-c98403674fcc",
   "metadata": {},
   "source": [
    "### Arrays\n",
    "\n",
    "The basic unit of numpy is the **numpy array**. Like a `list` it is a container of objects. Unlike a list, it usually contains numbers and this is part of what makes it efficient to use.\n",
    "\n",
    "We can make a numpy array from a list of numbers as follows:"
   ]
  },
  {
   "cell_type": "code",
   "execution_count": 2,
   "id": "cc932022-e402-4888-94f0-978b25174519",
   "metadata": {},
   "outputs": [
    {
     "data": {
      "text/plain": [
       "array([10, 20, 30])"
      ]
     },
     "execution_count": 2,
     "metadata": {},
     "output_type": "execute_result"
    }
   ],
   "source": [
    "a = np.asarray([10, 20, 30])\n",
    "a"
   ]
  },
  {
   "cell_type": "markdown",
   "id": "f06ec023-a9ce-4b8f-b405-1cb929851cbb",
   "metadata": {},
   "source": [
    "Arrays have several important properties:\n",
    "+ `size` is the number of elements in the array.\n",
    "+ `ndim` is the number of dimensions of the array\n",
    "+ `shape` is the number of elements in each dimension\n",
    "+ `dtype` is the type of element in the array. Here are the most common types:\n",
    "    + `int64`: 64-bit integers\n",
    "    + `float64`: double precision floating point numbers\n",
    "    + `bool`: boolean"
   ]
  },
  {
   "cell_type": "code",
   "execution_count": 3,
   "id": "099174ab-acef-4126-bbe2-b1f09f2633bc",
   "metadata": {},
   "outputs": [
    {
     "data": {
      "text/plain": [
       "3"
      ]
     },
     "execution_count": 3,
     "metadata": {},
     "output_type": "execute_result"
    }
   ],
   "source": [
    "a.size"
   ]
  },
  {
   "cell_type": "code",
   "execution_count": 4,
   "id": "1bfbd717-ac04-4b24-a85d-88a63656ae12",
   "metadata": {},
   "outputs": [
    {
     "data": {
      "text/plain": [
       "1"
      ]
     },
     "execution_count": 4,
     "metadata": {},
     "output_type": "execute_result"
    }
   ],
   "source": [
    "a.ndim"
   ]
  },
  {
   "cell_type": "code",
   "execution_count": 5,
   "id": "78721565-d70c-4259-8635-602c5d50eeb2",
   "metadata": {},
   "outputs": [
    {
     "data": {
      "text/plain": [
       "(3,)"
      ]
     },
     "execution_count": 5,
     "metadata": {},
     "output_type": "execute_result"
    }
   ],
   "source": [
    "a.shape"
   ]
  },
  {
   "cell_type": "code",
   "execution_count": 6,
   "id": "824bb478-1d7d-431f-8a54-4db734a646d1",
   "metadata": {},
   "outputs": [
    {
     "data": {
      "text/plain": [
       "dtype('int64')"
      ]
     },
     "execution_count": 6,
     "metadata": {},
     "output_type": "execute_result"
    }
   ],
   "source": [
    "a.dtype"
   ]
  },
  {
   "cell_type": "markdown",
   "id": "6a182023-8457-422b-889b-a15f8160b4f7",
   "metadata": {},
   "source": [
    "We can also look at the size of the array in memory using the `nbytes` property"
   ]
  },
  {
   "cell_type": "code",
   "execution_count": 7,
   "id": "b8ad6d43-1e08-4746-afda-e12808344e4c",
   "metadata": {},
   "outputs": [
    {
     "data": {
      "text/plain": [
       "'24 bytes'"
      ]
     },
     "execution_count": 7,
     "metadata": {},
     "output_type": "execute_result"
    }
   ],
   "source": [
    "f'{a.nbytes} bytes'"
   ]
  },
  {
   "cell_type": "markdown",
   "id": "1cd1506c-0311-426d-8d27-6f184acaf09e",
   "metadata": {},
   "source": [
    "Let's make a multidimensional array and compare:"
   ]
  },
  {
   "cell_type": "code",
   "execution_count": 8,
   "id": "059e4132-7b8b-4655-baf3-593d21af59e6",
   "metadata": {},
   "outputs": [
    {
     "data": {
      "text/plain": [
       "array([[10., 11., 12.],\n",
       "       [20., 21., 22.],\n",
       "       [30., 31., 32.]])"
      ]
     },
     "execution_count": 8,
     "metadata": {},
     "output_type": "execute_result"
    }
   ],
   "source": [
    "b = np.asarray([[10.0, 11.0, 12.0],\n",
    "                [20.0, 21.0, 22.0],\n",
    "                [30.0, 31.0, 32.0]])\n",
    "b"
   ]
  },
  {
   "cell_type": "code",
   "execution_count": 9,
   "id": "8721bf45-45cb-45c9-a534-ab5dea78cb1c",
   "metadata": {},
   "outputs": [
    {
     "data": {
      "text/plain": [
       "9"
      ]
     },
     "execution_count": 9,
     "metadata": {},
     "output_type": "execute_result"
    }
   ],
   "source": [
    "b.size"
   ]
  },
  {
   "cell_type": "code",
   "execution_count": 10,
   "id": "bd13cc51-27fa-427c-a429-d97c70c2c855",
   "metadata": {},
   "outputs": [
    {
     "data": {
      "text/plain": [
       "2"
      ]
     },
     "execution_count": 10,
     "metadata": {},
     "output_type": "execute_result"
    }
   ],
   "source": [
    "b.ndim"
   ]
  },
  {
   "cell_type": "code",
   "execution_count": 11,
   "id": "55571ad5-ab2e-43ac-adf4-8722647b988d",
   "metadata": {},
   "outputs": [
    {
     "data": {
      "text/plain": [
       "(3, 3)"
      ]
     },
     "execution_count": 11,
     "metadata": {},
     "output_type": "execute_result"
    }
   ],
   "source": [
    "b.shape"
   ]
  },
  {
   "cell_type": "code",
   "execution_count": 12,
   "id": "e43d42b7-60ed-4365-a2c1-4e98f2b83177",
   "metadata": {},
   "outputs": [
    {
     "data": {
      "text/plain": [
       "dtype('float64')"
      ]
     },
     "execution_count": 12,
     "metadata": {},
     "output_type": "execute_result"
    }
   ],
   "source": [
    "b.dtype"
   ]
  },
  {
   "cell_type": "code",
   "execution_count": 13,
   "id": "29eb74a2-7b9a-4c0c-946f-480fd6c0523f",
   "metadata": {},
   "outputs": [
    {
     "data": {
      "text/plain": [
       "'72 bytes'"
      ]
     },
     "execution_count": 13,
     "metadata": {},
     "output_type": "execute_result"
    }
   ],
   "source": [
    "f'{b.nbytes} bytes'"
   ]
  },
  {
   "cell_type": "markdown",
   "id": "7f4fc4ca-0747-4a40-b32d-eba20205e533",
   "metadata": {},
   "source": [
    "We can see that this array has two dimensions with three elements each. The array takes up more space in memory because it has more elements and because it is of type `float64` (floating point numbers take up more space than integers)."
   ]
  },
  {
   "cell_type": "markdown",
   "id": "670a334f-7003-4a4d-bc37-5aed0d83347e",
   "metadata": {},
   "source": [
    "### Indexing into numpy arrays\n",
    "\n",
    "Indexing into numpy arrays is very similar to indexing into lists, except we have to deal with the dimensions of the array."
   ]
  },
  {
   "cell_type": "code",
   "execution_count": 14,
   "id": "024f7451-83cf-4d99-811e-af75fbacf79f",
   "metadata": {},
   "outputs": [
    {
     "data": {
      "text/plain": [
       "array([[10., 11., 12.],\n",
       "       [20., 21., 22.],\n",
       "       [30., 31., 32.]])"
      ]
     },
     "execution_count": 14,
     "metadata": {},
     "output_type": "execute_result"
    }
   ],
   "source": [
    "b"
   ]
  },
  {
   "cell_type": "code",
   "execution_count": 15,
   "id": "67ba0ca5-ddc5-4e09-bbf9-2f54e8d7c032",
   "metadata": {},
   "outputs": [
    {
     "data": {
      "text/plain": [
       "10.0"
      ]
     },
     "execution_count": 15,
     "metadata": {},
     "output_type": "execute_result"
    }
   ],
   "source": [
    "b[0, 0]"
   ]
  },
  {
   "cell_type": "code",
   "execution_count": 16,
   "id": "82b7781f-bd5e-4b66-b981-4bd5aabea8a9",
   "metadata": {},
   "outputs": [
    {
     "data": {
      "text/plain": [
       "20.0"
      ]
     },
     "execution_count": 16,
     "metadata": {},
     "output_type": "execute_result"
    }
   ],
   "source": [
    "b[1, 0]"
   ]
  },
  {
   "cell_type": "code",
   "execution_count": 17,
   "id": "4d468884-84ea-4f29-8c18-ba0836813ef3",
   "metadata": {},
   "outputs": [
    {
     "data": {
      "text/plain": [
       "30.0"
      ]
     },
     "execution_count": 17,
     "metadata": {},
     "output_type": "execute_result"
    }
   ],
   "source": [
    "b[2, 0]"
   ]
  },
  {
   "cell_type": "code",
   "execution_count": 18,
   "id": "88817534-7db9-4ab4-8581-4d49f68d66fe",
   "metadata": {},
   "outputs": [
    {
     "data": {
      "text/plain": [
       "11.0"
      ]
     },
     "execution_count": 18,
     "metadata": {},
     "output_type": "execute_result"
    }
   ],
   "source": [
    "b[0, 1]"
   ]
  },
  {
   "cell_type": "code",
   "execution_count": 19,
   "id": "220a30dd-026b-47d4-9434-cd7c17bb0b05",
   "metadata": {},
   "outputs": [
    {
     "data": {
      "text/plain": [
       "12.0"
      ]
     },
     "execution_count": 19,
     "metadata": {},
     "output_type": "execute_result"
    }
   ],
   "source": [
    "b[0, 2]"
   ]
  },
  {
   "cell_type": "markdown",
   "id": "dddce083-30c5-4baf-b746-b9c8778fcaa9",
   "metadata": {},
   "source": [
    "Like in lists, we can use the colons to give us several elements of a dimension using `array[start:stop:step]`\n",
    "\n",
    "We can also omit start, stop, and step for convenience. For example:"
   ]
  },
  {
   "cell_type": "code",
   "execution_count": 20,
   "id": "82057d26-e85a-4844-80cf-af2abf7a0dc6",
   "metadata": {},
   "outputs": [
    {
     "data": {
      "text/plain": [
       "array([10., 11., 12.])"
      ]
     },
     "execution_count": 20,
     "metadata": {},
     "output_type": "execute_result"
    }
   ],
   "source": [
    "b[0, 0:3:1]"
   ]
  },
  {
   "cell_type": "markdown",
   "id": "4d056d89-00fc-48d5-be31-1f741ef22452",
   "metadata": {},
   "source": [
    "This is the same as:"
   ]
  },
  {
   "cell_type": "code",
   "execution_count": 21,
   "id": "3bc70700-1d78-4815-af68-3901657c835d",
   "metadata": {},
   "outputs": [
    {
     "data": {
      "text/plain": [
       "array([10., 11., 12.])"
      ]
     },
     "execution_count": 21,
     "metadata": {},
     "output_type": "execute_result"
    }
   ],
   "source": [
    "b[0, :]"
   ]
  },
  {
   "cell_type": "markdown",
   "id": "621f6a20-4bd5-4d3f-b060-17ca6fafd0d6",
   "metadata": {},
   "source": [
    "We can do it for the other dimensions as well:"
   ]
  },
  {
   "cell_type": "code",
   "execution_count": 22,
   "id": "1f99b8f5-6266-4794-9b36-3f403b3e85ac",
   "metadata": {},
   "outputs": [
    {
     "data": {
      "text/plain": [
       "array([10., 20., 30.])"
      ]
     },
     "execution_count": 22,
     "metadata": {},
     "output_type": "execute_result"
    }
   ],
   "source": [
    "b[:, 0]"
   ]
  },
  {
   "cell_type": "code",
   "execution_count": 23,
   "id": "a1dfba5b-09da-483c-a158-561b30cf06f1",
   "metadata": {},
   "outputs": [
    {
     "data": {
      "text/plain": [
       "array([11., 21., 31.])"
      ]
     },
     "execution_count": 23,
     "metadata": {},
     "output_type": "execute_result"
    }
   ],
   "source": [
    "b[:, 1]"
   ]
  },
  {
   "cell_type": "markdown",
   "id": "1507cb2e-6eea-46b5-b483-37d576b8b015",
   "metadata": {},
   "source": [
    "You can omit the colon if it's the first dimension"
   ]
  },
  {
   "cell_type": "code",
   "execution_count": 24,
   "id": "98f4a50a-f7bb-4337-978f-80ca418dbfcf",
   "metadata": {},
   "outputs": [
    {
     "data": {
      "text/plain": [
       "array([10., 11., 12.])"
      ]
     },
     "execution_count": 24,
     "metadata": {},
     "output_type": "execute_result"
    }
   ],
   "source": [
    "b[0]"
   ]
  },
  {
   "cell_type": "code",
   "execution_count": 25,
   "id": "17f52812-55cf-4cce-ae99-0385a92953a2",
   "metadata": {},
   "outputs": [
    {
     "data": {
      "text/plain": [
       "array([10., 11., 12.])"
      ]
     },
     "execution_count": 25,
     "metadata": {},
     "output_type": "execute_result"
    }
   ],
   "source": [
    "b[0, :]"
   ]
  },
  {
   "cell_type": "markdown",
   "id": "3e9e67ce-bedb-4dc2-8c1b-c4a8ea9abdd0",
   "metadata": {},
   "source": [
    "You can also reverse elements of the array like in lists using step"
   ]
  },
  {
   "cell_type": "code",
   "execution_count": 26,
   "id": "57fd6dd4-ca0b-4321-b28e-058db7ad317c",
   "metadata": {},
   "outputs": [
    {
     "data": {
      "text/plain": [
       "array([10., 11., 12.])"
      ]
     },
     "execution_count": 26,
     "metadata": {},
     "output_type": "execute_result"
    }
   ],
   "source": [
    "b[0]"
   ]
  },
  {
   "cell_type": "code",
   "execution_count": 27,
   "id": "f4f1eefe-76a2-435c-8195-c304235e8573",
   "metadata": {},
   "outputs": [
    {
     "data": {
      "text/plain": [
       "array([12., 11., 10.])"
      ]
     },
     "execution_count": 27,
     "metadata": {},
     "output_type": "execute_result"
    }
   ],
   "source": [
    "b[0, ::-1]"
   ]
  },
  {
   "cell_type": "markdown",
   "id": "a8592935-7328-42ce-9a6f-122ee237c08b",
   "metadata": {},
   "source": [
    "You can also index into two dimensions at once"
   ]
  },
  {
   "cell_type": "code",
   "execution_count": 28,
   "id": "50a6172b-72fb-4df2-ae88-d3a9d86dd456",
   "metadata": {},
   "outputs": [
    {
     "data": {
      "text/plain": [
       "array([[10., 11., 12.],\n",
       "       [20., 21., 22.],\n",
       "       [30., 31., 32.]])"
      ]
     },
     "execution_count": 28,
     "metadata": {},
     "output_type": "execute_result"
    }
   ],
   "source": [
    "b"
   ]
  },
  {
   "cell_type": "code",
   "execution_count": 29,
   "id": "043a6d50-ce5e-4e1b-b5c6-16a663ff84ee",
   "metadata": {},
   "outputs": [
    {
     "data": {
      "text/plain": [
       "array([[10., 12.],\n",
       "       [30., 32.]])"
      ]
     },
     "execution_count": 29,
     "metadata": {},
     "output_type": "execute_result"
    }
   ],
   "source": [
    "b[::2, ::2]"
   ]
  },
  {
   "cell_type": "code",
   "execution_count": 30,
   "id": "d6f34ce7-4b23-4467-b376-7bb891b6fb06",
   "metadata": {},
   "outputs": [
    {
     "data": {
      "text/plain": [
       "array([[10., 11.],\n",
       "       [20., 21.]])"
      ]
     },
     "execution_count": 30,
     "metadata": {},
     "output_type": "execute_result"
    }
   ],
   "source": [
    "b[:2, :2]"
   ]
  },
  {
   "cell_type": "markdown",
   "id": "e2741b57-558c-4409-a4eb-948c5459c7b3",
   "metadata": {},
   "source": [
    "### Modifying existing arrays\n",
    "\n",
    "Like lists, you can also modify elements of the array using indexing"
   ]
  },
  {
   "cell_type": "code",
   "execution_count": 31,
   "id": "2cb0c05f-47bf-4501-affd-854d24071a75",
   "metadata": {},
   "outputs": [
    {
     "data": {
      "text/plain": [
       "array([[10., 11., 12.],\n",
       "       [20., 21., 22.],\n",
       "       [30., 31., 32.]])"
      ]
     },
     "execution_count": 31,
     "metadata": {},
     "output_type": "execute_result"
    }
   ],
   "source": [
    "b"
   ]
  },
  {
   "cell_type": "code",
   "execution_count": 32,
   "id": "a75fd6a7-07ac-4b95-9bbb-9264faad13a7",
   "metadata": {},
   "outputs": [
    {
     "data": {
      "text/plain": [
       "array([[ 9., 11., 12.],\n",
       "       [20., 21., 22.],\n",
       "       [30., 31., 32.]])"
      ]
     },
     "execution_count": 32,
     "metadata": {},
     "output_type": "execute_result"
    }
   ],
   "source": [
    "b[0, 0] = 9\n",
    "b"
   ]
  },
  {
   "cell_type": "code",
   "execution_count": 33,
   "id": "359a4d8c-abea-46e9-8e51-44443a1a39db",
   "metadata": {},
   "outputs": [
    {
     "data": {
      "text/plain": [
       "array([[ 9., 11.,  2.],\n",
       "       [20., 21.,  2.],\n",
       "       [30., 31.,  2.]])"
      ]
     },
     "execution_count": 33,
     "metadata": {},
     "output_type": "execute_result"
    }
   ],
   "source": [
    "b[:, 2] = 2\n",
    "b"
   ]
  },
  {
   "cell_type": "code",
   "execution_count": 34,
   "id": "794e740f-cb69-48c1-b6ec-648a3a3700f0",
   "metadata": {},
   "outputs": [
    {
     "data": {
      "text/plain": [
       "array([[ 9., 11.,  1.],\n",
       "       [20., 21.,  2.],\n",
       "       [30., 31.,  3.]])"
      ]
     },
     "execution_count": 34,
     "metadata": {},
     "output_type": "execute_result"
    }
   ],
   "source": [
    "b[:, 2] = [1, 2, 3]\n",
    "b"
   ]
  },
  {
   "cell_type": "markdown",
   "id": "f33a902f-8d63-4414-bea9-07c7d0e21331",
   "metadata": {},
   "source": [
    "You can add a new dimension to the array by using `np.newaxis`"
   ]
  },
  {
   "cell_type": "code",
   "execution_count": 35,
   "id": "65ff7537-9626-4128-a26f-cf8a05b60fe0",
   "metadata": {},
   "outputs": [
    {
     "data": {
      "text/plain": [
       "(3, 3)"
      ]
     },
     "execution_count": 35,
     "metadata": {},
     "output_type": "execute_result"
    }
   ],
   "source": [
    "b.shape"
   ]
  },
  {
   "cell_type": "code",
   "execution_count": 36,
   "id": "025b68a4-e698-46f0-9289-ba2749ed32e0",
   "metadata": {},
   "outputs": [
    {
     "data": {
      "text/plain": [
       "(3, 3, 1)"
      ]
     },
     "execution_count": 36,
     "metadata": {},
     "output_type": "execute_result"
    }
   ],
   "source": [
    "b[:, :, np.newaxis].shape"
   ]
  },
  {
   "cell_type": "markdown",
   "id": "0edfd19a-8486-48e2-8aa9-1fdc21c135c7",
   "metadata": {},
   "source": [
    "#### Reshaping arrays"
   ]
  },
  {
   "cell_type": "code",
   "execution_count": 37,
   "id": "4b5f754e-5fff-4d06-902a-db0adc59d21c",
   "metadata": {},
   "outputs": [
    {
     "data": {
      "text/plain": [
       "array([[0, 0, 0],\n",
       "       [1, 1, 1]])"
      ]
     },
     "execution_count": 37,
     "metadata": {},
     "output_type": "execute_result"
    }
   ],
   "source": [
    "c = np.asarray([[0, 0, 0],\n",
    "                [1, 1, 1]])\n",
    "c"
   ]
  },
  {
   "cell_type": "code",
   "execution_count": 38,
   "id": "d6821c53-a5b8-45c1-a708-078e37a49b60",
   "metadata": {},
   "outputs": [
    {
     "data": {
      "text/plain": [
       "(2, 3)"
      ]
     },
     "execution_count": 38,
     "metadata": {},
     "output_type": "execute_result"
    }
   ],
   "source": [
    "c.shape"
   ]
  },
  {
   "cell_type": "code",
   "execution_count": 39,
   "id": "e114947d-b8c5-4537-b4af-3784ba3f0477",
   "metadata": {},
   "outputs": [
    {
     "data": {
      "text/plain": [
       "array([[0, 0],\n",
       "       [0, 1],\n",
       "       [1, 1]])"
      ]
     },
     "execution_count": 39,
     "metadata": {},
     "output_type": "execute_result"
    }
   ],
   "source": [
    "c.reshape((3, 2))"
   ]
  },
  {
   "cell_type": "code",
   "execution_count": 40,
   "id": "38e3c115-8b0f-42d9-b2a6-65d0e271bb32",
   "metadata": {},
   "outputs": [
    {
     "data": {
      "text/plain": [
       "(3, 2)"
      ]
     },
     "execution_count": 40,
     "metadata": {},
     "output_type": "execute_result"
    }
   ],
   "source": [
    "c.reshape((3, 2)).shape"
   ]
  },
  {
   "cell_type": "code",
   "execution_count": 41,
   "id": "38fbc579-afcc-4893-bddc-7c71da9a8cc1",
   "metadata": {},
   "outputs": [
    {
     "data": {
      "text/plain": [
       "array([0, 0, 0, 1, 1, 1])"
      ]
     },
     "execution_count": 41,
     "metadata": {},
     "output_type": "execute_result"
    }
   ],
   "source": [
    "c.reshape((6,))"
   ]
  },
  {
   "cell_type": "code",
   "execution_count": 42,
   "id": "39d5be3f-b4a6-4c7f-97b2-55a20fa5257e",
   "metadata": {},
   "outputs": [
    {
     "data": {
      "text/plain": [
       "array([0, 0, 0, 1, 1, 1])"
      ]
     },
     "execution_count": 42,
     "metadata": {},
     "output_type": "execute_result"
    }
   ],
   "source": [
    "c.flatten()"
   ]
  },
  {
   "cell_type": "markdown",
   "id": "e7ee0029-9d57-486f-97bf-47e2f3a94afd",
   "metadata": {},
   "source": [
    "### Joining arrays\n",
    "\n",
    "Use the functions `np.concatenate` and `np.stack` to join arrays together.\n",
    "\n",
    "Notice that these each take an `axis` keyword argument to specify which dimensions to combine the arrays."
   ]
  },
  {
   "cell_type": "code",
   "execution_count": 48,
   "id": "4fcf38ba-69a8-4e61-a45d-0033e1a5f50d",
   "metadata": {},
   "outputs": [],
   "source": [
    "a = np.asarray([1, 1, 1])\n",
    "b = np.asarray([0, 0, 0])"
   ]
  },
  {
   "cell_type": "code",
   "execution_count": 49,
   "id": "6651f101-b9ac-46d0-b571-fd08c826d75b",
   "metadata": {},
   "outputs": [
    {
     "data": {
      "text/plain": [
       "array([1, 1, 1])"
      ]
     },
     "execution_count": 49,
     "metadata": {},
     "output_type": "execute_result"
    }
   ],
   "source": [
    "a"
   ]
  },
  {
   "cell_type": "code",
   "execution_count": 50,
   "id": "9253d3a8-0cfc-41d0-ba4d-dc5ce34561b5",
   "metadata": {},
   "outputs": [
    {
     "data": {
      "text/plain": [
       "array([0, 0, 0])"
      ]
     },
     "execution_count": 50,
     "metadata": {},
     "output_type": "execute_result"
    }
   ],
   "source": [
    "b"
   ]
  },
  {
   "cell_type": "code",
   "execution_count": 51,
   "id": "f835c8c9-1659-4e57-84f4-18e6f540627d",
   "metadata": {},
   "outputs": [
    {
     "data": {
      "text/plain": [
       "(3,)"
      ]
     },
     "execution_count": 51,
     "metadata": {},
     "output_type": "execute_result"
    }
   ],
   "source": [
    "a.shape"
   ]
  },
  {
   "cell_type": "code",
   "execution_count": 52,
   "id": "489b4d0e-3b13-4b5f-b998-7a984a864f53",
   "metadata": {},
   "outputs": [
    {
     "data": {
      "text/plain": [
       "(3,)"
      ]
     },
     "execution_count": 52,
     "metadata": {},
     "output_type": "execute_result"
    }
   ],
   "source": [
    "b.shape"
   ]
  },
  {
   "cell_type": "code",
   "execution_count": 54,
   "id": "268bb2ca-dccb-4228-aaff-3bac5ce836c8",
   "metadata": {},
   "outputs": [
    {
     "data": {
      "text/plain": [
       "array([1, 1, 1, 0, 0, 0])"
      ]
     },
     "execution_count": 54,
     "metadata": {},
     "output_type": "execute_result"
    }
   ],
   "source": [
    "c = np.concatenate((a, b), axis=0)\n",
    "\n",
    "c"
   ]
  },
  {
   "cell_type": "code",
   "execution_count": 55,
   "id": "f0a73703-d647-4e8b-b653-fd7a4f7cd6d2",
   "metadata": {},
   "outputs": [
    {
     "data": {
      "text/plain": [
       "(6,)"
      ]
     },
     "execution_count": 55,
     "metadata": {},
     "output_type": "execute_result"
    }
   ],
   "source": [
    "c.shape"
   ]
  },
  {
   "cell_type": "code",
   "execution_count": 61,
   "id": "aa735175-c14e-4d9b-a9c8-5b6fb5ba81ba",
   "metadata": {},
   "outputs": [],
   "source": [
    "# np.concatenate((a, b), axis=1)"
   ]
  },
  {
   "cell_type": "code",
   "execution_count": 56,
   "id": "6319208a-f932-4f1a-afad-3e80e2857d05",
   "metadata": {},
   "outputs": [
    {
     "data": {
      "text/plain": [
       "array([[1, 0],\n",
       "       [1, 0],\n",
       "       [1, 0]])"
      ]
     },
     "execution_count": 56,
     "metadata": {},
     "output_type": "execute_result"
    }
   ],
   "source": [
    "np.concatenate((a[:, np.newaxis], b[:, np.newaxis]), axis=1)"
   ]
  },
  {
   "cell_type": "code",
   "execution_count": 57,
   "id": "0d24db32-2ded-45c8-86a7-057c26c1d499",
   "metadata": {},
   "outputs": [
    {
     "data": {
      "text/plain": [
       "(3, 2)"
      ]
     },
     "execution_count": 57,
     "metadata": {},
     "output_type": "execute_result"
    }
   ],
   "source": [
    "np.concatenate((a[:, np.newaxis], b[:, np.newaxis]), axis=1).shape"
   ]
  },
  {
   "cell_type": "markdown",
   "id": "e7e8764c-699e-4913-8286-b11390737717",
   "metadata": {},
   "source": [
    "`stack` is just like concatenate but it automatically adds a new axis"
   ]
  },
  {
   "cell_type": "code",
   "execution_count": 58,
   "id": "befe19d4-97c9-4f82-a4f0-f2178a093a70",
   "metadata": {},
   "outputs": [
    {
     "data": {
      "text/plain": [
       "array([[1, 1, 1],\n",
       "       [0, 0, 0]])"
      ]
     },
     "execution_count": 58,
     "metadata": {},
     "output_type": "execute_result"
    }
   ],
   "source": [
    "np.stack((a, b), axis=0)"
   ]
  },
  {
   "cell_type": "code",
   "execution_count": 59,
   "id": "15189157-8678-42b2-ad17-5cd480a4a334",
   "metadata": {},
   "outputs": [
    {
     "data": {
      "text/plain": [
       "array([[1, 0],\n",
       "       [1, 0],\n",
       "       [1, 0]])"
      ]
     },
     "execution_count": 59,
     "metadata": {},
     "output_type": "execute_result"
    }
   ],
   "source": [
    "np.stack((a, b), axis=1)"
   ]
  },
  {
   "cell_type": "markdown",
   "id": "96273fd8-3376-44fd-a9b4-405f90d2b76a",
   "metadata": {},
   "source": [
    "### Universal Functions\n",
    "\n",
    "You can apply functions for all elements of an array."
   ]
  },
  {
   "cell_type": "code",
   "execution_count": 62,
   "id": "b41f0839-6284-4769-ab15-d22c27684b9d",
   "metadata": {},
   "outputs": [
    {
     "data": {
      "text/plain": [
       "array([1, 1, 1])"
      ]
     },
     "execution_count": 62,
     "metadata": {},
     "output_type": "execute_result"
    }
   ],
   "source": [
    "a"
   ]
  },
  {
   "cell_type": "code",
   "execution_count": 63,
   "id": "c7d49c72-1dff-47a3-9fce-83ee213b37ae",
   "metadata": {},
   "outputs": [
    {
     "data": {
      "text/plain": [
       "array([0., 0., 0.])"
      ]
     },
     "execution_count": 63,
     "metadata": {},
     "output_type": "execute_result"
    }
   ],
   "source": [
    "np.log(a)"
   ]
  },
  {
   "cell_type": "code",
   "execution_count": 64,
   "id": "4cf24e61-38dc-4b53-a453-375f4ff85408",
   "metadata": {},
   "outputs": [
    {
     "data": {
      "text/plain": [
       "array([3, 3, 3])"
      ]
     },
     "execution_count": 64,
     "metadata": {},
     "output_type": "execute_result"
    }
   ],
   "source": [
    "a * 3"
   ]
  },
  {
   "cell_type": "code",
   "execution_count": 65,
   "id": "26f991aa-fcd2-4aab-b2cb-4b0d4e68349a",
   "metadata": {},
   "outputs": [
    {
     "data": {
      "text/plain": [
       "array([-2, -2, -2])"
      ]
     },
     "execution_count": 65,
     "metadata": {},
     "output_type": "execute_result"
    }
   ],
   "source": [
    "a - 3"
   ]
  },
  {
   "cell_type": "code",
   "execution_count": null,
   "id": "70c2d087-a81c-4f94-850b-5d178026d479",
   "metadata": {},
   "outputs": [],
   "source": []
  }
 ],
 "metadata": {
  "kernelspec": {
   "display_name": "Python [conda env:franklab_python_tutorial] *",
   "language": "python",
   "name": "conda-env-franklab_python_tutorial-py"
  },
  "language_info": {
   "codemirror_mode": {
    "name": "ipython",
    "version": 3
   },
   "file_extension": ".py",
   "mimetype": "text/x-python",
   "name": "python",
   "nbconvert_exporter": "python",
   "pygments_lexer": "ipython3",
   "version": "3.8.10"
  }
 },
 "nbformat": 4,
 "nbformat_minor": 5
}
